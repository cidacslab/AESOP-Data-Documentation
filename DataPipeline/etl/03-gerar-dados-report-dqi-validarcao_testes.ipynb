{
 "cells": [
  {
   "cell_type": "code",
   "execution_count": null,
   "id": "4ef039d5-79c4-4381-8070-038a2898f835",
   "metadata": {},
   "outputs": [],
   "source": [
    "%region us-east-1\n",
    "%iam_role #setar\n",
    "%idle_timeout 30\n",
    "%glue_version 4.0\n",
    "%worker_type G.1X\n",
    "%number_of_workers 5\n",
    "\n",
    "#%additional_python_modules s3://fiocruz-datalake-bucket/raw/aesop/dados_auxiliares/python_utils/teste.py\n",
    "%extra_py_files s3://fiocruz-datalake-bucket/raw/aesop/dados_auxiliares/python_utils/util_custom.py\n",
    "%additional_python_modules s3://fiocruz-datalake-bucket/raw/aesop/dados_auxiliares/epiweeks-2.3.0-py3-none-any.whl\n",
    "\n",
    "\n",
    "import sys\n",
    "from awsglue.transforms import *\n",
    "from awsglue.utils import getResolvedOptions\n",
    "from pyspark.context import SparkContext\n",
    "from awsglue.context import GlueContext\n",
    "from awsglue.job import Job\n",
    "  \n",
    "sc = SparkContext.getOrCreate()\n",
    "glueContext = GlueContext(sc)\n",
    "spark = glueContext.spark_session\n",
    "job = Job(glueContext)"
   ]
  },
  {
   "cell_type": "code",
   "execution_count": null,
   "id": "ede261c2-76c9-4199-b0c1-62186e893694",
   "metadata": {},
   "outputs": [],
   "source": [
    "from util_custom import *\n",
    "from pyspark.sql import functions as F\n",
    "from pyspark.sql.types import *\n",
    "import os\n",
    "from datetime import datetime, timedelta\n",
    "from pyspark.sql.window import Window\n",
    "from epiweeks import Week\n",
    "\n",
    "import boto3\n",
    "from botocore.exceptions import ClientError\n",
    "\n",
    "def create_folder_in_specific_location(bucket_name, full_folder_path):\n",
    "    # Adiciona uma barra ao final do caminho da pasta, se não houver\n",
    "    if not full_folder_path.endswith('/'):\n",
    "        full_folder_path += '/'\n",
    "    \n",
    "    s3 = boto3.resource('s3')\n",
    "    bucket = s3.Bucket(bucket_name)\n",
    "    \n",
    "    # Verifica se a pasta já existe\n",
    "    objs = list(bucket.objects.filter(Prefix=full_folder_path))\n",
    "    if any(obj.key == full_folder_path for obj in objs):\n",
    "        print(f\"A pasta '{full_folder_path}' já existe no bucket '{bucket_name}'.\")\n",
    "    else:\n",
    "        # Tenta criar a pasta (objeto S3 com chave terminando em '/')\n",
    "        try:\n",
    "            s3.Object(bucket_name, full_folder_path).put(Body=b'')\n",
    "            print(f\"Pasta '{full_folder_path}' criada com sucesso no bucket '{bucket_name}'.\")\n",
    "        except ClientError as e:\n",
    "            print(f\"Erro ao criar a pasta: {e}\")\n",
    "\n",
    "\n",
    "def list_all_files_in_folders_s3(bucket_name, prefix):\n",
    "    \"\"\"\n",
    "    Lista todos os arquivos dentro de todas as subpastas de um prefixo específico em um bucket S3.\n",
    "\n",
    "    :param bucket_name: Nome do bucket S3.\n",
    "    :param prefix: Prefixo dentro do bucket onde as subpastas estão localizadas.\n",
    "    :return: Uma lista de nomes de arquivos dentro de todas as subpastas sob o prefixo especificado.\n",
    "    \"\"\"\n",
    "    s3 = boto3.client('s3')\n",
    "    all_files = []\n",
    "\n",
    "    # Garante que o prefixo termine com uma barra, se já não terminar.\n",
    "    if not prefix.endswith('/'):\n",
    "        prefix += '/'\n",
    "\n",
    "    # Lista todas as 'subpastas' dentro do prefixo.\n",
    "    response = s3.list_objects_v2(Bucket=bucket_name, Prefix=prefix, Delimiter='/')\n",
    "\n",
    "    subfolders = []\n",
    "    if 'CommonPrefixes' in response:\n",
    "        for folder in response['CommonPrefixes']:\n",
    "            subfolders.append(folder['Prefix'])\n",
    "\n",
    "    # Para cada subpasta, lista todos os arquivos dentro dela.\n",
    "    for folder_name in subfolders:\n",
    "        resp = s3.list_objects_v2(Bucket=bucket_name, Prefix=folder_name)\n",
    "        if 'Contents' in resp:\n",
    "            for file in resp['Contents']:\n",
    "                # Adiciona o nome do arquivo à lista\n",
    "                all_files.append(file['Key'])\n",
    "    data_max = sorted(all_files)[-1][-12:-4]\n",
    "    return data_max\n",
    "\n",
    "\n",
    "\n",
    "\n",
    "# Exemplo de uso\n",
    "bucket_name = 'fiocruz-datalake-bucket'\n"
   ]
  },
  {
   "cell_type": "markdown",
   "id": "115c00a1-6172-49e5-a147-4a8323957f7c",
   "metadata": {},
   "source": [
    "#### leitura banco HPC"
   ]
  },
  {
   "cell_type": "code",
   "execution_count": null,
   "id": "7cb759ba-4486-41a0-a272-2ba4e6c065cc",
   "metadata": {},
   "outputs": [],
   "source": [
    "#aesop_2017_2024 = spark.read.parquet(aesop_hpc_path+get_hpc_parquet_file_name())\n",
    "#aesop_hpc_path+get_hpc_parquet_file_name()\n",
    "# aesop_2017_2024 = spark.read.parquet('/dados10t/datalake/standard/aesop/aesop_hpc/2017_20240107_AESOP.parquet/')\n",
    "\n",
    "aesop_2017_2024 = spark.read.parquet(\"s3://fiocruz-datalake-bucket/standard/output_hpc/2017_20240331_AESOP.parquet\")"
   ]
  },
  {
   "cell_type": "code",
   "execution_count": null,
   "id": "c2f14ee7-4f05-4793-bb19-9c91f7773e3f",
   "metadata": {},
   "outputs": [],
   "source": [
    "max_ano = aesop_2017_2024.agg(F.max(\"ano\")).collect()[0][0]\n",
    "semana_folder = aesop_2017_2024.filter(F.col(\"ano\") == max_ano).agg(F.max(\"epiweek\")).collect()[0][0]\n",
    "semana_folder"
   ]
  },
  {
   "cell_type": "code",
   "execution_count": null,
   "id": "66dd492d-7ec4-4407-84d4-7b8e535902d7",
   "metadata": {},
   "outputs": [],
   "source": [
    "aesop_report_folder  = \"standard/reports/report_dqi/\""
   ]
  },
  {
   "cell_type": "code",
   "execution_count": null,
   "id": "993b2bb3-9ff4-4d99-892e-dd378674712e",
   "metadata": {},
   "outputs": [],
   "source": [
    "#caminho_pasta = aesop_report_folder+\"semana_\"+str(semana_folder)+\"_\"+str(max_ano)\n",
    "#caminho_pasta\n",
    "#create_folder_in_specific_location(bucket_name,caminho_pasta)"
   ]
  },
  {
   "cell_type": "markdown",
   "id": "753b4c80-709a-477b-86ac-4d1e8cf2282f",
   "metadata": {},
   "source": [
    "#### leitura banco raw parquet"
   ]
  },
  {
   "cell_type": "code",
   "execution_count": null,
   "id": "1189f3bc-cfcc-4741-a528-3cd04dedd93a",
   "metadata": {},
   "outputs": [],
   "source": [
    "#df = spark.read.parquet(aesop_parquet_path+get_parquet_file_name())\n",
    "#aesop_parquet_path+get_parquet_file_name()\n",
    "# df = spark.read.parquet('/dados10t/datalake/raw/aesop/parquet_explorer/aesop_dados_2017_20240107.parquet/')\n",
    "df = spark.read.parquet(\"s3://fiocruz-datalake-bucket/raw/aesop/dados-ms-parquet/aesop_dados_2017_20240331.parquet/\")"
   ]
  },
  {
   "cell_type": "code",
   "execution_count": null,
   "id": "55aaba51-1a89-48e3-9cd6-348557f56d50",
   "metadata": {},
   "outputs": [],
   "source": [
    "df.show()"
   ]
  },
  {
   "cell_type": "code",
   "execution_count": null,
   "id": "d09c51db-a3f9-43c4-b43b-cb9b13c58413",
   "metadata": {},
   "outputs": [],
   "source": [
    "df.count()"
   ]
  },
  {
   "cell_type": "code",
   "execution_count": null,
   "id": "b8ff3a08-5493-48cf-ae05-f9bea4941847",
   "metadata": {},
   "outputs": [],
   "source": [
    "df = df.filter((F.col(\"FX_ETARIA\")).isNotNull()).filter(F.col(\"ANO\") >= 2017)\n",
    "df_v2 = df.select(\"ANO\",\"SEMANA\",\"SG_UF\",\"CO_MUNICIPIO_IBGE\",\"SEXO\",\"FX_ETARIA\",\"CIDCIAP\",\"QT\",\"Data_folder\")"
   ]
  },
  {
   "cell_type": "code",
   "execution_count": null,
   "id": "36d68195-85a5-4829-b2c9-98484db3925b",
   "metadata": {},
   "outputs": [],
   "source": [
    "df_v2.count()"
   ]
  },
  {
   "cell_type": "code",
   "execution_count": null,
   "id": "b6229610-e74d-4a9a-a6c2-e7c758cd3f3f",
   "metadata": {
    "tags": []
   },
   "outputs": [],
   "source": [
    "#df_v2.filter(F.col(\"ANO\") == 2023).show(5000,False)"
   ]
  },
  {
   "cell_type": "markdown",
   "id": "1229dc38-4ef0-4df7-9e70-455b6b48bb95",
   "metadata": {},
   "source": [
    "#### converter cid_ciap"
   ]
  },
  {
   "cell_type": "code",
   "execution_count": null,
   "id": "471aabbd-f3e2-45e8-ae4e-94527757d6f0",
   "metadata": {},
   "outputs": [],
   "source": [
    "df_v3 = df_v2\\\n",
    ".withColumn(\"Tipo_CIDCIAP\", F.substring_index(df_v2.CIDCIAP, '(', 1))\\\n",
    ".withColumn(\"Codigo_CIDCIAP\", F.substring_index(df_v2.CIDCIAP, '(', -1))\n",
    "\n",
    "df_v3 = df_v3.withColumn('Codigo_CIDCIAP', F.concat(F.lit(\"(\"), F.col('Codigo_CIDCIAP')))\n",
    "\n",
    "# CIAP(R05) -> CIAP|(R05)|"
   ]
  },
  {
   "cell_type": "code",
   "execution_count": null,
   "id": "bf26309e-88ed-4540-8e93-c5212756de6a",
   "metadata": {},
   "outputs": [],
   "source": [
    "\n",
    "# OBS: max semana folder passa da epiweek\n",
    "\n",
    "sisab_diff = df_v3.groupBy(\"ANO\", \"SEMANA\", \"SG_UF\", \"CO_MUNICIPIO_IBGE\", \"Data_folder\").agg(F.sum(\"QT\").alias(\"qt_total\")).cache()"
   ]
  },
  {
   "cell_type": "code",
   "execution_count": null,
   "id": "cb7d9142-98a0-4fca-b447-cc2fcd569759",
   "metadata": {},
   "outputs": [],
   "source": [
    "sisab_diff.count()"
   ]
  },
  {
   "cell_type": "code",
   "execution_count": null,
   "id": "da2e080b-9659-4b28-8437-7178fae8851a",
   "metadata": {},
   "outputs": [],
   "source": [
    "sisab_diff.show(5)"
   ]
  },
  {
   "cell_type": "markdown",
   "id": "9451cef8-13c8-4e11-b10b-e5cffa121c7a",
   "metadata": {},
   "source": [
    "#### gerar dados report dqi"
   ]
  },
  {
   "cell_type": "code",
   "execution_count": null,
   "id": "ab7afc31-aa52-4c27-bef5-89a59390a9dd",
   "metadata": {},
   "outputs": [],
   "source": [
    "ibge_munic = spark.read.csv('s3://fiocruz-datalake-bucket/raw/aesop/dados_auxiliares/ibge_municipios.csv', header=True, sep=';').drop('_c0')\n",
    "\n",
    "\"\"\" semanas_epis.show()\n",
    "+------+----+-------+-----------------+--------------------+--------+----------+\n",
    "|SEMANA| ANO|uf_ibge|CO_MUNICIPIO_IBGE|           municipio|pop_2010|     porte|\n",
    "+------+----+-------+-----------------+--------------------+--------+----------+\n",
    "|    23|2024|     BA|           290590|Campo Alegre de L...|   28090|Pequeno II|\n",
    "|    24|2017|     BA|           290590|Campo Alegre de L...|   28090|Pequeno II|\n",
    "\"\"\"\n",
    "\n",
    "#semanas_epis = spark.read.parquet(\"s3://fiocruz-datalake-bucket/raw/aesop/dados_auxiliares/epiweek_ibge2017_20241231.parquet/\")\n",
    "semanas_epis = spark.read.csv(\"s3://fiocruz-datalake-bucket/raw/aesop/dados_auxiliares/epiweek_ibge2017_20241231.csv\",header=True)\n",
    "semanas_epis = semanas_epis.withColumnRenamed(\"semana_ibge\", \"SEMANA\")\n",
    "semanas_epis = semanas_epis.withColumnRenamed(\"ano_ibge\", \"ANO\")\n",
    "semanas_epis = semanas_epis.withColumnRenamed(\"co_ibge\", \"CO_MUNICIPIO_IBGE\")\n",
    "\n",
    "\n",
    "\n",
    "epi_week_python = spark.read.parquet(\"s3://fiocruz-datalake-bucket/raw/aesop/dados_auxiliares/dados_epidemiologicos_2017_2024.parquet\").filter(F.col(\"ano_epidemiologic\") <= 2024) # por dia\n",
    "#epi_week_python = epi_week_python.withColumnRenamed(\"data\", \"Data_folder\")\n",
    "\n",
    "last_first_day_epiweek = spark.read.parquet(\"s3://fiocruz-datalake-bucket/raw/aesop/dados_auxiliares/epi_week_first_last_day_2017a2024.parquet/\") # por semana com último dia de cada semana epid.\n",
    "\n",
    "\n",
    "epi_week = epi_week_python.join(last_first_day_epiweek,['semana_epidemiologica','ano_epidemiologic'],'inner')\n",
    "\n",
    "epi_week_dt_folder = epi_week.withColumnRenamed(\"data\", \"Data_folder\").select(\"Data_folder\",\"ultimo_dia_week_epidemio\")"
   ]
  },
  {
   "cell_type": "code",
   "execution_count": null,
   "id": "438c543d-4ec8-4ba0-8232-11dcafb090cf",
   "metadata": {},
   "outputs": [],
   "source": [
    "epi_week_python.count()"
   ]
  },
  {
   "cell_type": "code",
   "execution_count": null,
   "id": "44112bff-904c-4ae2-8705-f807a1e941b1",
   "metadata": {},
   "outputs": [],
   "source": [
    "last_first_day_epiweek.count()"
   ]
  },
  {
   "cell_type": "code",
   "execution_count": null,
   "id": "ea53b97b-2bed-48d1-961f-4cd2674be394",
   "metadata": {},
   "outputs": [],
   "source": [
    "epi_week.count()"
   ]
  },
  {
   "cell_type": "code",
   "execution_count": null,
   "id": "0d8f53b4-0e4b-41fc-ad9f-ecfa0bec680c",
   "metadata": {},
   "outputs": [],
   "source": [
    "epi_week_dt_folder.count()"
   ]
  },
  {
   "cell_type": "code",
   "execution_count": null,
   "id": "f9b1dde4-3391-4a23-9bb0-4309500f99b7",
   "metadata": {},
   "outputs": [],
   "source": [
    "epi_week_python.show(5)"
   ]
  },
  {
   "cell_type": "code",
   "execution_count": null,
   "id": "bb06353f-7b6d-4c97-a13b-4808882039f0",
   "metadata": {},
   "outputs": [],
   "source": [
    "last_first_day_epiweek.show(5)"
   ]
  },
  {
   "cell_type": "code",
   "execution_count": null,
   "id": "63f35d21-e40f-4f0a-bfc2-f6ef578cae2a",
   "metadata": {},
   "outputs": [],
   "source": [
    "epi_week.show(5)"
   ]
  },
  {
   "cell_type": "code",
   "execution_count": null,
   "id": "f5e632a8-6c10-4b0b-b2f1-9e9348affa5c",
   "metadata": {},
   "outputs": [],
   "source": [
    "epi_week_dt_folder.show(5)"
   ]
  },
  {
   "cell_type": "code",
   "execution_count": null,
   "id": "6a780a19-8114-4a70-bb61-f07fb93a12dc",
   "metadata": {},
   "outputs": [],
   "source": [
    "epi_week_python.groupBy(\"ano_epidemiologic\").agg(F.countDistinct(\"semana_epidemiologica\")).orderBy(\"ano_epidemiologic\").show(10)"
   ]
  },
  {
   "cell_type": "code",
   "execution_count": null,
   "id": "ae1c7a33-f3e2-4434-976f-65db11fefbb9",
   "metadata": {},
   "outputs": [],
   "source": [
    "#epi_week_python = epi_week_python.withColumn(\"semana_epidemiologica\",F.when( F.col(\"ano_epidemiologic\") == \"2021\" &  F.col(\"semana_epidemiologica\") == \"53\",\"52\"  ).otherwise(F.col(\"semana\"))"
   ]
  },
  {
   "cell_type": "code",
   "execution_count": null,
   "id": "66a0ec9a-58de-4b66-b344-8e062db639f5",
   "metadata": {},
   "outputs": [],
   "source": [
    "sisab_diff.printSchema()"
   ]
  },
  {
   "cell_type": "code",
   "execution_count": null,
   "id": "716d89ef-1465-4ffe-a742-f61d2ae39084",
   "metadata": {},
   "outputs": [],
   "source": [
    "epi_week_dt_folder.printSchema()"
   ]
  },
  {
   "cell_type": "code",
   "execution_count": null,
   "id": "d56103ba-c67e-4764-86e6-53aaede4b9d1",
   "metadata": {},
   "outputs": [],
   "source": [
    "sisab_diff.count()"
   ]
  },
  {
   "cell_type": "code",
   "execution_count": null,
   "id": "f9139811-577a-4b48-82c8-d1b1e6c60174",
   "metadata": {},
   "outputs": [],
   "source": [
    "#add datas e dados a partir da var DAta Folder\n",
    "\n",
    "sisab_diff = sisab_diff.join(epi_week_dt_folder,['Data_folder'],'inner')\n",
    "\n",
    "#sisab_diff = sisab_diff.withColumnRenamed(\"semana_epidemiologica\", \"week_epi_Data_folder\")\n",
    "\n",
    "#sisab_diff = sisab_diff.withColumnRenamed(\"ano_epidemiologic\", \"ano_epi_Data_folder\")\n",
    "\n",
    "sisab_diff = sisab_diff.withColumnRenamed(\"ultimo_dia_week_epidemio\", \"dt_folder\")"
   ]
  },
  {
   "cell_type": "code",
   "execution_count": null,
   "id": "94d44264-f87c-45ed-b47b-b01d0c578ff3",
   "metadata": {},
   "outputs": [],
   "source": [
    "sisab_diff.count()"
   ]
  },
  {
   "cell_type": "code",
   "execution_count": null,
   "id": "3ce1c25e-b8a6-43fc-9a2d-3c68ce6bc223",
   "metadata": {},
   "outputs": [],
   "source": [
    "sisab_diff.show(5)"
   ]
  },
  {
   "cell_type": "code",
   "execution_count": null,
   "id": "971fb199-039a-47b0-8024-e24efeba5105",
   "metadata": {},
   "outputs": [],
   "source": [
    "\n",
    "\n",
    "\n",
    "#add datas e dados a partir da var semana e ano do atendimento\n",
    "\n",
    "last_first_day_epiweek = last_first_day_epiweek.withColumnRenamed(\"ultimo_dia_week_epidemio\", \"dt_encounter\").drop(\"primeiro_dia_week_epidemio\")\n",
    "last_first_day_epiweek = last_first_day_epiweek.withColumnRenamed(\"semana_epidemiologica\", \"SEMANA\")\n",
    "last_first_day_epiweek = last_first_day_epiweek.withColumnRenamed(\"ano_epidemiologic\", \"ANO\")\n",
    "\n",
    "sisab_diff = sisab_diff.join(last_first_day_epiweek,['SEMANA','ANO'],'inner')\n",
    "\n",
    "\n",
    "\n",
    "#sisab_diff_v2 = sisab_diff_v2.withColumnRenamed(\"semana_epidemiologica\", \"week_epi_Data_folder\")\n",
    "#sisab_diff_v2 = sisab_diff_v2.withColumnRenamed(\"ano_epidemiologic\", \"ano_epi_Data_folder\")\n",
    "\n",
    "#sisab_diff_v2 = sisab_diff_v2.withColumnRenamed(\"primeiro_dia_week_epidemio\", \"first_dia_week_epidemio_dt_folder\")\n",
    "#sisab_diff_v2 = sisab_diff_v2.withColumnRenamed(\"ultimo_dia_week_epidemio\", \"last_dia_week_epidemio_dt_folder\")\n",
    "#sisab_diff_v2 = sisab_diff.join(epi_week,['Data_folder'],'inner')"
   ]
  },
  {
   "cell_type": "code",
   "execution_count": null,
   "id": "fbc597a4-9390-49e2-b51c-a3c541b503d2",
   "metadata": {},
   "outputs": [],
   "source": [
    "sisab_diff.count()"
   ]
  },
  {
   "cell_type": "code",
   "execution_count": null,
   "id": "6dc7b062-7cd9-4005-928b-1db5e2839acd",
   "metadata": {},
   "outputs": [],
   "source": [
    "sisab_diff.show(5)"
   ]
  },
  {
   "cell_type": "code",
   "execution_count": null,
   "id": "b1729a7d-823a-4eb8-b9bb-c6d2026e7cda",
   "metadata": {},
   "outputs": [],
   "source": [
    "teste = sisab_diff.join(last_first_day_epiweek,['SEMANA','ANO'],'leftanti')\n",
    "print(teste.show(30))\n",
    "teste.count()"
   ]
  },
  {
   "cell_type": "code",
   "execution_count": null,
   "id": "205a99d4-b878-4511-a7f4-3983fb3d43e2",
   "metadata": {},
   "outputs": [],
   "source": [
    "#diferença em dias de dt_folder para dt_encounter\n",
    "sisab_diff = sisab_diff.withColumn(\"date_diff\", F.datediff(\"dt_folder\",\"dt_encounter\") ) \n",
    "\n",
    "#diff de semanas entre atendimento estimado e data do envio\n",
    "sisab_diff = sisab_diff.withColumn(\"week_diff\", F.col(\"date_diff\") / 7 )  "
   ]
  },
  {
   "cell_type": "code",
   "execution_count": null,
   "id": "73a4bf14-a97a-4ac9-b23f-b3ad7c3cd49f",
   "metadata": {},
   "outputs": [],
   "source": [
    "sisab_diff.show(5)"
   ]
  },
  {
   "cell_type": "code",
   "execution_count": null,
   "id": "e27582f3-b582-4002-8cd5-6fb292195702",
   "metadata": {},
   "outputs": [],
   "source": [
    "#sisab_diff.filter(F.col(\"ANO\") == 2019).filter(F.col(\"SEMANA\") == 52).show(100)"
   ]
  },
  {
   "cell_type": "markdown",
   "id": "088e61f6-61e6-4d8a-8b6b-0b2d2967330f",
   "metadata": {},
   "source": [
    "#### calcular filtros de 8 semanas"
   ]
  },
  {
   "cell_type": "code",
   "execution_count": null,
   "id": "3f666459-a8df-4d28-b937-cf3b0e75d34d",
   "metadata": {},
   "outputs": [],
   "source": [
    "#semana_folder"
   ]
  },
  {
   "cell_type": "code",
   "execution_count": null,
   "id": "85306b7b-e2c4-4c7f-b858-8e276ff7a8bf",
   "metadata": {},
   "outputs": [],
   "source": [
    "semana_filter = semana_folder-7\n",
    "ano_filter = max_ano\n",
    "if semana_filter < 1:\n",
    "    ano_filter = ano_filter-1\n",
    "    semana_filter = 52+semana_filter\n",
    "    \n",
    "print(semana_filter)\n",
    "print(ano_filter)"
   ]
  },
  {
   "cell_type": "code",
   "execution_count": null,
   "id": "84a33663-687d-4125-b1c9-dd786bd7ac19",
   "metadata": {},
   "outputs": [],
   "source": [
    "semana_folder"
   ]
  },
  {
   "cell_type": "code",
   "execution_count": null,
   "id": "37ebd85c-d16b-4b61-9f87-5fd87ec22aef",
   "metadata": {},
   "outputs": [],
   "source": [
    "#sisab_diff.filter(F.col('ANO') == ano_filter).filter(F.col('SEMANA') == semana_filter).select(\"dt_encounter\").distinct().count() #aqui tem somente 1 data"
   ]
  },
  {
   "cell_type": "code",
   "execution_count": null,
   "id": "d5e60d3b-d688-4c63-90fe-6885244b72da",
   "metadata": {},
   "outputs": [],
   "source": [
    "filter_date = sisab_diff.filter(F.col('ANO') == ano_filter)\\\n",
    ".filter(F.col('SEMANA') == semana_filter)\\\n",
    ".select(F.max(F.col('dt_encounter')) ).collect()[0][0]\n",
    "print(filter_date) #2024-02-17 para semana 14 usando o sabado"
   ]
  },
  {
   "cell_type": "code",
   "execution_count": null,
   "id": "323a04bc-4ee0-40f4-8da4-2f6d4e9b66bb",
   "metadata": {},
   "outputs": [],
   "source": [
    "sisab_diff.filter(sisab_diff['dt_encounter'] >= filter_date).select(\"SEMANA\").distinct().count()"
   ]
  },
  {
   "cell_type": "code",
   "execution_count": null,
   "id": "c6294e3d-7cfa-4bc6-967b-3bcbf2323d6c",
   "metadata": {},
   "outputs": [],
   "source": [
    "#completude.printSchema()"
   ]
  },
  {
   "cell_type": "code",
   "execution_count": null,
   "id": "758d0347-d8b7-480b-b205-e8a5bef2713b",
   "metadata": {},
   "outputs": [],
   "source": []
  },
  {
   "cell_type": "code",
   "execution_count": null,
   "id": "2975ccdb-4541-486f-b0f7-37482533827a",
   "metadata": {},
   "outputs": [],
   "source": [
    "completude = sisab_diff.filter(sisab_diff['dt_encounter'] >= filter_date)"
   ]
  },
  {
   "cell_type": "code",
   "execution_count": null,
   "id": "5b228ce0-8d26-4b63-ac31-655471775014",
   "metadata": {},
   "outputs": [],
   "source": [
    "completude.count() #244260"
   ]
  },
  {
   "cell_type": "code",
   "execution_count": null,
   "id": "df185d9b-cdb7-4c95-8891-7459dd83420a",
   "metadata": {},
   "outputs": [],
   "source": [
    "completude.printSchema()"
   ]
  },
  {
   "cell_type": "code",
   "execution_count": null,
   "id": "d7c8fd5c-0da9-45ad-8d57-46ed141484bf",
   "metadata": {},
   "outputs": [],
   "source": [
    "completude = completude\\\n",
    ".drop('Data_folder', 'ANO', 'SEMANA', 'SG_UF', 'first_day_of_year', 'date_diff')\\\n",
    ".withColumnRenamed('CO_MUNICIPIO_IBGE', 'co_ibge')"
   ]
  },
  {
   "cell_type": "code",
   "execution_count": null,
   "id": "a3a97996-ce64-4dfa-a0c0-f56ca0182b7b",
   "metadata": {},
   "outputs": [],
   "source": [
    "completude.printSchema()"
   ]
  },
  {
   "cell_type": "code",
   "execution_count": null,
   "id": "94a5a114-bd85-498e-9189-ea2bd03cf8a4",
   "metadata": {},
   "outputs": [],
   "source": [
    "ibge = completude.select('co_ibge').distinct()"
   ]
  },
  {
   "cell_type": "code",
   "execution_count": null,
   "id": "4546ba2b-6c2e-4034-bf4f-23047ac2adb0",
   "metadata": {},
   "outputs": [],
   "source": [
    "ibge.count()"
   ]
  },
  {
   "cell_type": "code",
   "execution_count": null,
   "id": "9110bc50-dfec-4dc9-8b35-1817dae231f2",
   "metadata": {},
   "outputs": [],
   "source": [
    "dt_encounter = completude.select('dt_encounter').distinct()\n"
   ]
  },
  {
   "cell_type": "code",
   "execution_count": null,
   "id": "4d2fdeed-3cc7-4c14-a374-051d025d1c58",
   "metadata": {},
   "outputs": [],
   "source": [
    "dt_encounter.show()"
   ]
  },
  {
   "cell_type": "code",
   "execution_count": null,
   "id": "5192a602-3dd0-4533-9e11-886afcdf7a3c",
   "metadata": {},
   "outputs": [],
   "source": [
    "dt_encounter.count()"
   ]
  },
  {
   "cell_type": "code",
   "execution_count": null,
   "id": "665fe120-46bc-4faf-8fb3-5919385a4045",
   "metadata": {},
   "outputs": [],
   "source": [
    "ibge_dtencounter = ibge.crossJoin(dt_encounter)"
   ]
  },
  {
   "cell_type": "code",
   "execution_count": null,
   "id": "d9911ecd-db1e-4a7f-baee-0e5c5c10eb18",
   "metadata": {},
   "outputs": [],
   "source": [
    "ibge_dtencounter.count()"
   ]
  },
  {
   "cell_type": "code",
   "execution_count": null,
   "id": "f9440983-2f15-4b9c-b80e-e6a306b358e1",
   "metadata": {},
   "outputs": [],
   "source": [
    "ibge_dtencounter.filter(F.col(\"co_ibge\") == \"350510\").show(30,False)"
   ]
  },
  {
   "cell_type": "code",
   "execution_count": null,
   "id": "2ca149e7-ca0d-45ad-b72a-f896de594e0d",
   "metadata": {},
   "outputs": [],
   "source": [
    "completude.printSchema()"
   ]
  },
  {
   "cell_type": "code",
   "execution_count": null,
   "id": "75c8e752-b96f-43ea-ad32-4eb49fcfe353",
   "metadata": {},
   "outputs": [],
   "source": []
  },
  {
   "cell_type": "code",
   "execution_count": null,
   "id": "da325af7-ba3e-49e2-91c0-3a39397e4449",
   "metadata": {},
   "outputs": [],
   "source": [
    "completude = ibge_dtencounter.join(completude, ['co_ibge', 'dt_encounter'], 'left')"
   ]
  },
  {
   "cell_type": "code",
   "execution_count": null,
   "id": "76bc50a6-884c-462f-9942-3967f87aa2ae",
   "metadata": {},
   "outputs": [],
   "source": [
    "completude.count() #251358"
   ]
  },
  {
   "cell_type": "code",
   "execution_count": null,
   "id": "dbfc19a3-689e-45ac-aaff-c1569ab68aee",
   "metadata": {},
   "outputs": [],
   "source": [
    "completude.filter(F.col(\"co_ibge\") == \"355580\").orderBy(\"dt_encounter\").show(30,False)"
   ]
  },
  {
   "cell_type": "code",
   "execution_count": null,
   "id": "506be313-041b-4027-8002-14a2016a155d",
   "metadata": {},
   "outputs": [],
   "source": [
    "completude.show(5,False)"
   ]
  },
  {
   "cell_type": "code",
   "execution_count": null,
   "id": "aa2b3d2d-157d-475a-98a7-617283a2d208",
   "metadata": {},
   "outputs": [],
   "source": [
    "completude_grouped = completude.groupBy('co_ibge', 'dt_encounter')\\\n",
    ".agg(F.sum('qt_total').alias('n'))\\\n",
    ".na.fill({'n': 0})"
   ]
  },
  {
   "cell_type": "code",
   "execution_count": null,
   "id": "77e50d70-1682-4579-96a5-83878e924591",
   "metadata": {},
   "outputs": [],
   "source": [
    "completude_grouped.filter(F.col(\"co_ibge\") == \"355580\").orderBy(\"dt_encounter\").show(30,False)"
   ]
  },
  {
   "cell_type": "code",
   "execution_count": null,
   "id": "c95540ba-17a6-4236-b760-540be2a502d9",
   "metadata": {},
   "outputs": [],
   "source": [
    "completude_grouped.show(5)"
   ]
  },
  {
   "cell_type": "markdown",
   "id": "589f5237-9dd3-4897-8bd3-543c283f4852",
   "metadata": {},
   "source": [
    "#### completude"
   ]
  },
  {
   "cell_type": "code",
   "execution_count": null,
   "id": "59e0795c-de26-49a3-ad4b-9db5111cfc12",
   "metadata": {},
   "outputs": [],
   "source": [
    "# Assuming `df` is your Spark DataFrame equivalent to `sisab_diff`\n",
    "# and `week_filter` is already defined\n",
    "\n",
    "#week_filter = \"2023-01-07\"\n",
    "\n",
    "# Step 1: Filter based on `dt_folder`\n",
    "completude = sisab_diff.filter(sisab_diff['dt_encounter'] >= filter_date)\n",
    "\n",
    "# Step 2: Select specific columns and remove others\n",
    "#tempestividade = tempestividade.drop('Data_folder', 'ANO', 'SEMANA', 'SG_UF')\n",
    "completude = completude\\\n",
    ".drop('Data_folder', 'ANO', 'SEMANA', 'SG_UF', 'first_day_of_year', 'date_diff')\\\n",
    ".withColumnRenamed('CO_MUNICIPIO_IBGE', 'co_ibge')\n",
    "\n",
    "# complete command\n",
    "ibge = completude.select('co_ibge').distinct()\n",
    "dt_encounter = completude.select('dt_encounter').distinct()\n",
    "ibge_dtencounter = ibge.crossJoin(dt_encounter)\n",
    "# complete join back\n",
    "completude = ibge_dtencounter.join(completude, ['co_ibge', 'dt_encounter'], 'left')\n",
    "\n",
    "\"\"\"\n",
    "completude.show()\n",
    "+-------+------------+----+\n",
    "|co_ibge|dt_encounter|   n|\n",
    "+-------+------------+----+\n",
    "| 150375|  2023-11-25| 351|\n",
    "| 150375|  2023-11-18| 336|\n",
    "\"\"\"\n",
    "\n",
    "# count \n",
    "completude = completude.groupBy('co_ibge', 'dt_encounter')\\\n",
    ".agg(F.sum('qt_total').alias('n'))\\\n",
    ".na.fill({'n': 0})"
   ]
  },
  {
   "cell_type": "code",
   "execution_count": null,
   "id": "b658469c-974a-418b-a6dd-eafbd8af0142",
   "metadata": {},
   "outputs": [],
   "source": [
    "semana_folder"
   ]
  },
  {
   "cell_type": "markdown",
   "id": "19810f31-cb22-40a3-9de3-a94db55ac55c",
   "metadata": {},
   "source": [
    "#### completude porcentagem"
   ]
  },
  {
   "cell_type": "code",
   "execution_count": null,
   "id": "aad677d2-1dd1-4c9c-a452-2da8251a7291",
   "metadata": {},
   "outputs": [],
   "source": [
    "ibge_munic.printSchema()"
   ]
  },
  {
   "cell_type": "code",
   "execution_count": null,
   "id": "22715bf7-4092-4727-9d19-ccb7039d026c",
   "metadata": {},
   "outputs": [],
   "source": [
    "# slider\n",
    "ws = Window.partitionBy(\"co_ibge\").orderBy(\"dt_encounter\").rowsBetween(-7, Window.currentRow)\n",
    "\n",
    "# UDF for epiweek and epiyear\n",
    "epiweekUDF = F.udf(lambda z:  Week.fromdate(z).week, IntegerType())\n",
    "epiyearUDF = F.udf(lambda z:  Week.fromdate(z).year, IntegerType())\n",
    "\n",
    "# slider as window function\n",
    "completude_missings = completude\\\n",
    ".withColumn(\"empty\", F.when(F.col('n')==0, 1).otherwise(0))\\\n",
    ".withColumn(\"window_size\", F.count(\"*\").over(ws))\\\n",
    ".withColumn(\"start\", F.min(\"dt_encounter\").over(ws))\\\n",
    ".withColumn(\"end\", F.max(\"dt_encounter\").over(ws))\\\n",
    ".withColumn(\"no_missings\", F.sum(\"empty\").over(ws))\\\n",
    ".filter(F.col('window_size')==8)\\\n",
    ".withColumn(\"epi_week\", epiweekUDF(F.col('dt_encounter')))\\\n",
    ".withColumn(\"epi_year\", epiyearUDF(F.col('dt_encounter')))\\\n",
    ".drop('window_size', 'empty', 'n', 'dt_encounter')\\\n",
    ".filter(F.col('epi_week')==semana_folder)\n",
    "\n",
    "# add missing cities \n",
    "completude_miss_ibge = ibge_munic.join(completude_missings, ['co_ibge'], 'full')\n",
    "\n",
    "# perc completude\n",
    "\"\"\"\n",
    "+-------+---+--------------------+--------+----------+----------+----------+-----------+--------+--------+------------+---------------+\n",
    "|co_ibge| uf|           municipio|pop_2010|     porte|     start|       end|no_missings|epi_week|epi_year|perc_missing|perc_completude|\n",
    "+-------+---+--------------------+--------+----------+----------+----------+-----------+--------+--------+------------+---------------+\n",
    "| 110001| RO|Alta Floresta D´o...|   24392|Pequeno II|2023-11-11|2023-12-30|          0|      52|    2023|         0.0|          100.0|\n",
    "| 110002| RO|           Ariquemes|   90353|     Médio|2023-11-11|2023-12-30|          1|      52|    2023|        12.5|           87.5|\n",
    "\"\"\"\n",
    "\n",
    "# calculate percentages\n",
    "comp_percentage = completude_miss_ibge.na.fill({'no_missings': 8})\\\n",
    ".withColumn('perc_missing',  F.col('no_missings')/8*100)\\\n",
    ".withColumn('perc_completude',  100-F.col('perc_missing'))\n",
    "\n",
    "\n"
   ]
  },
  {
   "cell_type": "code",
   "execution_count": null,
   "id": "b38887db-a8d5-4380-83e2-2dec5d91cc8f",
   "metadata": {},
   "outputs": [],
   "source": [
    "semana_filter"
   ]
  },
  {
   "cell_type": "code",
   "execution_count": null,
   "id": "34dcd840-bd58-4f30-8648-006c30b20e09",
   "metadata": {},
   "outputs": [],
   "source": []
  },
  {
   "cell_type": "code",
   "execution_count": null,
   "id": "cb0cf608-3c48-4270-b0b8-5363edb07f64",
   "metadata": {},
   "outputs": [],
   "source": [
    "filter_date"
   ]
  },
  {
   "cell_type": "code",
   "execution_count": null,
   "id": "2ccf4f8c-7654-4a0e-b429-44f13e8bf9de",
   "metadata": {},
   "outputs": [],
   "source": [
    "sisab_diff.filter(sisab_diff['dt_folder'] >= filter_date).select(\"SEMANA\").distinct().count()"
   ]
  },
  {
   "cell_type": "code",
   "execution_count": null,
   "id": "5aa2a020-02bc-45d8-8386-d4600599579b",
   "metadata": {},
   "outputs": [],
   "source": [
    "sisab_diff.filter(sisab_diff['dt_folder'] >= filter_date).select(\"dt_folder\").distinct().count()"
   ]
  },
  {
   "cell_type": "code",
   "execution_count": null,
   "id": "3657b2c8-629e-4323-96f5-c373afb48fe6",
   "metadata": {},
   "outputs": [],
   "source": [
    "tempestividade = sisab_diff.filter( F.col(\"dt_folder\")  >= filter_date)\n",
    "\n",
    "# Step 2:dropa algumas colunas\n",
    "tempestividade = tempestividade.drop( 'SG_UF') #, 'ANO', 'SEMANA','Data_folder',"
   ]
  },
  {
   "cell_type": "code",
   "execution_count": null,
   "id": "3ec1b906-8174-41ec-8fe3-01981eb0b558",
   "metadata": {},
   "outputs": [],
   "source": [
    "df_v3.printSchema()"
   ]
  },
  {
   "cell_type": "code",
   "execution_count": null,
   "id": "3138c0bf-9777-4bd5-8283-b04f7ccbb8fd",
   "metadata": {},
   "outputs": [],
   "source": [
    "df_v3.filter(F.col(\"CO_MUNICIPIO_IBGE\") == \"354810\").orderBy(F.desc(\"Data_folder\")).show(30)"
   ]
  },
  {
   "cell_type": "code",
   "execution_count": null,
   "id": "fa23ceb0-b164-4b3d-ac41-22b8cb3e5bc6",
   "metadata": {},
   "outputs": [],
   "source": [
    "tempestividade.filter(F.col(\"CO_MUNICIPIO_IBGE\") == \"354810\").orderBy(F.desc(\"dt_folder\")).show(30,False) # dt folder é repetido pois são de semanas/ano diferentes # 355580\n",
    "#+----+------+-----------------+-----------+--------+-----------------+------------+----------+---------+---------+\n",
    "#|ANO |SEMANA|CO_MUNICIPIO_IBGE|Data_folder|qt_total|first_day_of_year|dt_encounter|dt_folder |date_diff|week_diff|\n",
    "#+----+------+-----------------+-----------+--------+-----------------+------------+----------+---------+---------+\n",
    "#|2024|13    |354810           |2024-04-07 |584     |2024-01-01       |2024-03-30  |2024-04-13|14       |2.0      |\n",
    "#|2024|12    |354810           |2024-04-07 |701     |2024-01-01       |2024-03-23  |2024-04-13|21       |3.0      |\n",
    "#|2024|11    |354810           |2024-04-07 |661     |2024-01-01       |2024-03-16  |2024-04-13|28       |4.0      |\n",
    "#|2024|14    |354810           |2024-04-07 |36      |2024-01-01       |2024-04-06  |2024-04-13|7        |1.0      |"
   ]
  },
  {
   "cell_type": "code",
   "execution_count": null,
   "id": "31d620b3-7f9e-4c05-b327-ce740ebbf9cd",
   "metadata": {},
   "outputs": [],
   "source": [
    "tempestividade.printSchema()"
   ]
  },
  {
   "cell_type": "code",
   "execution_count": null,
   "id": "ae2b355b-d5ed-46a0-ae65-889428eb6ac8",
   "metadata": {},
   "outputs": [],
   "source": [
    "co_ibge_df = tempestividade.select(\"CO_MUNICIPIO_IBGE\").distinct()\n",
    "dt_folder_df = tempestividade.select(\"dt_folder\").distinct()\n",
    "all_combinations_df = co_ibge_df.crossJoin(dt_folder_df)\n"
   ]
  },
  {
   "cell_type": "code",
   "execution_count": null,
   "id": "ff41b24f-629d-47e0-9c9d-a5c07349b414",
   "metadata": {},
   "outputs": [],
   "source": [
    "co_ibge_df.count()"
   ]
  },
  {
   "cell_type": "code",
   "execution_count": null,
   "id": "997ab774-cd74-48ff-89b2-9863ff27544b",
   "metadata": {},
   "outputs": [],
   "source": [
    "dt_folder_df.count()"
   ]
  },
  {
   "cell_type": "code",
   "execution_count": null,
   "id": "19b0819e-0042-4eed-846d-e36cfd2d8b96",
   "metadata": {},
   "outputs": [],
   "source": [
    "dt_folder_df.orderBy(\"dt_folder\").show(10)"
   ]
  },
  {
   "cell_type": "code",
   "execution_count": null,
   "id": "1446390e-741c-4cf6-af7c-e4b6c917e8ac",
   "metadata": {},
   "outputs": [],
   "source": [
    "all_combinations_df.count()"
   ]
  },
  {
   "cell_type": "code",
   "execution_count": null,
   "id": "723e6d1e-80da-4114-a299-253a9673c351",
   "metadata": {},
   "outputs": [],
   "source": [
    "all_combinations_df.filter(F.col(\"CO_MUNICIPIO_IBGE\") == \"355580\").orderBy(\"dt_folder\").show(30,False)"
   ]
  },
  {
   "cell_type": "code",
   "execution_count": null,
   "id": "de9da9b7-c908-4dce-844e-fde6d2dca205",
   "metadata": {},
   "outputs": [],
   "source": [
    "tempestividade.count()"
   ]
  },
  {
   "cell_type": "code",
   "execution_count": null,
   "id": "b51128d1-5210-41ca-b634-2160416977f3",
   "metadata": {},
   "outputs": [],
   "source": [
    "tempestividade.show(10)"
   ]
  },
  {
   "cell_type": "code",
   "execution_count": null,
   "id": "ce5bb7f8-3e20-41b5-9a03-4303147042c1",
   "metadata": {},
   "outputs": [],
   "source": [
    "all_combinations_df.count()"
   ]
  },
  {
   "cell_type": "code",
   "execution_count": null,
   "id": "20c6e830-482f-4b87-9f61-99cc1e65c1b6",
   "metadata": {},
   "outputs": [],
   "source": [
    "tempestividade.count()"
   ]
  },
  {
   "cell_type": "code",
   "execution_count": null,
   "id": "33df7440-bd19-4300-a66f-9a193b466add",
   "metadata": {},
   "outputs": [],
   "source": [
    "# faz o join para o lado completo criando anteriormente\n",
    "tempestividade2 = all_combinations_df.join(tempestividade, [\"CO_MUNICIPIO_IBGE\", \"dt_folder\"], \"left_outer\")"
   ]
  },
  {
   "cell_type": "code",
   "execution_count": null,
   "id": "8875e3d3-78c0-4415-befd-6e2af4e534ef",
   "metadata": {},
   "outputs": [],
   "source": [
    "tempestividade2.count() #345165"
   ]
  },
  {
   "cell_type": "code",
   "execution_count": null,
   "id": "eba97eb1-9802-4323-8065-4884b70b90cf",
   "metadata": {},
   "outputs": [],
   "source": [
    "tempestividade2.filter(F.col(\"dt_folder\") == \"2024-04-13\").count()"
   ]
  },
  {
   "cell_type": "code",
   "execution_count": null,
   "id": "241ec3f3-6875-43b6-b240-1a136bb182ee",
   "metadata": {},
   "outputs": [],
   "source": [
    "tempestividade2.filter(F.col(\"dt_folder\") == \"2024-04-13\").filter(F.col(\"qt_total\").isNull()).count()"
   ]
  },
  {
   "cell_type": "code",
   "execution_count": null,
   "id": "4c4e2a1d-34e8-4036-8dbb-0bd82d2732db",
   "metadata": {},
   "outputs": [],
   "source": [
    "tempestividade2.filter(F.col(\"dt_folder\") == \"2024-04-13\").filter(F.col(\"qt_total\").isNotNull()).show(10)"
   ]
  },
  {
   "cell_type": "code",
   "execution_count": null,
   "id": "7e3b6363-e9ff-49d1-a370-ed86a4a0f4d0",
   "metadata": {},
   "outputs": [],
   "source": [
    "tempestividade2.filter(F.col(\"CO_MUNICIPIO_IBGE\") == \"110140\").agg(F.sum(\"qt_total\")).collect()[0][0]"
   ]
  },
  {
   "cell_type": "code",
   "execution_count": null,
   "id": "3bd202b4-7933-45a3-864a-3fd1c4d2de66",
   "metadata": {},
   "outputs": [],
   "source": [
    "tempestividade2.filter(F.col(\"CO_MUNICIPIO_IBGE\") == \"110140\").select(\"dt_folder\").distinct().count()"
   ]
  },
  {
   "cell_type": "code",
   "execution_count": null,
   "id": "fd2ed4df-8ca9-4827-847e-7091cf57048b",
   "metadata": {},
   "outputs": [],
   "source": [
    "tempestividade2.filter(F.col(\"CO_MUNICIPIO_IBGE\") == \"110140\").orderBy(\"dt_folder\").show(80,False) # dt_folder aqui e o agrupamento dos datafolder para o ultimo dia da semana epi por isso temos repeticao nessa e nao tem na var \n",
    "#Data_folder que vem da pasta"
   ]
  },
  {
   "cell_type": "code",
   "execution_count": null,
   "id": "39dca410-7816-4397-b256-4f0a70ef5f5c",
   "metadata": {},
   "outputs": [],
   "source": [
    "sisab_diff.filter(F.col(\"CO_MUNICIPIO_IBGE\") == \"110140\").filter(F.col(\"dt_folder\") >= \"2024-02-17\").orderBy(\"dt_folder\").show(100)"
   ]
  },
  {
   "cell_type": "code",
   "execution_count": null,
   "id": "5d733cd0-1a44-408a-8475-1a36476a1c11",
   "metadata": {},
   "outputs": [],
   "source": [
    "tempestividade3_p1 = tempestividade2.groupBy(\"CO_MUNICIPIO_IBGE\").agg(F.sum(\"qt_total\").alias(\"total_atd_folder\"))"
   ]
  },
  {
   "cell_type": "code",
   "execution_count": null,
   "id": "02b43dba-e876-43b3-b524-85d4ad8e3997",
   "metadata": {},
   "outputs": [],
   "source": [
    "tempestividade3_p1.show(5)"
   ]
  },
  {
   "cell_type": "code",
   "execution_count": null,
   "id": "030c63c8-a53d-4ffa-a42c-5d82affd72fe",
   "metadata": {},
   "outputs": [],
   "source": [
    "tempestividade3_p1.filter(F.col(\"CO_MUNICIPIO_IBGE\") == \"110140\").show(5)"
   ]
  },
  {
   "cell_type": "code",
   "execution_count": null,
   "id": "2a82eb35-493f-45ab-aea0-eea5fc40aa8b",
   "metadata": {},
   "outputs": [],
   "source": [
    "tempestividade2 = tempestividade2.withColumn(\"diff\", F.when(  F.col(\"week_diff\") <= 2, \"0_2weeks\").otherwise(\n",
    "                                                        F.when(   F.col(\"week_diff\") > 2, \"3+weeks\"  )    ) )"
   ]
  },
  {
   "cell_type": "code",
   "execution_count": null,
   "id": "3090db66-8689-4f1d-876e-412c6ac6f5a7",
   "metadata": {},
   "outputs": [],
   "source": [
    "tempestividade2.filter(F.col(\"CO_MUNICIPIO_IBGE\") == \"110140\").orderBy(F.desc(\"dt_folder\")).show(60,False) #355580"
   ]
  },
  {
   "cell_type": "code",
   "execution_count": null,
   "id": "5fa7ed64-186b-438b-af16-138cf6e52a26",
   "metadata": {},
   "outputs": [],
   "source": [
    "#faz categorias  a partir da diff em semanas entre atendimento e envio para as ultimas 8 semanas. se ate 2 semanas de diff,  0_2weeks , se maior que duas semanas, 3+weeks,soma-se o total de atendimento para cada categoria criada.\n",
    "tempestividade3_p2 = tempestividade2.groupBy(\"CO_MUNICIPIO_IBGE\",\"diff\").agg( F.sum(\"qt_total\").alias(\"qt_diff\") )"
   ]
  },
  {
   "cell_type": "code",
   "execution_count": null,
   "id": "25a89859-f569-439c-86b2-59c187a8c6a9",
   "metadata": {},
   "outputs": [],
   "source": [
    "tempestividade3_p2.filter(F.col(\"CO_MUNICIPIO_IBGE\") == \"110140\").show(30,False)"
   ]
  },
  {
   "cell_type": "code",
   "execution_count": null,
   "id": "7ca6add7-46f7-4a3f-a3ce-8dc1c648698c",
   "metadata": {},
   "outputs": [],
   "source": [
    "tempestividade3_p2.show(5)"
   ]
  },
  {
   "cell_type": "code",
   "execution_count": null,
   "id": "795b4647-764b-45e2-a80e-8578c500b9cf",
   "metadata": {},
   "outputs": [],
   "source": [
    "tempestividade3 = tempestividade3_p1.join(tempestividade3_p2 , ['CO_MUNICIPIO_IBGE'])\n",
    "tempestividade3 = tempestividade3.withColumn(\"diff_percent\", F.col(\"qt_diff\") / F.col(\"total_atd_folder\") * 100)\n",
    "tempestividade3 = tempestividade3.withColumn(\"diff_percent2\",F.round(\"diff_percent\",5))"
   ]
  },
  {
   "cell_type": "code",
   "execution_count": null,
   "id": "e60e91bb-736f-47c7-bea7-c159574c75e2",
   "metadata": {},
   "outputs": [],
   "source": [
    "tempestividade3.filter(F.col(\"CO_MUNICIPIO_IBGE\") == \"110140\").show(30,False)"
   ]
  },
  {
   "cell_type": "code",
   "execution_count": null,
   "id": "0b8765a6-4364-4446-afe7-cfbd8ff8fcb3",
   "metadata": {},
   "outputs": [],
   "source": [
    "#pivota os dados para as variáveis de porcetagem 0_2weeks e 3+weeks irem para colunas\n",
    "tempestividade4  = tempestividade3.groupBy(\"CO_MUNICIPIO_IBGE\").pivot(\"diff\").agg(F.first(\"diff_percent2\"))\n",
    "\n",
    "\n",
    "tempestividade5 = tempestividade4.withColumnRenamed(\"0_2weeks\",\"diff_2w\")\n",
    "tempestividade5 = tempestividade5.withColumnRenamed(\"3+weeks\",\"diff_3w\")\n",
    "tempestividade5 = tempestividade5.withColumn(\"co_ibge\",F.col(\"CO_MUNICIPIO_IBGE\").cast(StringType() ) ).drop(\"CO_MUNICIPIO_IBGE\",\"diff_2w_new\",\"diff_3w_new\",\"null\").cache()"
   ]
  },
  {
   "cell_type": "code",
   "execution_count": null,
   "id": "05b99f3c-c8e4-486e-9ac2-10621a837905",
   "metadata": {},
   "outputs": [],
   "source": [
    "tempestividade5.filter(F.col(\"CO_MUNICIPIO_IBGE\") == \"110140\").show(30,False)"
   ]
  },
  {
   "cell_type": "markdown",
   "id": "1385f5e9-ad48-4f46-88e1-3642f52e1546",
   "metadata": {},
   "source": [
    "#### tempestividade "
   ]
  },
  {
   "cell_type": "code",
   "execution_count": null,
   "id": "3f9412fe-a27c-4833-8e7e-be6b5c4c48a9",
   "metadata": {},
   "outputs": [],
   "source": [
    "# Step 1: Filter based on `dt_folder`\n",
    "tempestividade = sisab_diff.filter( F.col(\"dt_folder\")  >= filter_date)\n",
    "\n",
    "# Step 2:dropa algumas colunas\n",
    "tempestividade = tempestividade.drop('Data_folder', 'ANO', 'SEMANA', 'SG_UF')\n",
    "\n",
    "# faz o complete dos dados levando em conta todas as possibilidades de CO_MUNICIPIO_IBGE x dt_folder\n",
    "co_ibge_df = tempestividade.select(\"CO_MUNICIPIO_IBGE\").distinct()\n",
    "dt_folder_df = tempestividade.select(\"dt_folder\").distinct()\n",
    "all_combinations_df = co_ibge_df.crossJoin(dt_folder_df)\n",
    "\n",
    "# faz o join para o lado completo criando anteriormente\n",
    "tempestividade2 = all_combinations_df.join(tempestividade, [\"CO_MUNICIPIO_IBGE\", \"dt_folder\"], \"left_outer\")\n",
    "\n",
    "#conta os atendimento para as 8 semanas de dados\n",
    "tempestividade3_p1 = tempestividade2.groupBy(\"CO_MUNICIPIO_IBGE\").agg(F.sum(\"qt_total\").alias(\"total_atd_folder\"))\n",
    "\n",
    "#faz categorias  a partir da diff em semanas entre atendimento e envio para as ultimas 8 semanas. se ate 2 semanas de diff,  0_2weeks , se maior que duas semanas, 3+weeks,soma-se o total de atendimento para cada categoria criada.\n",
    "tempestividade3_p2 = tempestividade2.withColumn(\"diff\", F.when(  F.col(\"week_diff\") <= 2, \"0_2weeks\").otherwise(\n",
    "                                                        F.when(   F.col(\"week_diff\") > 2, \"3+weeks\"  )    ) ) .groupBy(\"CO_MUNICIPIO_IBGE\",\"diff\").agg( F.sum(\"qt_total\").alias(\"qt_diff\") )\n",
    "\n",
    "#junta o atendimento total das 8 semanas com os atendimentos das 8 semanas categorizado entre 0_2weeks e   3+weeks\n",
    "tempestividade3 = tempestividade3_p1.join(tempestividade3_p2 , ['CO_MUNICIPIO_IBGE'])\n",
    "tempestividade3 = tempestividade3.withColumn(\"diff_percent\", F.col(\"qt_diff\") / F.col(\"total_atd_folder\") * 100)\n",
    "tempestividade3 = tempestividade3.withColumn(\"diff_percent2\",F.round(\"diff_percent\",5))\n",
    "\n",
    "#pivota os dados para as variáveis de porcetagem 0_2weeks e 3+weeks irem para colunas\n",
    "tempestividade4  = tempestividade3.groupBy(\"CO_MUNICIPIO_IBGE\").pivot(\"diff\").agg(F.first(\"diff_percent2\"))\n",
    "\n",
    "\"\"\" tempestividade5\n",
    "+--------+--------+-------+\n",
    "| diff_2w| diff_3w|co_ibge|\n",
    "+--------+--------+-------+\n",
    "|99.83987| 0.16013| 150300|\n",
    "|54.82866|45.17134| 150375|\n",
    "|   100.0|    null| 172015|\n",
    "\"\"\"\n",
    "\n",
    "tempestividade5 = tempestividade4.withColumnRenamed(\"0_2weeks\",\"diff_2w\")\n",
    "tempestividade5 = tempestividade5.withColumnRenamed(\"3+weeks\",\"diff_3w\")\n",
    "tempestividade5 = tempestividade5.withColumn(\"co_ibge\",F.col(\"CO_MUNICIPIO_IBGE\").cast(StringType() ) ).drop(\"CO_MUNICIPIO_IBGE\",\"diff_2w_new\",\"diff_3w_new\",\"null\").cache()"
   ]
  },
  {
   "cell_type": "code",
   "execution_count": null,
   "id": "0e995f3e-9718-4610-9c68-8802e5a80bd6",
   "metadata": {},
   "outputs": [],
   "source": []
  },
  {
   "cell_type": "code",
   "execution_count": null,
   "id": "68b13a8c-a6a3-4492-a957-8422b4b4219c",
   "metadata": {},
   "outputs": [],
   "source": [
    "df_agg = sisab_diff.groupBy(\"ANO\",\"SEMANA\",\"SG_UF\",\"CO_MUNICIPIO_IBGE\").agg(F.sum(\"qt_total\").alias(\"qt_total\")) "
   ]
  },
  {
   "cell_type": "code",
   "execution_count": null,
   "id": "846b2039-fd73-462e-bcf6-c020bb650ef7",
   "metadata": {},
   "outputs": [],
   "source": [
    "df_agg.filter(F.col(\"CO_MUNICIPIO_IBGE\").isNull() ).count()"
   ]
  },
  {
   "cell_type": "code",
   "execution_count": null,
   "id": "29bb0b24-8488-409e-9bfe-706d9e28e8b5",
   "metadata": {},
   "outputs": [],
   "source": [
    "df_agg.filter(F.col(\"qt_total\").isNull() ).count()"
   ]
  },
  {
   "cell_type": "code",
   "execution_count": null,
   "id": "9a3a95e3-48ca-46ce-b601-b95da5ef2650",
   "metadata": {},
   "outputs": [],
   "source": [
    "df_agg.groupBy(\"ano\").agg(F.countDistinct(\"semana\")).show(10)"
   ]
  },
  {
   "cell_type": "code",
   "execution_count": null,
   "id": "e2636e9d-b46e-40d8-8a94-7536ea40f7c3",
   "metadata": {},
   "outputs": [],
   "source": [
    "df_agg.show(5)"
   ]
  },
  {
   "cell_type": "code",
   "execution_count": null,
   "id": "592e0100-0be3-4e85-bb5b-cff24962de18",
   "metadata": {},
   "outputs": [],
   "source": [
    "semanas_epis.printSchema()"
   ]
  },
  {
   "cell_type": "code",
   "execution_count": null,
   "id": "772922b5-06ee-4ca4-9808-3446fe1256db",
   "metadata": {},
   "outputs": [],
   "source": [
    "epi_week.printSchema()"
   ]
  },
  {
   "cell_type": "code",
   "execution_count": null,
   "id": "e793ff91-8829-4755-ba22-c6ea9aed4cb7",
   "metadata": {},
   "outputs": [],
   "source": [
    "co_ibge_unicos = semanas_epis.select(\"CO_MUNICIPIO_IBGE\").distinct()"
   ]
  },
  {
   "cell_type": "code",
   "execution_count": null,
   "id": "68fe58da-c294-43f8-b4c3-4111337bd299",
   "metadata": {},
   "outputs": [],
   "source": [
    "co_ibge_unicos.count()"
   ]
  },
  {
   "cell_type": "code",
   "execution_count": null,
   "id": "7e23a71d-ae18-42fb-865b-2f33f116fe10",
   "metadata": {},
   "outputs": [],
   "source": [
    "semana_folder"
   ]
  },
  {
   "cell_type": "code",
   "execution_count": null,
   "id": "2061fb94-c545-487b-af67-62de7d80e400",
   "metadata": {},
   "outputs": [],
   "source": [
    "epi_week_atend_2week = epi_week.withColumnRenamed('semana_epidemiologica', 'SEMANA')\n",
    "epi_week_atend_2week = epi_week_atend_2week.withColumnRenamed('ano_epidemiologic', 'ANO')\n",
    "epi_week_atend_2week = epi_week_atend_2week.select(\"SEMANA\",\"ANO\").dropDuplicates()\n",
    "\n",
    "\n",
    "epi_week_atend_2week_v2 = epi_week_atend_2week.filter(\n",
    "    (F.col(\"ANO\").between(2017, 2023)) |\n",
    "    ((F.col(\"ANO\") == 2024) & (F.col(\"SEMANA\") <= 13))\n",
    ")\n",
    "\n",
    "epi_week_atend_2week_v3 = epi_week_atend_2week_v2.crossJoin(co_ibge_unicos)"
   ]
  },
  {
   "cell_type": "code",
   "execution_count": null,
   "id": "e9b76ca3-f325-4f4a-9bf6-ba4639ff88ba",
   "metadata": {},
   "outputs": [],
   "source": [
    "epi_week_atend_2week_v3.count()"
   ]
  },
  {
   "cell_type": "code",
   "execution_count": null,
   "id": "dd41d934-70cb-44c8-a1d4-382845b2deef",
   "metadata": {},
   "outputs": [],
   "source": [
    "#epi_week_atend_2week_v3.groupBy(\"ANO\",\"SEMANA\").agg( F.countDistinct(\"CO_MUNICIPIO_IBGE\") ).orderBy(\"ano\",\"SEMANA\") .show(1000) # ok tem todos os municipios 5570 para todas as semanas de 2017 ate a semana_folder de 2024(teste para 13)"
   ]
  },
  {
   "cell_type": "code",
   "execution_count": null,
   "id": "66f1cffc-0627-4db1-87cf-7834c80f620f",
   "metadata": {},
   "outputs": [],
   "source": [
    "epi_week_atend_2week_v3.show(10)"
   ]
  },
  {
   "cell_type": "code",
   "execution_count": null,
   "id": "c0737cfb-0233-43b1-b859-0e35c31d66f1",
   "metadata": {},
   "outputs": [],
   "source": [
    "#coount_Antiga_week = spark.read.parquet(\"s3://fiocruz-datalake-bucket/raw/aesop/dados_auxiliares/day_ibge.parquet\")\n",
    "#coount_Antiga_week.groupBy(\"ano\",\"semana\").agg( F.countDistinct(\"co_ibge\") ).orderBy(\"ano\",\"semana\") .show(1000)"
   ]
  },
  {
   "cell_type": "code",
   "execution_count": null,
   "id": "f946a28e-faff-43d3-b835-9cab537844d4",
   "metadata": {},
   "outputs": [],
   "source": []
  },
  {
   "cell_type": "code",
   "execution_count": null,
   "id": "36eea9cf-30bd-4a65-a29c-6d8fc05ab8e6",
   "metadata": {},
   "outputs": [],
   "source": [
    "semanas_epis.count()"
   ]
  },
  {
   "cell_type": "code",
   "execution_count": null,
   "id": "b7af4ac7-8b6e-48d0-87b3-3dc743a77a66",
   "metadata": {},
   "outputs": [],
   "source": [
    "epi_week_atend_2week_v3.printSchema()"
   ]
  },
  {
   "cell_type": "code",
   "execution_count": null,
   "id": "1990b189-3af7-4e42-97e8-b824274f6540",
   "metadata": {},
   "outputs": [],
   "source": [
    "#df_agg.groupBy(\"ANO\",\"SEMANA\").agg( F.countDistinct(\"CO_MUNICIPIO_IBGE\") ).orderBy(\"ano\",\"SEMANA\") .show(1000) para cada semana nao temos aqui todos os municipios"
   ]
  },
  {
   "cell_type": "code",
   "execution_count": null,
   "id": "f05a51a5-549b-4158-b895-56db6ae7f4ef",
   "metadata": {},
   "outputs": [],
   "source": [
    "test_novo = epi_week_atend_2week_v3.join(df_agg , [\"ANO\",\"SEMANA\",\"CO_MUNICIPIO_IBGE\"] , 'left').cache()\n",
    "test_novo_inner = epi_week_atend_2week_v3.join(df_agg , [\"ANO\",\"SEMANA\",\"CO_MUNICIPIO_IBGE\"] , 'inner')"
   ]
  },
  {
   "cell_type": "code",
   "execution_count": null,
   "id": "8eddbc74-c5dd-46ee-a7dc-601dc90edc36",
   "metadata": {},
   "outputs": [],
   "source": [
    "test_novo.count()"
   ]
  },
  {
   "cell_type": "code",
   "execution_count": null,
   "id": "5d3c8f9d-9670-4db8-9106-4828c6e43a6e",
   "metadata": {},
   "outputs": [],
   "source": [
    "test_novo_inner.count()"
   ]
  },
  {
   "cell_type": "code",
   "execution_count": null,
   "id": "f6910338-fd78-42b2-b103-a136d5a3139a",
   "metadata": {},
   "outputs": [],
   "source": [
    "2105460-2047598"
   ]
  },
  {
   "cell_type": "code",
   "execution_count": null,
   "id": "c5242ab2-1692-4c96-9aa3-61841692bce9",
   "metadata": {},
   "outputs": [],
   "source": [
    "#test_novo.groupBy(\"ANO\",\"SEMANA\").agg( F.countDistinct(\"CO_MUNICIPIO_IBGE\") ).orderBy(\"ano\",\"SEMANA\") .show(1000)"
   ]
  },
  {
   "cell_type": "code",
   "execution_count": null,
   "id": "09f7e2ec-caa2-451d-b48f-088d9e214f5d",
   "metadata": {},
   "outputs": [],
   "source": [
    "test_novo.groupBy(\"ANO\").agg(F.countDistinct(\"SEMANA\")).orderBy(\"ano\").show(10)"
   ]
  },
  {
   "cell_type": "code",
   "execution_count": null,
   "id": "584ea217-3b12-404f-8fb9-f713b91d3f90",
   "metadata": {},
   "outputs": [],
   "source": [
    "df_agg_v2 = semanas_epis.join(df_agg , [\"ANO\",\"SEMANA\",\"CO_MUNICIPIO_IBGE\"] , 'left')"
   ]
  },
  {
   "cell_type": "code",
   "execution_count": null,
   "id": "170843bd-55d9-46e6-a411-6daec0ac56be",
   "metadata": {},
   "outputs": [],
   "source": [
    "teste123 = semanas_epis.join(df_agg , [\"ANO\",\"SEMANA\",\"CO_MUNICIPIO_IBGE\"] , 'inner')"
   ]
  },
  {
   "cell_type": "code",
   "execution_count": null,
   "id": "0ddbfb36-bb2a-4d78-9453-7a74d4339f2c",
   "metadata": {},
   "outputs": [],
   "source": [
    "df_agg_v2.count()"
   ]
  },
  {
   "cell_type": "code",
   "execution_count": null,
   "id": "d75c5a81-b1a5-4192-8cec-465257aa7346",
   "metadata": {},
   "outputs": [],
   "source": [
    "test_novo.show(10)"
   ]
  },
  {
   "cell_type": "code",
   "execution_count": null,
   "id": "dba7bb0c-7a25-4ec5-b8e3-7ab23e192829",
   "metadata": {},
   "outputs": [],
   "source": [
    "#df_agg_v2.show(10)"
   ]
  },
  {
   "cell_type": "code",
   "execution_count": null,
   "id": "250076cb-d568-4be3-9c84-f4e31252b27d",
   "metadata": {},
   "outputs": [],
   "source": [
    "2328260-14333459"
   ]
  },
  {
   "cell_type": "code",
   "execution_count": null,
   "id": "08db8fb1-d6d7-4e70-8bb1-0cea30244a38",
   "metadata": {},
   "outputs": [],
   "source": [
    "check_anti = df_agg_v2.join(test_novo,[\"ANO\",\"SEMANA\",\"CO_MUNICIPIO_IBGE\"],'leftanti')"
   ]
  },
  {
   "cell_type": "code",
   "execution_count": null,
   "id": "0cd12611-9098-47c8-8f1b-00fa1a068615",
   "metadata": {},
   "outputs": [],
   "source": [
    "check_anti2 = test_novo.join(df_agg_v2,[\"ANO\",\"SEMANA\",\"CO_MUNICIPIO_IBGE\"],'leftanti')"
   ]
  },
  {
   "cell_type": "code",
   "execution_count": null,
   "id": "fc1527bf-dcef-49ab-b42a-5caf96d81ffd",
   "metadata": {},
   "outputs": [],
   "source": [
    "check_anti.count()"
   ]
  },
  {
   "cell_type": "code",
   "execution_count": null,
   "id": "8d8f6bd2-aabc-44e2-9cd2-b9f6a13bb59a",
   "metadata": {},
   "outputs": [],
   "source": [
    "check_anti2.count()"
   ]
  },
  {
   "cell_type": "code",
   "execution_count": null,
   "id": "7f7abff4-c5d5-4c94-9ea6-d1db09507550",
   "metadata": {},
   "outputs": [],
   "source": [
    "#check_anti.show(3000)"
   ]
  },
  {
   "cell_type": "code",
   "execution_count": null,
   "id": "2e67a9e4-abfe-49a3-b8b3-898270dc20ac",
   "metadata": {},
   "outputs": [],
   "source": [
    "cont_semana_antigo = semanas_epis.select(\"semana\",\"ano\").dropDuplicates().withColumn(\"semana\",F.col(\"semana\").cast(IntegerType()))"
   ]
  },
  {
   "cell_type": "code",
   "execution_count": null,
   "id": "2dedcb55-4229-4882-9744-edbfada3419e",
   "metadata": {},
   "outputs": [],
   "source": [
    "cont_semana_antigo.count()"
   ]
  },
  {
   "cell_type": "code",
   "execution_count": null,
   "id": "1c1a3cd3-43fc-462f-9edd-69c451ca30e7",
   "metadata": {},
   "outputs": [],
   "source": [
    "cont_semana_antigo.groupBy(\"ano\").agg(F.countDistinct(\"semana\")).orderBy(\"ano\").show(10)"
   ]
  },
  {
   "cell_type": "code",
   "execution_count": null,
   "id": "963c7a71-960e-425c-9685-869069775350",
   "metadata": {},
   "outputs": [],
   "source": [
    "max_ano"
   ]
  },
  {
   "cell_type": "code",
   "execution_count": null,
   "id": "4c67f3b8-6d02-4b1e-baad-7856407ea1ae",
   "metadata": {},
   "outputs": [],
   "source": [
    "#junta com os dados das semanas epidemiologicas completas, filtrando em seguida para dados ate 2023 e que a semana sejam somente as duas últimas, ou seja menor que a semana folder(semana atual) e maior que a semana folder - 1, ex: semana 47 seria de 46 a 47\n",
    "df_agg_v2 = epi_week_atend_2week_v3.join(df_agg , [\"ANO\",\"SEMANA\",\"CO_MUNICIPIO_IBGE\"] , 'left')\n",
    "#df_agg_v3 = df_agg_v2.filter(F.col(\"ANO\") == 2024)\n",
    "\n",
    "\n",
    "if semana_folder >= 2: # para 2 pega 1 e 2, para 5 para 5 e 4 ,e assim por diante\n",
    "    df_agg_v4 = df_agg_v2.filter(F.col(\"SEMANA\") <= semana_folder).filter(F.col(\"SEMANA\") >= semana_folder-1).filter(F.col(\"ANO\") == max_ano)\n",
    "elif semana_folder ==1:\n",
    "    if max_ano == 2022:\n",
    "        df_agg_v4_p1 = df_agg_v2.filter(F.col(\"SEMANA\") <= semana_folder)  #.filter(F.col(\"SEMANA\") >= semana_folder-1)\n",
    "        df_agg_v4_p2 = df_agg_v2.filter(F.col(\"SEMANA\") == 53).filter(F.col(\"ANO\") == 2021)\n",
    "        df_agg_v4 = df_agg_v4_p1.unionByName(df_agg_v4_p2)\n",
    "    else:\n",
    "        df_agg_v4_p1 = df_agg_v2.filter(F.col(\"SEMANA\") <= semana_folder)  \n",
    "        df_agg_v4_p2 = df_agg_v2.filter(F.col(\"SEMANA\") == 52).filter(F.col(\"ANO\") == max_ano-1)\n",
    "        df_agg_v4 = df_agg_v4_p1.unionByName(df_agg_v4_p2) \n",
    "    "
   ]
  },
  {
   "cell_type": "code",
   "execution_count": null,
   "id": "7a53a9ac-b962-41e4-93c3-81e88c7141a2",
   "metadata": {},
   "outputs": [],
   "source": [
    "df_agg_v4.filter(F.col(\"CO_MUNICIPIO_IBGE\") == \"110140\").show(30,False)"
   ]
  },
  {
   "cell_type": "code",
   "execution_count": null,
   "id": "566f6224-7667-47f7-a6b9-58a807a0b7e6",
   "metadata": {},
   "outputs": [],
   "source": [
    "df_agg_v4.filter(F.col(\"CO_MUNICIPIO_IBGE\") == \"110140\").show(30,False)"
   ]
  },
  {
   "cell_type": "code",
   "execution_count": null,
   "id": "47ac8e82-2ee8-4598-aac1-07301e590f8e",
   "metadata": {},
   "outputs": [],
   "source": [
    "#df_agg_v4.show(10)"
   ]
  },
  {
   "cell_type": "code",
   "execution_count": null,
   "id": "7c9be774-1a62-4a58-9ec7-c599160af132",
   "metadata": {},
   "outputs": [],
   "source": [
    "windowSpec = Window.partitionBy(\"CO_MUNICIPIO_IBGE\")"
   ]
  },
  {
   "cell_type": "code",
   "execution_count": null,
   "id": "6ff34012-4d9f-48cb-84fd-27931ceef3bf",
   "metadata": {},
   "outputs": [],
   "source": [
    "\n",
    "\n",
    "df_agg_v5 = df_agg_v4.withColumn(\"count_empty\", F.sum(F.when(F.col(\"qt_total\").isNull(), 1).otherwise(0)).over(windowSpec))\n",
    "df_agg_v6 = df_agg_v5.select(\"CO_MUNICIPIO_IBGE\",\"SEMANA\",\"ANO\",\"count_empty\").groupBy(\"CO_MUNICIPIO_IBGE\").agg(F.first(\"count_empty\").alias(\"sum_miss\"))\n",
    "df_agg_v7 = df_agg_v6.withColumn(\"co_ibge\",F.col(\"CO_MUNICIPIO_IBGE\").cast(IntegerType()).cast(StringType()) ).drop(\"CO_MUNICIPIO_IBGE\")\n",
    "\n"
   ]
  },
  {
   "cell_type": "code",
   "execution_count": null,
   "id": "d85ccd2c-fb38-453d-a449-01b665b58be9",
   "metadata": {},
   "outputs": [],
   "source": [
    "df_agg_v5.filter(F.col(\"CO_MUNICIPIO_IBGE\") == \"110140\").show(100,False)"
   ]
  },
  {
   "cell_type": "code",
   "execution_count": null,
   "id": "7edbd04d-f155-4339-bde5-926d2f144e02",
   "metadata": {},
   "outputs": [],
   "source": [
    "df_agg_v6.filter(F.col(\"CO_MUNICIPIO_IBGE\") == \"110140\").show(100,False)"
   ]
  },
  {
   "cell_type": "code",
   "execution_count": null,
   "id": "25c7adeb-e248-44dc-9bca-9195ea55aca1",
   "metadata": {},
   "outputs": [],
   "source": [
    "#df_agg_v5.filter(F.col(\"CO_MUNICIPIO_IBGE\") == \"110140\").show(30,False)"
   ]
  },
  {
   "cell_type": "code",
   "execution_count": null,
   "id": "bc1889d5-b5d3-4ab6-81ba-a2001535ef20",
   "metadata": {},
   "outputs": [],
   "source": []
  },
  {
   "cell_type": "code",
   "execution_count": null,
   "id": "7fb6e6e4-5997-4e6d-9676-661bc93c8582",
   "metadata": {},
   "outputs": [],
   "source": []
  },
  {
   "cell_type": "markdown",
   "id": "9b05fa26-1a6b-4599-8ba2-dec1ae88a069",
   "metadata": {},
   "source": [
    "#### Atendimentos (atd) nas últimas semanas\n",
    "TODO: verificar filtro ano"
   ]
  },
  {
   "cell_type": "code",
   "execution_count": null,
   "id": "de341648-d6a0-431f-a83c-1e7adcb40e2b",
   "metadata": {},
   "outputs": [],
   "source": [
    "#agrupar os dados de \"ANO\",\"SEMANA\",\"SG_UF\",\"CO_MUNICIPIO_IBGE\" somando o qt_total\n",
    "df_agg = sisab_diff.groupBy(\"ANO\",\"SEMANA\",\"SG_UF\",\"CO_MUNICIPIO_IBGE\").agg(F.sum(\"qt_total\").alias(\"qt_total\")) \n",
    "\n",
    "#junta com os dados das semanas epidemiologicas completas, filtrando em seguida para dados ate 2023 e que a semana sejam somente as duas últimas, ou seja menor que a semana folder(semana atual) e maior que a semana folder - 1, ex: semana 47 seria de 46 a 47\n",
    "df_agg_v2 = epi_week_atend_2week_v3.join(df_agg , [\"ANO\",\"SEMANA\",\"CO_MUNICIPIO_IBGE\"] , 'left')\n",
    "\n",
    "if semana_folder >= 2: # para 2 pega 1 e 2, para 5 para 5 e 4 ,e assim por diante\n",
    "    df_agg_v4 = df_agg_v2.filter(F.col(\"SEMANA\") <= semana_folder).filter(F.col(\"SEMANA\") >= semana_folder-1).filter(F.col(\"ANO\") == max_ano)\n",
    "elif semana_folder ==1:\n",
    "    if max_ano == 2022:\n",
    "        df_agg_v4_p1 = df_agg_v2.filter(F.col(\"SEMANA\") <= semana_folder)  #.filter(F.col(\"SEMANA\") >= semana_folder-1)\n",
    "        df_agg_v4_p2 = df_agg_v2.filter(F.col(\"SEMANA\") == 53).filter(F.col(\"ANO\") == 2021)\n",
    "        df_agg_v4 = df_agg_v4_p1.unionByName(df_agg_v4_p2)\n",
    "    else:\n",
    "        df_agg_v4_p1 = df_agg_v2.filter(F.col(\"SEMANA\") <= semana_folder)  \n",
    "        df_agg_v4_p2 = df_agg_v2.filter(F.col(\"SEMANA\") == 52).filter(F.col(\"ANO\") == max_ano-1)\n",
    "        df_agg_v4 = df_agg_v4_p1.unionByName(df_agg_v4_p2) \n",
    "\n",
    "#para criar a variável sum_miss que tem 3 categorias, 0(com atendimentos nas 2 semanas) , 1 (com atendimento em somente 1 das duas semanas ) e 2 (sem atendimetnos nas duas semanas)\n",
    "windowSpec = Window.partitionBy(\"CO_MUNICIPIO_IBGE\")\n",
    "\n",
    "df_agg_v5 = df_agg_v4.withColumn(\"count_empty\", F.sum(F.when(F.col(\"qt_total\").isNull(), 1).otherwise(0)).over(windowSpec))\n",
    "df_agg_v6 = df_agg_v5.select(\"CO_MUNICIPIO_IBGE\",\"SEMANA\",\"ANO\",\"count_empty\").groupBy(\"CO_MUNICIPIO_IBGE\").agg(F.first(\"count_empty\").alias(\"sum_miss\"))\n",
    "df_agg_v7 = df_agg_v6.withColumn(\"co_ibge\",F.col(\"CO_MUNICIPIO_IBGE\").cast(IntegerType()).cast(StringType()) ).drop(\"CO_MUNICIPIO_IBGE\")\n",
    "\n",
    "dqi = df_agg_v7.join(tempestividade5,['co_ibge'],'left')"
   ]
  },
  {
   "cell_type": "code",
   "execution_count": null,
   "id": "74ef8629-8280-42d5-8343-5117f1177363",
   "metadata": {},
   "outputs": [],
   "source": [
    "dqi.filter(F.col(\"co_ibge\") == \"110140\").show(100,False)"
   ]
  },
  {
   "cell_type": "code",
   "execution_count": null,
   "id": "1937a872-7a5f-496f-92ba-be0004770509",
   "metadata": {},
   "outputs": [],
   "source": [
    "dqi_v2 = dqi.join(comp_percentage,['co_ibge'],'left')\n",
    "\n",
    "dqi_v2 = dqi_v2.withColumn(\"tempestividade\",F.when(F.col(\"diff_2w\") >=  75,  0).otherwise(1)  )\n",
    "dqi_v2 = dqi_v2.withColumn(\"completude\",F.when(F.col(\"perc_completude\") >=  85, 0).otherwise(1)  )\n",
    "\n",
    "cond1 = F.col(\"completude\") == 0\n",
    "cond2 = F.col(\"tempestividade\") == 0\n",
    "cond3 = F.col(\"sum_miss\") == 0\n",
    "\n",
    "dqi_v2 = dqi_v2.withColumn(\"dqi\",F.when( cond1 & cond2 & cond3, \"Apto\").otherwise(\"Não Apto\")  )"
   ]
  },
  {
   "cell_type": "code",
   "execution_count": null,
   "id": "83ad81eb-7595-4a9b-8228-da4ba3282050",
   "metadata": {},
   "outputs": [],
   "source": [
    "\"\"\" dqi_v3.show()\n",
    "+---+-------+-------------------+--------+--------+------------+---------------+--------+--------+--------+----------+--------------+--------+\n",
    "| uf|co_ibge|          municipio|epi_week|epi_year|perc_missing|perc_completude| diff_2w| diff_3w|sum_miss|completude|tempestividade|     dqi|\n",
    "+---+-------+-------------------+--------+--------+------------+---------------+--------+--------+--------+----------+--------------+--------+\n",
    "| PA| 150200| Cachoeira do Arari|      52|    2023|        12.5|           87.5|32.79879|67.20121|       1|         0|             1|Não Apto|\n",
    "| PI| 220290|           Corrente|      52|    2023|         0.0|          100.0| 91.6261|  8.3739|       0|         0|             0|    Apto|\n",
    "\"\"\"\n",
    "\n",
    "dqi_v3 = dqi_v2.select(\"uf\", \"co_ibge\", \"municipio\", \"epi_week\", \"epi_year\", \"perc_missing\", \"perc_completude\", \"diff_2w\", \"diff_3w\", \"sum_miss\", \"completude\", \"tempestividade\", \"dqi\")\n",
    "dqi_v3 = dqi_v3.na.fill({'diff_2w': 0, 'diff_3w': 0})"
   ]
  },
  {
   "cell_type": "code",
   "execution_count": null,
   "id": "0a42bd5f-3d1a-40dd-871e-79283b2d1f0d",
   "metadata": {},
   "outputs": [],
   "source": [
    "caminho_pasta"
   ]
  },
  {
   "cell_type": "code",
   "execution_count": null,
   "id": "5e136c3e-9dbc-42fc-8691-43c89dd0acae",
   "metadata": {},
   "outputs": [],
   "source": [
    "caminho_pasta"
   ]
  },
  {
   "cell_type": "code",
   "execution_count": null,
   "id": "696bff89-8b6e-4e0d-b816-7ac7327fd33e",
   "metadata": {},
   "outputs": [],
   "source": [
    "#path_salvar = \"s3://fiocruz-datalake-bucket/\"+caminho_pasta\n",
    "path_salvar = \"s3://fiocruz-datalake-bucket/standard/reports/report_dqi/dqi_retrospectivo/\""
   ]
  },
  {
   "cell_type": "code",
   "execution_count": null,
   "id": "5732956e-a36b-471f-bc4b-8e86d01b7aa6",
   "metadata": {},
   "outputs": [],
   "source": [
    "#path_salvar_dqi = aesop_dqi_report_folder+'semana_'+str(semana_folder)+\"/dqi.csv\"\n",
    "\n",
    "\n",
    "dqi_v3.toPandas().to_csv(path_salvar+\"dqi_13_teste.csv\",index=False)\n",
    "path_salvar"
   ]
  },
  {
   "cell_type": "code",
   "execution_count": null,
   "id": "f28af5d7-7619-4d0d-af53-b2c01a7cf303",
   "metadata": {},
   "outputs": [],
   "source": [
    "%stop_session"
   ]
  }
 ],
 "metadata": {
  "kernelspec": {
   "display_name": "Glue PySpark",
   "language": "python",
   "name": "glue_pyspark"
  },
  "language_info": {
   "codemirror_mode": {
    "name": "python",
    "version": 3
   },
   "file_extension": ".py",
   "mimetype": "text/x-python",
   "name": "Python_Glue_Session",
   "pygments_lexer": "python3"
  }
 },
 "nbformat": 4,
 "nbformat_minor": 5
}
