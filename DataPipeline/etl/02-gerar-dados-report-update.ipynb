{
 "cells": [
  {
   "cell_type": "code",
   "execution_count": null,
   "id": "77a2b3d9-9881-4b67-ba1c-8543e25a3557",
   "metadata": {},
   "outputs": [],
   "source": [
    "%region us-east-1\n",
    "%iam_role #setar \n",
    "%idle_timeout 30\n",
    "%glue_version 4.0\n",
    "%worker_type G.1X\n",
    "%number_of_workers 6\n",
    "\n",
    "#%additional_python_modules s3://fiocruz-datalake-bucket/raw/aesop/dados_auxiliares/python_utils/teste.py\n",
    "%extra_py_files s3://fiocruz-datalake-bucket/raw/aesop/dados_auxiliares/python_utils/util_custom.py\n",
    "\n",
    "import sys\n",
    "from awsglue.transforms import *\n",
    "from awsglue.utils import getResolvedOptions\n",
    "from pyspark.context import SparkContext\n",
    "from awsglue.context import GlueContext\n",
    "from awsglue.job import Job\n",
    "  \n",
    "sc = SparkContext.getOrCreate()\n",
    "glueContext = GlueContext(sc)\n",
    "spark = glueContext.spark_session\n",
    "job = Job(glueContext)"
   ]
  },
  {
   "cell_type": "code",
   "execution_count": null,
   "id": "5cf3202d-42ed-4749-9b5a-fa702d2c5234",
   "metadata": {},
   "outputs": [],
   "source": [
    "from util_custom import *\n",
    "from pyspark.sql import functions as F\n",
    "from pyspark.sql.types import *\n",
    "import os\n",
    "from datetime import datetime, timedelta"
   ]
  },
  {
   "cell_type": "code",
   "execution_count": null,
   "id": "fcedaefd-7c5b-4238-989f-df6ee6ffcc81",
   "metadata": {},
   "outputs": [],
   "source": [
    "import boto3\n",
    "from botocore.exceptions import ClientError\n",
    "\n",
    "def create_folder_in_specific_location(bucket_name, full_folder_path):\n",
    "    # Adiciona uma barra ao final do caminho da pasta, se não houver\n",
    "    if not full_folder_path.endswith('/'):\n",
    "        full_folder_path += '/'\n",
    "    \n",
    "    s3 = boto3.resource('s3')\n",
    "    bucket = s3.Bucket(bucket_name)\n",
    "    \n",
    "    # Verifica se a pasta já existe\n",
    "    objs = list(bucket.objects.filter(Prefix=full_folder_path))\n",
    "    if any(obj.key == full_folder_path for obj in objs):\n",
    "        print(f\"A pasta '{full_folder_path}' já existe no bucket '{bucket_name}'.\")\n",
    "    else:\n",
    "        # Tenta criar a pasta (objeto S3 com chave terminando em '/')\n",
    "        try:\n",
    "            s3.Object(bucket_name, full_folder_path).put(Body=b'')\n",
    "            print(f\"Pasta '{full_folder_path}' criada com sucesso no bucket '{bucket_name}'.\")\n",
    "        except ClientError as e:\n",
    "            print(f\"Erro ao criar a pasta: {e}\")\n",
    "\n",
    "\n",
    "def list_all_files_in_folders_s3(bucket_name, prefix):\n",
    "    \"\"\"\n",
    "    Lista todos os arquivos dentro de todas as subpastas de um prefixo específico em um bucket S3.\n",
    "\n",
    "    :param bucket_name: Nome do bucket S3.\n",
    "    :param prefix: Prefixo dentro do bucket onde as subpastas estão localizadas.\n",
    "    :return: Uma lista de nomes de arquivos dentro de todas as subpastas sob o prefixo especificado.\n",
    "    \"\"\"\n",
    "    s3 = boto3.client('s3')\n",
    "    all_files = []\n",
    "\n",
    "    # Garante que o prefixo termine com uma barra, se já não terminar.\n",
    "    if not prefix.endswith('/'):\n",
    "        prefix += '/'\n",
    "\n",
    "    # Lista todas as 'subpastas' dentro do prefixo.\n",
    "    response = s3.list_objects_v2(Bucket=bucket_name, Prefix=prefix, Delimiter='/')\n",
    "\n",
    "    subfolders = []\n",
    "    if 'CommonPrefixes' in response:\n",
    "        for folder in response['CommonPrefixes']:\n",
    "            subfolders.append(folder['Prefix'])\n",
    "\n",
    "    # Para cada subpasta, lista todos os arquivos dentro dela.\n",
    "    for folder_name in subfolders:\n",
    "        resp = s3.list_objects_v2(Bucket=bucket_name, Prefix=folder_name)\n",
    "        if 'Contents' in resp:\n",
    "            for file in resp['Contents']:\n",
    "                # Adiciona o nome do arquivo à lista\n",
    "                all_files.append(file['Key'])\n",
    "    data_max = sorted(all_files)[-1][-12:-4]\n",
    "    return data_max\n",
    "\n",
    "\n",
    "\n",
    "\n",
    "# Exemplo de uso\n",
    "bucket_name = 'fiocruz-datalake-bucket'\n"
   ]
  },
  {
   "cell_type": "code",
   "execution_count": null,
   "id": "1981f70d-4d84-4f83-989c-608bb3f7fc78",
   "metadata": {},
   "outputs": [],
   "source": []
  },
  {
   "cell_type": "code",
   "execution_count": null,
   "id": "cfe2ec62-731c-4029-a1b3-355a551faef4",
   "metadata": {},
   "outputs": [],
   "source": [
    "#aesop_2017_2024 = spark.read.parquet(aesop_hpc_path+get_hpc_parquet_file_name())\n",
    "#aesop_hpc_path+get_hpc_parquet_file_name()\n",
    "\n",
    "aesop_2017_2024 = spark.read.parquet(\"s3://fiocruz-datalake-bucket/standard/output_hpc/2017_20240414_AESOP.parquet\")\n",
    "#aesop_2017_2024 = spark.read.parquet('/dados10t/datalake/standard/aesop/aesop_hpc/2017_20240114_AESOP.parquet/')"
   ]
  },
  {
   "cell_type": "code",
   "execution_count": null,
   "id": "9ce670c1-80b1-490e-bba5-ae0744f15679",
   "metadata": {},
   "outputs": [],
   "source": [
    "max_ano = aesop_2017_2024.agg(F.max(\"ano\")).collect()[0][0]\n",
    "semana_folder = aesop_2017_2024.filter(F.col(\"ano\") == max_ano).agg(F.max(\"epiweek\")).collect()[0][0]\n",
    "(semana_folder, max_ano)"
   ]
  },
  {
   "cell_type": "code",
   "execution_count": null,
   "id": "df0bbbda-b9ac-45ab-8d9d-157ae8716f08",
   "metadata": {},
   "outputs": [],
   "source": [
    "semana_folder = 15 # remover isso, somente por conta do bug do dado que não teve semante corrente"
   ]
  },
  {
   "cell_type": "code",
   "execution_count": null,
   "id": "48dcb6a0-749e-4f67-b881-7ae30983f3c7",
   "metadata": {},
   "outputs": [],
   "source": [
    "aesop_report_folder  = \"standard/reports/report_update/\""
   ]
  },
  {
   "cell_type": "code",
   "execution_count": null,
   "id": "4aebfb78-e162-478b-a854-06daf069e705",
   "metadata": {},
   "outputs": [],
   "source": [
    "caminho_pasta = aesop_report_folder+\"semana_\"+str(semana_folder)+\"_\"+str(max_ano)\n",
    "caminho_pasta\n",
    "create_folder_in_specific_location(bucket_name,caminho_pasta)"
   ]
  },
  {
   "cell_type": "code",
   "execution_count": null,
   "id": "e9dd4fab-c977-4126-ab92-921ebac20dcd",
   "metadata": {},
   "outputs": [],
   "source": [
    "#df = spark.read.parquet(aesop_parquet_path+get_parquet_file_name())\n",
    "#aesop_parquet_path+get_parquet_file_name()\n",
    "#df = spark.read.parquet('/dados10t/datalake/raw/aesop/parquet_explorer/aesop_dados_2017_20240114.parquet/')\n",
    "df = spark.read.parquet(\"s3://fiocruz-datalake-bucket/raw/aesop/dados-ms-parquet/aesop_dados_2017_20240414.parquet/\")"
   ]
  },
  {
   "cell_type": "code",
   "execution_count": null,
   "id": "f588c250-8630-491d-80a6-d3d3f7fc6d42",
   "metadata": {},
   "outputs": [],
   "source": [
    "df.count()"
   ]
  },
  {
   "cell_type": "code",
   "execution_count": null,
   "id": "7076d4fe-602b-4076-b797-6231bc095d29",
   "metadata": {},
   "outputs": [],
   "source": [
    "prefix = 'raw/aesop/dados_ms_originais/csv/semanal_02_out_23_ate_atual/'  # Caminho relativo dentro do bucket onde as pastas estão localizadas\n",
    "try:\n",
    "    dt_filtro_ultimo_dia = list_all_files_in_folders_s3(bucket_name, prefix)\n",
    "    \n",
    "except ValueError as e:\n",
    "    print(e)\n",
    "\n",
    "\n",
    "#dt_filtro_ultimo_dia = \"20240324\"\n",
    "print(\"Data mais recente:\", dt_filtro_ultimo_dia)\n",
    "dt_filtro_ultimo_7dias = (datetime.strptime(dt_filtro_ultimo_dia, '%Y%m%d') - timedelta(days = 6)).strftime(\"%Y-%m-%d\")\n",
    "print(dt_filtro_ultimo_7dias)"
   ]
  },
  {
   "cell_type": "code",
   "execution_count": null,
   "id": "2813af51-7978-4764-bdee-c720869f3fc4",
   "metadata": {},
   "outputs": [],
   "source": [
    "df = df.filter((F.col(\"FX_ETARIA\")).isNotNull())\n",
    "df = df.filter(F.col(\"ANO\") >= 2017)"
   ]
  },
  {
   "cell_type": "markdown",
   "id": "7ee97b57-14c4-4580-aee7-6ac58ee294a2",
   "metadata": {},
   "source": [
    "#### formata CID-CIAP"
   ]
  },
  {
   "cell_type": "code",
   "execution_count": null,
   "id": "7a628faf-671f-45be-bab8-76fb2f39dff5",
   "metadata": {},
   "outputs": [],
   "source": [
    "# remove pontos da coluna de cidciap\n",
    "df = df.withColumn(\"CIDCIAP\", F.regexp_replace(F.col(\"CIDCIAP\"), \"\\\\.\", \"\"))"
   ]
  },
  {
   "cell_type": "code",
   "execution_count": null,
   "id": "02740ad8-15d9-4a1a-92ed-ffe50b9b674c",
   "metadata": {},
   "outputs": [],
   "source": [
    "# corta primeiros 4 digitos da colula CIDCIAP\n",
    "df_CIDCIAP = df.withColumn('Codigo_CIDCIAP', F.substring('CIDCIAP', -5,5))\n",
    "# remove parenteses da nova coluna\n",
    "df_CIDCIAP = df_CIDCIAP.withColumn('Codigo_CIDCIAP_NEW', F.regexp_replace(F.col(\"Codigo_CIDCIAP\"), \"[\\()]\", \"\"))\n",
    "# Use the split function to separate the string into two columns\n",
    "df_CIDCIAP = df_CIDCIAP.withColumn(\"name_CIDCIAP\", F.split(F.col(\"CIDCIAP\"), \"\\\\(\").getItem(0))"
   ]
  },
  {
   "cell_type": "code",
   "execution_count": null,
   "id": "6736fa65-97b3-4d49-a3cb-009211708a62",
   "metadata": {},
   "outputs": [],
   "source": [
    "# Define a condition to check the length of the text\n",
    "condition = (F.length(F.col('Codigo_CIDCIAP_NEW')) == 4)\n",
    "# cria codigo CIDCIAP de 3 letras\n",
    "df_CIDCIAP = df_CIDCIAP.withColumn(\n",
    "    'Codigo_CIDCIAP_NEW_FINAL',\n",
    "    F.when(condition, F.expr(\"substring(Codigo_CIDCIAP_NEW, 1, length(Codigo_CIDCIAP_NEW)-1)\"))\n",
    "    .otherwise(F.col('Codigo_CIDCIAP_NEW'))\n",
    ")"
   ]
  },
  {
   "cell_type": "code",
   "execution_count": null,
   "id": "af4b7150-daf5-4c35-a7a1-d2511bcca8d5",
   "metadata": {},
   "outputs": [],
   "source": [
    "#concat acronimo with number\n",
    "df_CIDCIAP = df_CIDCIAP.withColumn(\"Codigo_CIDCIAP_NEW_FINAL\", F.concat_ws(\"\", df_CIDCIAP[\"name_CIDCIAP\"], df_CIDCIAP[\"Codigo_CIDCIAP_NEW_FINAL\"]))\n",
    "# dropa colunas temporarias\n",
    "df_CIDCIAP = df_CIDCIAP.drop(\"Codigo_CIDCIAP\",\"Codigo_CIDCIAP_NEW\",'name_CIDCIAP')"
   ]
  },
  {
   "cell_type": "markdown",
   "id": "f94d20f7-0c9d-4db9-9fa6-fcce158335dc",
   "metadata": {},
   "source": [
    "#### gera ivas"
   ]
  },
  {
   "cell_type": "code",
   "execution_count": null,
   "id": "9ca6643f-20a2-4f73-8922-b97681673a2d",
   "metadata": {},
   "outputs": [],
   "source": [
    "codigos_ivas_numero = ['CIAPA03','CIAPR01','CIAPR02','CIAPR03','CIAPR04','CIAPR05','CIAPR07','CIAPR08','CIAPR21','CIAPR23','CIAPR25','CIAPR29','CIAPR71','CIAPR74','CIAPR75',\n",
    "                       'CIAPR76','CIAPR77','CIAPR78','CIAPR80','CIAPR81','CIAPR83','CIAPR99','CIDJ00','CIDJ01','CIDJ02','CIDJ03','CIDJ04','CIDJ06','CIDJ09','CIDJ10',\n",
    "                       'CIDJ11','CIDJ12','CIDJ13','CIDJ14','CIDJ15','CIDJ16','CIDJ17','CIDJ18','CIDJ20','CIDJ21','CIDJ22','CIDJ80','CIDR05','CIDR06','CIDR07','CIDR43',\n",
    "                       'CIDR50','CIDU07','CIDB34','CIDB97']\n",
    "\n",
    "df_IVAS = df_CIDCIAP.withColumn(\"atend_ivas\", F.when( (F.col(\"Codigo_CIDCIAP_NEW_FINAL\").isin(codigos_ivas_numero) ), F.col(\"QT\")).otherwise(0))"
   ]
  },
  {
   "cell_type": "code",
   "execution_count": null,
   "id": "b79fa324-2935-46bc-9938-f24f6079f3c5",
   "metadata": {},
   "outputs": [],
   "source": [
    "codigos_ivas_exclusao = ['CID(R072)']\n",
    "df_IVAS = df_IVAS.withColumn(\"atend_ivas\", F.when( (F.col(\"CIDCIAP\").isin(codigos_ivas_exclusao) ), 0).otherwise(F.col(\"atend_ivas\")))"
   ]
  },
  {
   "cell_type": "markdown",
   "id": "f637b1f1-71f6-470d-a90c-61fb7890f3a7",
   "metadata": {},
   "source": [
    "#### format cid-ciap\n",
    "TODO: remove"
   ]
  },
  {
   "cell_type": "code",
   "execution_count": null,
   "id": "255634d5-8744-4b31-9901-4830268bf998",
   "metadata": {},
   "outputs": [],
   "source": [
    "df_IVAS = df_IVAS\\\n",
    ".withColumn(\"Tipo_CIDCIAP\", F.substring_index(df_IVAS.CIDCIAP, '(', 1))\\\n",
    ".withColumn(\"Codigo_CIDCIAP\", F.substring_index(df_IVAS.CIDCIAP, '(', -1))"
   ]
  },
  {
   "cell_type": "code",
   "execution_count": null,
   "id": "3479eaa7-5da5-4dd7-9194-97aa993068c7",
   "metadata": {},
   "outputs": [],
   "source": [
    "#remover paratese\n",
    "df_IVAS = df_IVAS.withColumn(\"Codigo_CIDCIAP\",F.regexp_replace(\"Codigo_CIDCIAP\",\"\\)\",\"\"))\n",
    "#criar cid com 3 digitos\n",
    "df_IVAS_v2 = df_IVAS.withColumn(\"Codigo_CIDCIAP_v2\",F.when(F.col(\"Tipo_CIDCIAP\") == \"CID\",F.substring(\"Codigo_CIDCIAP\",1,3)  ).otherwise(F.col(\"Codigo_CIDCIAP\")) )"
   ]
  },
  {
   "cell_type": "code",
   "execution_count": null,
   "id": "184a6f42-bfbd-401f-8cae-9cd8fa7e27ba",
   "metadata": {},
   "outputs": [],
   "source": [
    "df_IVAS_v2.count()"
   ]
  },
  {
   "cell_type": "code",
   "execution_count": null,
   "id": "ebb4651d-8003-406f-8c90-133f25a0c242",
   "metadata": {},
   "outputs": [],
   "source": [
    "dt_filtro_ultimo_7dias"
   ]
  },
  {
   "cell_type": "code",
   "execution_count": null,
   "id": "95372515-2c0d-439a-a4fd-e83af7f12722",
   "metadata": {},
   "outputs": [],
   "source": [
    "df_last_semana = df_IVAS_v2.filter(F.col(\"Data_folder\") >= dt_filtro_ultimo_7dias)"
   ]
  },
  {
   "cell_type": "code",
   "execution_count": null,
   "id": "041e8004-16b9-496a-9cd8-2e176d5dfe37",
   "metadata": {},
   "outputs": [],
   "source": [
    "df_last_semana.count()"
   ]
  },
  {
   "cell_type": "code",
   "execution_count": null,
   "id": "c485565a-f54e-40c2-8587-1dd18ced4730",
   "metadata": {},
   "outputs": [],
   "source": [
    "df_plot_last_semana = df_last_semana.groupBy(\"SEMANA\", 'ANO').agg(F.sum(\"QT\").alias(\"TOTAL\"))"
   ]
  },
  {
   "cell_type": "code",
   "execution_count": null,
   "id": "1120d1eb-f8b5-438d-899d-25f7361b0d24",
   "metadata": {},
   "outputs": [],
   "source": [
    "#df_IVAS_v2.orderBy(F.desc(\"Data_folder\")).show(100)"
   ]
  },
  {
   "cell_type": "code",
   "execution_count": null,
   "id": "838d7401-318f-49e7-b612-55e427912f03",
   "metadata": {},
   "outputs": [],
   "source": [
    "#df_plot_last_semana.filter(F.col('ANO')==2024).show()"
   ]
  },
  {
   "cell_type": "code",
   "execution_count": null,
   "id": "a997e890-e55e-4611-8c3f-976dfe25915d",
   "metadata": {},
   "outputs": [],
   "source": [
    "caminho_pasta"
   ]
  },
  {
   "cell_type": "code",
   "execution_count": null,
   "id": "a71a06f9-137b-4a63-998f-2f485b0b9d3e",
   "metadata": {},
   "outputs": [],
   "source": [
    "df_plot_last_semana.count()"
   ]
  },
  {
   "cell_type": "markdown",
   "id": "33fa4d17-f326-4897-a102-c64698604fb4",
   "metadata": {},
   "source": [
    "#### aesop_qt_ultima_semana"
   ]
  },
  {
   "cell_type": "code",
   "execution_count": null,
   "id": "5431b9f8-ecd8-4990-bef5-848b4ab7e434",
   "metadata": {},
   "outputs": [],
   "source": [
    "#df_plot_last_semana.toPandas().to_parquet(aesop_report_folder +\"semana_\"+str(semana_folder)+ \"/aesop_qt_ultima_semana.parquet\") \n",
    "#aesop_report_folder +\"semana_\"+str(semana_folder)+ \"/aesop_qt_ultima_semana.parquet\"\n",
    "\n",
    "#df_plot_last_semana.toPandas().to_parquet(\"s3://fiocruz-datalake-bucket/standard/reports/report_update/semana_12_2024/aesop_qt_ultima_semana.parquet\")\n",
    "\n",
    "path_salvar = \"s3://fiocruz-datalake-bucket/\"+caminho_pasta\n",
    "\n",
    "df_plot_last_semana.toPandas().to_parquet(path_salvar+\"/aesop_qt_ultima_semana.parquet\")"
   ]
  },
  {
   "cell_type": "markdown",
   "id": "ab3c57fa-be65-40d7-b6b6-47366c599fee",
   "metadata": {},
   "source": [
    "#### listar de municípios que não enviaram dados "
   ]
  },
  {
   "cell_type": "code",
   "execution_count": null,
   "id": "d0bf5a60-e795-4773-9730-f6f16a14ce09",
   "metadata": {},
   "outputs": [],
   "source": [
    "reg_saude_br = spark.read.csv('s3://fiocruz-datalake-bucket/raw/aesop/dados_auxiliares/regiao_de_saude_brasil.csv',sep = ',', header='true')\n",
    "reg_saude_br = reg_saude_br.withColumnRenamed(\"Cód IBGE\",\"cod_IBGE\")"
   ]
  },
  {
   "cell_type": "code",
   "execution_count": null,
   "id": "4e700843-f20b-43bf-965e-c6fee0e2184a",
   "metadata": {},
   "outputs": [],
   "source": [
    "df_mun_faltantes = df_last_semana"
   ]
  },
  {
   "cell_type": "code",
   "execution_count": null,
   "id": "a780e92f-62c2-44a5-a1bd-091a7443e82a",
   "metadata": {},
   "outputs": [],
   "source": [
    "res = reg_saude_br.join(df_mun_faltantes, reg_saude_br.cod_IBGE == df_mun_faltantes.CO_MUNICIPIO_IBGE,'leftanti')"
   ]
  },
  {
   "cell_type": "code",
   "execution_count": null,
   "id": "abcf6341-85ef-4602-8c10-3cd2f72c43f8",
   "metadata": {},
   "outputs": [],
   "source": [
    "res_v2 = res.dropDuplicates([\"cod_IBGE\"])"
   ]
  },
  {
   "cell_type": "code",
   "execution_count": null,
   "id": "f513ced5-ba30-4766-bbd6-a4d49dc4ec9e",
   "metadata": {},
   "outputs": [],
   "source": [
    "#res_v2.select(\"UF\",\"cod_IBGE\",\"Município\").toPandas().to_parquet(aesop_report_folder +\"semana_\"+str(semana_folder)+ \"/mun_nao_enviaram_v2.parquet\")\n",
    "#aesop_report_folder +\"semana_\"+str(semana_folder)+ \"/mun_nao_enviaram_v2.parquet\"\n",
    "res_v2.select(\"UF\",\"cod_IBGE\",\"Município\").toPandas().to_parquet(path_salvar+\"/mun_nao_enviaram_v2.parquet\")"
   ]
  },
  {
   "cell_type": "markdown",
   "id": "b5e8159f-9d25-43e3-92f2-d649184602e2",
   "metadata": {},
   "source": [
    "#### gerar dado para plot tabela de cid e ciap 4 digitos por uf e cid/ciap"
   ]
  },
  {
   "cell_type": "code",
   "execution_count": null,
   "id": "f3fb760a-c5d3-4ff0-afd4-42c07facb874",
   "metadata": {},
   "outputs": [],
   "source": [
    "df_plot_tabela_cid_ciap = df_IVAS_v2.filter(F.col(\"ANO\") == 2024).groupBy(\"SG_UF\",\"Tipo_CIDCIAP\",\"Codigo_CIDCIAP\").agg(F.sum(\"atend_ivas\").alias(\"atend_ivas\")) #gerar plot por contribuição do cid"
   ]
  },
  {
   "cell_type": "code",
   "execution_count": null,
   "id": "9eaa60fd-ec31-49f4-b6a6-5b529ae7290b",
   "metadata": {},
   "outputs": [],
   "source": [
    "#df_plot_tabela_cid_ciap.toPandas().to_csv(aesop_report_folder +\"semana_\"+str(semana_folder)+\"/aesop_tabela_codigos_uf_2024.csv\",sep =\";\",index = False)\n",
    "#aesop_report_folder +\"semana_\"+str(semana_folder)+\"/aesop_tabela_codigos_uf_2024.csv\"\n",
    "\n",
    "\n",
    "df_plot_tabela_cid_ciap.toPandas().to_csv(path_salvar+\"/aesop_tabela_codigos_uf_2024.csv\",sep =\";\",index = False)\n"
   ]
  },
  {
   "cell_type": "markdown",
   "id": "4a00c8cd-84ee-4baf-b7c0-8fdd70703e0e",
   "metadata": {},
   "source": [
    "#### gerar dado para plot contribuição por cid para as ultimas 50 semanas"
   ]
  },
  {
   "cell_type": "code",
   "execution_count": null,
   "id": "8d32f2ef-c8ef-4b6c-bb55-5ce3dddabd5e",
   "metadata": {},
   "outputs": [],
   "source": [
    "df_plot_contrib = df_IVAS_v2\\\n",
    ".filter(F.col(\"ANO\") >= max_ano-1)\\\n",
    ".filter((F.col(\"ANO\") == max_ano) | (F.col(\"SEMANA\") >= semana_folder))\\\n",
    ".groupBy(\"SEMANA\", \"ANO\", \"Codigo_CIDCIAP_v2\", \"Tipo_CIDCIAP\")\\\n",
    ".agg(F.sum(\"atend_ivas\").alias(\"atend_ivas\")) #gerar plot por contribuição do cid"
   ]
  },
  {
   "cell_type": "code",
   "execution_count": null,
   "id": "6abb1887-8c27-42a3-a275-512e21ffe15a",
   "metadata": {
    "tags": []
   },
   "outputs": [],
   "source": [
    "#df_plot_contrib.toPandas().to_csv(aesop_report_folder +\"semana_\"+str(semana_folder)+\"/aesop_contribuicao_2024.csv\",sep =\";\",index = False)\n",
    "#aesop_report_folder +\"semana_\"+str(semana_folder)+\"/aesop_contribuicao_2024.csv\"\n",
    "\n",
    "df_plot_contrib.toPandas().to_csv(path_salvar+\"/aesop_contribuicao_2024.csv\",sep =\";\",index = False)\n"
   ]
  },
  {
   "cell_type": "code",
   "execution_count": null,
   "id": "c08ab8e5-09cf-4a44-abcf-9c87cab5a466",
   "metadata": {
    "scrolled": true
   },
   "outputs": [],
   "source": [
    "%stop_session"
   ]
  },
  {
   "cell_type": "code",
   "execution_count": null,
   "id": "d1ce1327-6dfe-4fc7-9381-f1902d26ca2e",
   "metadata": {},
   "outputs": [],
   "source": []
  }
 ],
 "metadata": {
  "kernelspec": {
   "display_name": "Glue PySpark",
   "language": "python",
   "name": "glue_pyspark"
  },
  "language_info": {
   "codemirror_mode": {
    "name": "python",
    "version": 3
   },
   "file_extension": ".py",
   "mimetype": "text/x-python",
   "name": "Python_Glue_Session",
   "pygments_lexer": "python3"
  }
 },
 "nbformat": 4,
 "nbformat_minor": 5
}
