{
 "cells": [
  {
   "cell_type": "code",
   "execution_count": null,
   "id": "1333ccc8-5402-44cc-86d4-4c56de33375b",
   "metadata": {},
   "outputs": [],
   "source": [
    "  \n",
    "sc = SparkContext.getOrCreate()\n",
    "glueContext = GlueContext(sc)\n",
    "spark = glueContext.spark_session\n",
    "job = Job(glueContext)"
   ]
  },
  {
   "cell_type": "code",
   "execution_count": null,
   "id": "dcf20ab4-b0ac-4bde-8abf-42c844f4c7d4",
   "metadata": {},
   "outputs": [],
   "source": [
    "from util_custom import *\n",
    "from pyspark.sql import functions as F\n",
    "from pyspark.sql.types import *\n",
    "import os\n",
    "from datetime import datetime, timedelta\n",
    "#from epiweeks import Week"
   ]
  },
  {
   "cell_type": "code",
   "execution_count": null,
   "id": "33caf448-f077-491c-bf12-b127364a75f3",
   "metadata": {},
   "outputs": [],
   "source": [
    "df = spark.read.parquet(\"aesop_dados_2017_20240414.parquet/\")"
   ]
  },
  {
   "cell_type": "code",
   "execution_count": null,
   "id": "482a9659-1770-4c43-a085-0fb5eff8c6ba",
   "metadata": {},
   "outputs": [],
   "source": [
    "df.count()"
   ]
  },
  {
   "cell_type": "code",
   "execution_count": null,
   "id": "d55c3818-5832-43f5-b8d8-00022d6a8f45",
   "metadata": {},
   "outputs": [],
   "source": [
    "n_semana_max = get_max_semana_from_aesop_dados(df, 'ano', 'semana')\n",
    "n_semana_max"
   ]
  },
  {
   "cell_type": "code",
   "execution_count": null,
   "id": "9b3dedaf-9f7d-4dbd-b12d-f3319546b054",
   "metadata": {},
   "outputs": [],
   "source": [
    "res = df.groupBy(\"ano\").agg(F.max(\"semana\").alias(\"max_semana\"),F.min(\"semana\").alias(\"min_semana\"))"
   ]
  },
  {
   "cell_type": "code",
   "execution_count": null,
   "id": "1206e3f5-3a14-49d3-85a3-28993da81f54",
   "metadata": {},
   "outputs": [],
   "source": [
    "res.show(100)"
   ]
  },
  {
   "cell_type": "markdown",
   "id": "49df604c-02f6-4a20-bf56-c1aa3263c215",
   "metadata": {},
   "source": [
    "#### gerar data"
   ]
  },
  {
   "cell_type": "code",
   "execution_count": null,
   "id": "04ed1f01-a0a7-4fa1-8b28-71bd614cfd29",
   "metadata": {},
   "outputs": [],
   "source": [
    "# Define a UDF to apply the date calculation\n",
    "\n",
    "def return_day(week, year):\n",
    "    # Calculate the timestamp for December 31 of the previous year\n",
    "    prev_year = year - 1\n",
    "    timestamp_dec_31 = datetime(prev_year, 12, 31)\n",
    "    # Calculate the target date by adding (week * 7) days and rest 3 days\n",
    "    target_date = timestamp_dec_31 + timedelta(days=week * 7 - 3)\n",
    "    return target_date\n",
    "\n",
    "# Register the UDF\n",
    "return_day_udf = F.udf(return_day, DateType())\n",
    "\n",
    "# Apply the UDF to the DataFrame\n",
    "df = df.withColumn(\"DATE\", return_day_udf(df[\"SEMANA\"], df[\"ANO\"]))"
   ]
  },
  {
   "cell_type": "markdown",
   "id": "92526d5d-42ba-4915-be8b-f97647ad6f0a",
   "metadata": {},
   "source": [
    "#### carregar arquivos auxiliares"
   ]
  },
  {
   "cell_type": "code",
   "execution_count": null,
   "id": "33d41119-3fdb-4965-8cb0-28f5bf10ea01",
   "metadata": {},
   "outputs": [],
   "source": [
    "df_v2 = df\\\n",
    ".filter(F.col(\"ANO\") >= 2017)\\\n",
    ".filter(F.col(\"FX_ETARIA\").isNotNull())"
   ]
  },
  {
   "cell_type": "markdown",
   "id": "e1182a8b-1e39-44a4-ad20-29a58f79f6c5",
   "metadata": {},
   "source": [
    "#### formata CID-CIAP"
   ]
  },
  {
   "cell_type": "code",
   "execution_count": null,
   "id": "d6579ac9-f994-4245-b4b1-727457d8eeb5",
   "metadata": {},
   "outputs": [],
   "source": [
    "#criar variável para o tipo do codigo, pode ser CID/CIAP/AB , usa-se split para quebrar a variável de entrada pelo primeiro paratese \n",
    "df_v2 = df_v2.withColumn(\"tipo_codigo\", F.split(F.col(\"CIDCIAP\"), \"\\\\(\").getItem(0))\n",
    "#remover ponto dos cids/ciap/ab\n",
    "df_v2 = df_v2.withColumn(\"CIDCIAP_v2\", F.regexp_replace(F.col(\"CIDCIAP\"), \"\\\\.\", \"\"))\n",
    "\n",
    "# extrair codigo de dentro dos parenteses\n",
    "# exemplo CID(Z00) -> Z00\n",
    "regex_pattern = r'\\(([^)]+)\\)'\n",
    "df_v2 = df_v2.withColumn(\"CIDCIAP_v3\", F.trim(F.regexp_extract(F.col(\"CIDCIAP_v2\"), regex_pattern, 1)))\n",
    "\n",
    "# quem tiver 4 digitos vai ficar somente com 3 digitos para ser usado na criação da variável ivas posteriomente\n",
    "# ex  L028 -> L02\n",
    "condition = (F.length(F.col('CIDCIAP_v3')) == 4) #esse jeito não serve para a nova var de arbovirose\n",
    "df_v2 = df_v2.withColumn(\n",
    "    'Codigo_CIDCIAP_3digits',F.when(condition, F.expr(\"substring(CIDCIAP_v3, 1, length(CIDCIAP_v3)-1)\"))\n",
    "    .otherwise(F.col('CIDCIAP_v3'))\n",
    ")\n",
    "\n",
    "# concatena tipo + codigo \n",
    "df_v2 = df_v2.withColumn(\"tipo_codigo_3digits\", F.concat_ws(\"\", F.col(\"tipo_codigo\"), F.col(\"Codigo_CIDCIAP_3digits\") ) )\n",
    "df_v2 = df_v2.withColumn(\"tipo_codigo_full_digits\", F.concat_ws(\"\", F.col(\"tipo_codigo\"), F.col(\"CIDCIAP_v3\") ) )\n",
    "\n",
    "df_v3 = df_v2.drop(\"CIDCIAP\") # tipo_codigo é o tipo do código pode ser CID/CIAP/AB"
   ]
  },
  {
   "cell_type": "markdown",
   "id": "1c7292ff-3b02-4f8b-8236-8c2e0c4bc1d4",
   "metadata": {},
   "source": [
    "#### IVAS"
   ]
  },
  {
   "cell_type": "code",
   "execution_count": null,
   "id": "3e617bb1-26dd-4fbc-b1eb-1815b5c01a0b",
   "metadata": {
    "tags": []
   },
   "outputs": [],
   "source": [
    "# As IVAS são infecções virais das vias aéreas superiores\n",
    "codigos_ivas_numero = ['CIAPA03','CIAPR01','CIAPR02','CIAPR03','CIAPR04','CIAPR05','CIAPR07','CIAPR08','CIAPR21','CIAPR23','CIAPR25','CIAPR29','CIAPR71','CIAPR74','CIAPR75',\n",
    "                       'CIAPR76','CIAPR77','CIAPR78','CIAPR80','CIAPR81','CIAPR83','CIAPR99','CIDJ00','CIDJ01','CIDJ02','CIDJ03','CIDJ04','CIDJ06','CIDJ09','CIDJ10',\n",
    "                       'CIDJ11','CIDJ12','CIDJ13','CIDJ14','CIDJ15','CIDJ16','CIDJ17','CIDJ18','CIDJ20','CIDJ21','CIDJ22','CIDJ80','CIDR05','CIDR06','CIDR07','CIDR43',\n",
    "                       'CIDR50','CIDU07','CIDB34','CIDB97']\n",
    "# cria nova coluna com valores zerados em CIDS/CIAPS fora do ivas\n",
    "df_v3 = df_v3.withColumn(\"atend_ivas\",F.when( (F.col(\"tipo_codigo_3digits\").isin(codigos_ivas_numero) ), F.col(\"QT\")).otherwise(0))\n",
    "# zera valores para ivas_exclusao\n",
    "codigos_ivas_exclusao = ['CIDR072']\n",
    "df_v4 = df_v3.withColumn(\"atend_ivas_v2\",F.when( (F.col(\"tipo_codigo_full_digits\").isin(codigos_ivas_exclusao) ), 0).otherwise(F.col(\"atend_ivas\")))"
   ]
  },
  {
   "cell_type": "code",
   "execution_count": null,
   "id": "288ab8db-c774-4e2d-b6d3-3f9b4b206305",
   "metadata": {},
   "outputs": [],
   "source": [
    "df_v5 = df_v4\\\n",
    ".withColumnRenamed('DATE', 'calendar')\\\n",
    ".withColumnRenamed('SEMANA', 'epiweek')\\\n",
    ".withColumnRenamed('ANO', 'epi_year')"
   ]
  },
  {
   "cell_type": "code",
   "execution_count": null,
   "id": "27690573-0e8d-49a4-847a-4c7b768cffe4",
   "metadata": {
    "tags": []
   },
   "outputs": [],
   "source": [
    "# cria base municipal\n",
    "df_v6 = df_v5.groupBy(\"CO_MUNICIPIO_IBGE\",'epi_year',\"epiweek\")\\\n",
    ".agg(\n",
    "    F.sum(\"QT\").alias(\"atend_totais\"),\n",
    "    F.sum(\"atend_ivas_v2\").alias(\"atend_ivas\"),\n",
    "    F.last(\"calendar\").alias('calendar'), \n",
    "    F.sum(\"atend_arbov\").alias(\"atend_arbov\")\n",
    ")"
   ]
  },
  {
   "cell_type": "code",
   "execution_count": null,
   "id": "8f0c467d-1cc8-42bb-a1a5-b09809eb57b2",
   "metadata": {},
   "outputs": [],
   "source": [
    "df_v7 = df_v6.withColumnRenamed(\"epi_year\",\"ANO\").withColumnRenamed(\"epiweek\",\"SEMANA\")\n",
    "df_v7 = df_v7.withColumn('Ano_Epiweek', F.substring('calendar', 1,4))\n",
    "df_v7 = df_v7.withColumn('Mes_Epiweek', F.substring('calendar', 6,2))"
   ]
  },
  {
   "cell_type": "markdown",
   "id": "84116361-ca8a-47f9-a3c0-f648de6910d5",
   "metadata": {},
   "source": [
    "#### adiciona cobertura AB"
   ]
  },
  {
   "cell_type": "code",
   "execution_count": null,
   "id": "614fc1f0-5f03-4758-a9ed-8521017e3c41",
   "metadata": {},
   "outputs": [],
   "source": [
    "AB_2017_2023_AGGREGATE_FINAL = spark.read.parquet(\"s3://fiocruz-datalake-bucket/raw/aesop/dados_auxiliares/cobert_ab_17a24.parquet/\")\n",
    "AB_2017_2023_AGGREGATE_FINAL = AB_2017_2023_AGGREGATE_FINAL.withColumnRenamed(\"Ano\",\"Ano_AB\")\\\n",
    "                                                           .withColumnRenamed(\"Mes\",\"Mes_AB\")\n",
    "AB_2017_2023_AGGREGATE_FINAL = AB_2017_2023_AGGREGATE_FINAL.drop('Unnamed: 0')\n",
    "AB_2017_2023_AGGREGATE_FINAL = AB_2017_2023_AGGREGATE_FINAL.withColumn('MERGE_COUNT_AB',F.lit(1))\n",
    "\n",
    "AB_2017_2023_AGGREGATE_FINAL = AB_2017_2023_AGGREGATE_FINAL\\\n",
    ".withColumn(\"Mes_AB\", \n",
    "            F.when(F.length(AB_2017_2023_AGGREGATE_FINAL.Mes_AB) < 2,\n",
    "                   F.concat(F.lit('0'), F.col('Mes_AB'))).otherwise(AB_2017_2023_AGGREGATE_FINAL.Mes_AB)\n",
    "           )\n",
    "\n",
    "'''\n",
    "+------+------+------+---------------+---------------+--------------+\n",
    "|  Ibge|Ano_AB|Mes_AB|PC_COBERTURA_SF|PC_COBERTURA_AB|MERGE_COUNT_AB|\n",
    "+------+------+------+---------------+---------------+--------------+\n",
    "|120001|  2024|    01|            100|            100|             1|\n",
    "|120005|  2024|    01|            100|            100|             1|\n",
    "|120010|  2024|    01|            100|            100|             1|\n",
    "|120013|  2024|    01|            100|            100|             1|\n",
    "|120017|  2024|    01|            100|            100|             1|\n",
    "+------+------+------+---------------+---------------+--------------+\n",
    "'''\n",
    "\n",
    "df_v8 = df_v7.join(AB_2017_2023_AGGREGATE_FINAL, \n",
    "   on=[\n",
    "     df_v7.CO_MUNICIPIO_IBGE == AB_2017_2023_AGGREGATE_FINAL.Ibge, \n",
    "     df_v7.Mes_Epiweek == AB_2017_2023_AGGREGATE_FINAL.Mes_AB,\n",
    "     df_v7.Ano_Epiweek == AB_2017_2023_AGGREGATE_FINAL.Ano_AB \n",
    "   ], how='left')"
   ]
  },
  {
   "cell_type": "code",
   "execution_count": null,
   "id": "df122558-2e16-4dca-ac41-da87af255e9b",
   "metadata": {},
   "outputs": [],
   "source": [
    "df_v9 = df_v8.withColumnRenamed(\"calendar\",\"Date_epiweek\")\n",
    "df_v9 = df_v9.select(\n",
    "    \"CO_MUNICIPIO_IBGE\",\n",
    "    \"Date_epiweek\",\n",
    "    \"SEMANA\",\n",
    "    \"Mes_Epiweek\",\n",
    "    \"ANO\",\n",
    "    \"atend_totais\",\n",
    "    \"atend_ivas\",\n",
    "    \"atend_arbov\",\n",
    "    \"PC_COBERTURA_SF\",\n",
    "    \"PC_COBERTURA_AB\"\n",
    ")"
   ]
  },
  {
   "cell_type": "markdown",
   "id": "bb3e7b35-921a-48fe-a573-e1e02ccc3a36",
   "metadata": {},
   "source": [
    "#### add ibge dados"
   ]
  },
  {
   "cell_type": "code",
   "execution_count": null,
   "id": "ec038ff4-126f-4414-9160-4b49821354d9",
   "metadata": {},
   "outputs": [],
   "source": [
    "epiweek_ibge2017_2023 = spark.read.csv(\"s3://fiocruz-datalake-bucket/raw/aesop/dados_auxiliares/epiweek_ibge2017_20241231.csv/\",header=True)\n",
    "#epiweek_ibge2017_2023 = spark.read.parquet(\"s3://fiocruz-datalake-bucket/raw/aesop/dados_auxiliares/epiweek_ibge2017_20241231.parquet\")\n",
    "\n",
    "schema_epiweek = StructType([\n",
    "    StructField(\"semana\", StringType(), True),\n",
    "    StructField(\"ano\", StringType(), True),\n",
    "    StructField(\"uf\", StringType(), True),\n",
    "    StructField(\"co_ibge\", StringType(), True),\n",
    "    StructField(\"municipio\", StringType(), True),\n",
    "    StructField(\"pop_2010\", StringType(), True),\n",
    "    StructField(\"porte\", StringType(), True)\n",
    "])\n",
    "\n",
    "\n",
    "#epiweek_ibge2017_2023 = spark.read.schema(schema_epiweek).parquet(\"s3://fiocruz-datalake-bucket/raw/aesop/dados_auxiliares/epiweek_ibge2017_20241231.parquet\")"
   ]
  },
  {
   "cell_type": "code",
   "execution_count": null,
   "id": "e51d3142-46a3-492b-a427-5734f5225a38",
   "metadata": {},
   "outputs": [],
   "source": [
    "epiweek_ibge2017_2023.count()"
   ]
  },
  {
   "cell_type": "code",
   "execution_count": null,
   "id": "d3101c86-ea30-471a-9e6b-f6eb8be25440",
   "metadata": {},
   "outputs": [],
   "source": [
    "epiweek_ibge2017_2023.printSchema()"
   ]
  },
  {
   "cell_type": "code",
   "execution_count": null,
   "id": "f02bdb4f-7104-459c-8b4f-b927b904d628",
   "metadata": {},
   "outputs": [],
   "source": [
    "epiweek_ibge2017_2023.select(\"co_ibge\").distinct().count()"
   ]
  },
  {
   "cell_type": "code",
   "execution_count": null,
   "id": "3ff6fef4-dc6a-4b2e-8146-50cb625ae763",
   "metadata": {},
   "outputs": [],
   "source": [
    "#epiweek_ibge2017_2023 = spark.read.parquet(\"s3://fiocruz-datalake-bucket/raw/aesop/dados_auxiliares/epiweek_ibge2017_20241231.parquet/\")\n",
    "# renomear\n",
    "epiweek_ibge2017_2023 = epiweek_ibge2017_2023\\\n",
    ".withColumnRenamed(\"uf\",\"uf_ibge\")\\\n",
    ".withColumnRenamed(\"ano\",\"ano_ibge\")\\\n",
    ".withColumnRenamed(\"semana\",\"semana_ibge\")\n",
    "# cast\n",
    "epiweek_ibge2017_2023 = epiweek_ibge2017_2023\\\n",
    ".withColumn(\"semana_ibge_int\",F.col(\"semana_ibge\").cast(ShortType()))\\\n",
    ".withColumn(\"ano_ibge\",F.col(\"ano_ibge\").cast(ShortType()))\\\n",
    ".withColumn(\"co_ibge\",F.col(\"co_ibge\").cast(IntegerType()))\n",
    "\n",
    "# anos com 52 semanas\n",
    "filtro_anos_anteriores = F.col(\"ano_ibge\").isin([2017,2018,2019,2020,2022,2023]) \n",
    "# o ano de 2021 teve 53 semanas\n",
    "filtro_2021_ano = F.col(\"ano_ibge\") == 2021\n",
    "filtro_2021_week = F.col(\"semana_ibge_int\") <= 52\n",
    "# filtrando ano atual\n",
    "filtro_2024_ano = F.col(\"ano_ibge\") == 2024\n",
    "filtro_2024_week = F.col(\"semana_ibge_int\") <= n_semana_max\n",
    "# aplicando filtros\n",
    "epiweek_ibge2017_2023_filtro = epiweek_ibge2017_2023.filter(filtro_anos_anteriores  | (filtro_2021_ano & filtro_2021_week) | (filtro_2024_ano & filtro_2024_week))\n",
    "\n",
    "df_v10 = epiweek_ibge2017_2023_filtro.join(df_v9, \n",
    "   on=[\n",
    "     epiweek_ibge2017_2023_filtro.co_ibge == df_v9.CO_MUNICIPIO_IBGE, \n",
    "     epiweek_ibge2017_2023_filtro.ano_ibge == df_v9.ANO, \n",
    "     epiweek_ibge2017_2023_filtro.semana_ibge_int == df_v9.SEMANA\n",
    "   ], how='left')"
   ]
  },
  {
   "cell_type": "code",
   "execution_count": null,
   "id": "7853b842-2430-4981-9f04-f5ce8d0c9bbb",
   "metadata": {},
   "outputs": [],
   "source": [
    "df_v10 = df_v10.withColumn(\"PC_COBERTURA_SF\", F.regexp_replace(F.col(\"PC_COBERTURA_SF\"), \",\", \".\").cast(\"double\"))\n",
    "df_v10 = df_v10.withColumn(\"PC_COBERTURA_AB\", F.regexp_replace(F.col(\"PC_COBERTURA_AB\"), \",\", \".\").cast(\"double\"))"
   ]
  },
  {
   "cell_type": "code",
   "execution_count": null,
   "id": "f68f0a38-e0e7-41b9-95c0-670c76fddb6e",
   "metadata": {},
   "outputs": [],
   "source": [
    "colunas = ['atend_totais', 'atend_ivas', 'PC_COBERTURA_SF', 'PC_COBERTURA_AB']\n",
    "\n",
    "\n",
    "fill_values = {coluna: 0 for coluna in colunas}\n",
    "fill_values\n",
    "\n",
    "df_v11 = df_v10.fillna(fill_values)"
   ]
  },
  {
   "cell_type": "code",
   "execution_count": null,
   "id": "820a4e5b-418c-4aa0-b53b-ca5cbcdc5052",
   "metadata": {},
   "outputs": [],
   "source": [
    "REGIAO_IMEDIATA_BRASIL = spark.read.parquet(\"s3://fiocruz-datalake-bucket/raw/aesop/dados_auxiliares/Regioes_Imediata_Municípios.parquet/\")\n",
    "REGIAO_IMEDIATA_BRASIL = REGIAO_IMEDIATA_BRASIL.withColumn(\"CD_GEOCODI_6\", F.substring(F.col(\"CD_GEOCODI\"),1,6))\n",
    "\n",
    "df_v12 = df_v11.join(REGIAO_IMEDIATA_BRASIL, F.col(\"co_ibge\") == F.col(\"CD_GEOCODI_6\"),'left').drop(\"ANO\")\n",
    "\n",
    "df_v12 = df_v12\\\n",
    ".withColumnRenamed(\"uf_ibge\",\"UF\")\\\n",
    ".withColumnRenamed(\"ano_ibge\",\"ano\") \\\n",
    ".withColumnRenamed(\"semana_ibge\",\"epiweek\")\\\n",
    ".drop(\"Mes_Epiweek\",'UF','CD_GEOCODI')\n",
    "\n",
    "df_v12 = df_v12.withColumnRenamed(\"PC_COBERTURA_SF\",\"pc_cobertura_sf\")\n",
    "df_v12 = df_v12.withColumnRenamed(\"PC_COBERTURA_AB\",\"pc_cobertura_ab\")\n",
    "\n",
    "df_v12 = df_v12.withColumn(\"epiweek\",F.col(\"epiweek\").cast(IntegerType()))"
   ]
  },
  {
   "cell_type": "code",
   "execution_count": null,
   "id": "673ca842-19d4-42ea-9301-4e6f7f183ee0",
   "metadata": {},
   "outputs": [],
   "source": [
    "df_legada = df_v12.select(\n",
    "    \"municipio\",\n",
    "    'co_ibge',\n",
    "    \"ano\",\n",
    "    \"epiweek\",\n",
    "    \"atend_totais\",\n",
    "    \"atend_ivas\",\n",
    "    \"pc_cobertura_sf\",\n",
    "    \"pc_cobertura_ab\",\n",
    "    \"cod_rgimediata\",\n",
    "    \"nome_rgi\",\n",
    "    \"cod_rgint\",\n",
    "    \"nome_rgint\"\n",
    ") "
   ]
  },
  {
   "cell_type": "markdown",
   "id": "4cca4558-f655-4058-a1cf-7718a1b49cbf",
   "metadata": {},
   "source": [
    "#### Salvar arquivo"
   ]
  },
  {
   "cell_type": "code",
   "execution_count": null,
   "id": "e3983048-3b07-4223-b8c1-4df6c86b6b5b",
   "metadata": {},
   "outputs": [],
   "source": [
    "df_legada.write.parquet(\"2017_20240414_AESOP.parquet\")"
   ]
  },
  {
   "cell_type": "code",
   "execution_count": null,
   "id": "d07656b5-a301-4e40-8c0c-d6df90135064",
   "metadata": {},
   "outputs": [],
   "source": [
    "single_file = spark.read.parquet(\"2017_20240414_AESOP.parquet\")"
   ]
  },
  {
   "cell_type": "code",
   "execution_count": null,
   "id": "b2a56f78-978c-40eb-8e14-dbbed3f230c5",
   "metadata": {},
   "outputs": [],
   "source": [
    "single_file.count() #2094320 ->2099890 ->2105460 ->"
   ]
  },
  {
   "cell_type": "code",
   "execution_count": null,
   "id": "49abf187-f3a6-493e-b444-5d3e66d9d428",
   "metadata": {},
   "outputs": [],
   "source": [
    "single_file\\\n",
    ".repartition(1)\\\n",
    ".write.format(\"parquet\").mode(\"error\")\\\n",
    ".save(\"2017_20240414_AESOP.parquet\", mode = 'overwrite')"
   ]
  },
  {
   "cell_type": "code",
   "execution_count": null,
   "id": "d37cee9e-36c0-47a6-ae00-fa53d4fa7d35",
   "metadata": {},
   "outputs": [],
   "source": [
    "%stop_session"
   ]
  }
 ],
 "metadata": {
  "kernelspec": {
   "display_name": "Glue PySpark",
   "language": "python",
   "name": "glue_pyspark"
  },
  "language_info": {
   "codemirror_mode": {
    "name": "python",
    "version": 3
   },
   "file_extension": ".py",
   "mimetype": "text/x-python",
   "name": "Python_Glue_Session",
   "pygments_lexer": "python3"
  }
 },
 "nbformat": 4,
 "nbformat_minor": 5
}
