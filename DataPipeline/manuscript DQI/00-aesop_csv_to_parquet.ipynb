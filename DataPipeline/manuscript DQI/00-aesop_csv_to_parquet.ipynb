{
 "cells": [
  {
   "cell_type": "code",
   "execution_count": null,
   "id": "7d030c22-3cbc-40a8-b9ea-f7976d303761",
   "metadata": {},
   "outputs": [],
   "source": [
    "\n",
    "  \n",
    "sc = SparkContext.getOrCreate()\n",
    "glueContext = GlueContext(sc)\n",
    "spark = glueContext.spark_session\n",
    "job = Job(glueContext)"
   ]
  },
  {
   "cell_type": "code",
   "execution_count": null,
   "id": "f98ae28b-8695-4d1d-9c20-6d9e2d09048e",
   "metadata": {},
   "outputs": [],
   "source": [
    "from util_custom import *"
   ]
  },
  {
   "cell_type": "code",
   "execution_count": null,
   "id": "8503bd69-05e2-4d46-98c0-5003bfd15a9e",
   "metadata": {},
   "outputs": [],
   "source": [
    "#%stop_session"
   ]
  },
  {
   "cell_type": "code",
   "execution_count": null,
   "id": "ee209e66-7584-48e8-b062-debf2cb44d23",
   "metadata": {},
   "outputs": [],
   "source": [
    "from pyspark.sql import functions as F\n",
    "from pyspark.sql.types import *\n",
    "import os"
   ]
  },
  {
   "cell_type": "code",
   "execution_count": null,
   "id": "481eb729-2e26-433f-a706-6338b191eb46",
   "metadata": {},
   "outputs": [],
   "source": [
    "print(\"bases anuais {}\".format(aesop_csv_anual_path))\n",
    "print(\"bases anuais abp {}\".format(aesop_csv_anual_ABP_path))\n",
    "print(\"bases anuais 2023 ate 01-10-2023 {}\".format(aesop_csv_2023_path))\n",
    "print(\"bases anuais de 02-10-2023 em diante {}\".format(aesop_csv_2023_atual_path))"
   ]
  },
  {
   "cell_type": "markdown",
   "id": "2343dabf-4d35-49b9-90cb-07a488b62ebd",
   "metadata": {},
   "source": [
    "#### leitura"
   ]
  },
  {
   "cell_type": "code",
   "execution_count": null,
   "id": "4c188b02-880c-46cd-a12b-6273230347f4",
   "metadata": {},
   "outputs": [],
   "source": [
    "schema = StructType(\n",
    "   [StructField('ANO', IntegerType(), True),\n",
    "    StructField('SEMANA', IntegerType(), True),\n",
    "    StructField('SG_UF', StringType(), True),\n",
    "    StructField('CO_MUNICIPIO_IBGE', StringType(), True),\n",
    "    StructField('SEXO', StringType(), True),\n",
    "    StructField('FX_ETARIA', StringType(), True),\n",
    "    StructField('CIDCIAP', StringType(), True),\n",
    "    StructField('QT', IntegerType(), True)\n",
    "   ]\n",
    "  )\n",
    "\n",
    "df_anual = spark.read.options(header='True', delimiter=',')\\\n",
    "    .schema(schema)\\\n",
    ".csv(aesop_csv_anual_path)\n",
    "\n",
    "df_anual_abp = spark.read.options(header='True', delimiter=',')\\\n",
    "    .schema(schema)\\\n",
    ".csv(aesop_csv_anual_ABP_path)\n",
    "\n",
    "df_2023_ate01102023 = spark.read.options(header='True', delimiter=',')\\\n",
    "    .schema(schema)\\\n",
    ".csv(aesop_csv_2023_path)\n",
    "\n",
    "df_2023_atual = spark.read.options(header='True', delimiter=',')\\\n",
    "    .schema(schema)\\\n",
    ".csv(aesop_csv_2023_atual_path)\n",
    "\n"
   ]
  },
  {
   "cell_type": "code",
   "execution_count": null,
   "id": "c774ab50-3acc-47f8-b731-d353ba198ac8",
   "metadata": {},
   "outputs": [],
   "source": [
    "df = df_anual.unionByName(df_anual_abp)\n",
    "df = df.unionByName(df_2023_ate01102023)\n",
    "df = df.unionByName(df_2023_atual)"
   ]
  },
  {
   "cell_type": "code",
   "execution_count": null,
   "id": "32e88c26-19f3-4b95-a0f3-af06ed503f7e",
   "metadata": {},
   "outputs": [],
   "source": [
    "#df.count() # 1208951517"
   ]
  },
  {
   "cell_type": "code",
   "execution_count": null,
   "id": "20f85993-b883-402d-868e-f13ad213398d",
   "metadata": {},
   "outputs": [],
   "source": [
    "len(df.columns)"
   ]
  },
  {
   "cell_type": "markdown",
   "id": "31523044-e920-412f-854a-5ae494acef50",
   "metadata": {},
   "source": [
    "#### criacao data folder"
   ]
  },
  {
   "cell_type": "code",
   "execution_count": null,
   "id": "f74f7e46-4817-414e-be13-97f5c66ae51d",
   "metadata": {},
   "outputs": [],
   "source": [
    "df = df.withColumn(\"INPUT_FILE\", F.input_file_name())\\\n",
    ".withColumn('Data_folder', F.regexp_extract('INPUT_FILE', '([0-9]{8})', 1))\\\n",
    ".withColumn(\"Data_folder\",F.to_date(F.col(\"Data_folder\"),\"yyyyMMdd\"))\\\n",
    ".drop('INPUT_FILE')#.checkpoint()"
   ]
  },
  {
   "cell_type": "code",
   "execution_count": null,
   "id": "7331176b-add2-49d0-8ca6-363754d4e202",
   "metadata": {},
   "outputs": [],
   "source": [
    "df.groupBy(F.col('Data_folder')).count().orderBy(F.desc('Data_folder')).show()"
   ]
  },
  {
   "cell_type": "markdown",
   "id": "c695ac70-b7b3-4e78-a4ed-e9b0c5b31046",
   "metadata": {},
   "source": [
    "#### cast ano e semana"
   ]
  },
  {
   "cell_type": "code",
   "execution_count": null,
   "id": "90b93102-1c9e-4ec1-9c49-555ef30abbdd",
   "metadata": {},
   "outputs": [],
   "source": [
    "df = df.withColumn(\"ANO\", F.col(\"ANO\").cast(ShortType()))\\\n",
    ".withColumn(\"SEMANA\", F.col(\"SEMANA\").cast(ByteType()))"
   ]
  },
  {
   "cell_type": "code",
   "execution_count": null,
   "id": "aa33fd9f-ee53-4d05-a1a4-b0687cdccd44",
   "metadata": {},
   "outputs": [],
   "source": []
  },
  {
   "cell_type": "code",
   "execution_count": null,
   "id": "b32536b0-d0ba-4fa0-aa3d-17fb3c1902c4",
   "metadata": {},
   "outputs": [],
   "source": [
    "#get_parquet_file_name() #'aesop_dados_2017_20240310.parquet'"
   ]
  },
  {
   "cell_type": "markdown",
   "id": "3ad2f0cb-1fc2-40d3-aabd-11b2ececadd3",
   "metadata": {},
   "source": [
    "#### escrita"
   ]
  },
  {
   "cell_type": "code",
   "execution_count": null,
   "id": "bddc3224-0df9-477d-836b-3d9bb8cb43ff",
   "metadata": {},
   "outputs": [],
   "source": [
    "df.write.parquet(\"aesop_dados_2017_20240414.parquet\", mode='overwrite')"
   ]
  },
  {
   "cell_type": "code",
   "execution_count": null,
   "id": "9cb0c0c3-dbfa-4f06-911c-bde773cce3bf",
   "metadata": {},
   "outputs": [],
   "source": [
    "df_check = spark.read.parquet(\"aesop_dados_2017_20240414.parquet\")"
   ]
  },
  {
   "cell_type": "code",
   "execution_count": null,
   "id": "3dee5e25-d941-49ea-8f25-f8fe29685537",
   "metadata": {},
   "outputs": [],
   "source": [
    "%stop_session"
   ]
  },
  {
   "cell_type": "code",
   "execution_count": null,
   "id": "2db5b4e1-795e-41e2-bcd6-4df0dd31c8ab",
   "metadata": {},
   "outputs": [],
   "source": []
  }
 ],
 "metadata": {
  "kernelspec": {
   "display_name": "Glue PySpark",
   "language": "python",
   "name": "glue_pyspark"
  },
  "language_info": {
   "codemirror_mode": {
    "name": "python",
    "version": 3
   },
   "file_extension": ".py",
   "mimetype": "text/x-python",
   "name": "Python_Glue_Session",
   "pygments_lexer": "python3"
  }
 },
 "nbformat": 4,
 "nbformat_minor": 5
}
