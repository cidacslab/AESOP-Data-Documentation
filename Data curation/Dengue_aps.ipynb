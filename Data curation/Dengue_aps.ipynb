{
 "cells": [
  {
   "cell_type": "code",
   "execution_count": 1,
   "metadata": {},
   "outputs": [],
   "source": [
    "import pandas as pd\n",
    "import matplotlib.pyplot as plt\n",
    "from matplotlib.pyplot import figure\n",
    "import numpy as np\n",
    "import math\n",
    "import seaborn as sns\n",
    "import pyarrow as pa\n",
    "import pyarrow.parquet as pq\n",
    "import itertools"
   ]
  },
  {
   "cell_type": "code",
   "execution_count": 2,
   "metadata": {},
   "outputs": [
    {
     "data": {
      "text/html": [
       "<div>\n",
       "<style scoped>\n",
       "    .dataframe tbody tr th:only-of-type {\n",
       "        vertical-align: middle;\n",
       "    }\n",
       "\n",
       "    .dataframe tbody tr th {\n",
       "        vertical-align: top;\n",
       "    }\n",
       "\n",
       "    .dataframe thead th {\n",
       "        text-align: right;\n",
       "    }\n",
       "</style>\n",
       "<table border=\"1\" class=\"dataframe\">\n",
       "  <thead>\n",
       "    <tr style=\"text-align: right;\">\n",
       "      <th></th>\n",
       "      <th>Uf</th>\n",
       "      <th>Ibge</th>\n",
       "      <th>Municipio</th>\n",
       "      <th>Atendimentos</th>\n",
       "      <th>populacao_estimada</th>\n",
       "      <th>Ano</th>\n",
       "      <th>Mes</th>\n",
       "      <th>PC_COBERTURA_SF</th>\n",
       "      <th>PC_COBERTURA_AB</th>\n",
       "      <th>measure_1f_12</th>\n",
       "      <th>...</th>\n",
       "      <th>PORTE_MUNICIPIO</th>\n",
       "      <th>UBS_Count</th>\n",
       "      <th>Cód Região de Saúde</th>\n",
       "      <th>Nome da Região de Saúde</th>\n",
       "      <th>long</th>\n",
       "      <th>lat</th>\n",
       "      <th>NM_MUN</th>\n",
       "      <th>SIGLA</th>\n",
       "      <th>AREA_KM2</th>\n",
       "      <th>Dengue</th>\n",
       "    </tr>\n",
       "  </thead>\n",
       "  <tbody>\n",
       "    <tr>\n",
       "      <th>0</th>\n",
       "      <td>CE</td>\n",
       "      <td>230535</td>\n",
       "      <td>ICAPUÍ</td>\n",
       "      <td>2464</td>\n",
       "      <td>19685</td>\n",
       "      <td>2017</td>\n",
       "      <td>1</td>\n",
       "      <td>100</td>\n",
       "      <td>100</td>\n",
       "      <td>0.817741</td>\n",
       "      <td>...</td>\n",
       "      <td>PEQUENO</td>\n",
       "      <td>8.0</td>\n",
       "      <td>23007</td>\n",
       "      <td>7ª Região Aracati-CE</td>\n",
       "      <td>-37.410463</td>\n",
       "      <td>-4.738625</td>\n",
       "      <td>Icapuí</td>\n",
       "      <td>CE</td>\n",
       "      <td>421.440</td>\n",
       "      <td>0</td>\n",
       "    </tr>\n",
       "    <tr>\n",
       "      <th>1</th>\n",
       "      <td>PE</td>\n",
       "      <td>261050</td>\n",
       "      <td>PASSIRA</td>\n",
       "      <td>4329</td>\n",
       "      <td>28889</td>\n",
       "      <td>2017</td>\n",
       "      <td>1</td>\n",
       "      <td>100</td>\n",
       "      <td>100</td>\n",
       "      <td>1.276060</td>\n",
       "      <td>...</td>\n",
       "      <td>MEDIO</td>\n",
       "      <td>17.0</td>\n",
       "      <td>26006</td>\n",
       "      <td>Limoeiro-PE</td>\n",
       "      <td>-35.546453</td>\n",
       "      <td>-8.012348</td>\n",
       "      <td>Passira</td>\n",
       "      <td>PE</td>\n",
       "      <td>326.757</td>\n",
       "      <td>0</td>\n",
       "    </tr>\n",
       "    <tr>\n",
       "      <th>2</th>\n",
       "      <td>PE</td>\n",
       "      <td>261220</td>\n",
       "      <td>SALGUEIRO</td>\n",
       "      <td>5026</td>\n",
       "      <td>60453</td>\n",
       "      <td>2017</td>\n",
       "      <td>1</td>\n",
       "      <td>91,82</td>\n",
       "      <td>91,82</td>\n",
       "      <td>0.077403</td>\n",
       "      <td>...</td>\n",
       "      <td>MEDIO</td>\n",
       "      <td>3.0</td>\n",
       "      <td>26011</td>\n",
       "      <td>Salgueiro-PE</td>\n",
       "      <td>-39.089847</td>\n",
       "      <td>-8.129101</td>\n",
       "      <td>Salgueiro</td>\n",
       "      <td>PE</td>\n",
       "      <td>1678.564</td>\n",
       "      <td>1</td>\n",
       "    </tr>\n",
       "    <tr>\n",
       "      <th>3</th>\n",
       "      <td>PB</td>\n",
       "      <td>251274</td>\n",
       "      <td>RIACHÃO</td>\n",
       "      <td>776</td>\n",
       "      <td>3607</td>\n",
       "      <td>2017</td>\n",
       "      <td>1</td>\n",
       "      <td>100</td>\n",
       "      <td>100</td>\n",
       "      <td>1.246145</td>\n",
       "      <td>...</td>\n",
       "      <td>PEQUENO</td>\n",
       "      <td>2.0</td>\n",
       "      <td>25002</td>\n",
       "      <td>2ª Região-PB</td>\n",
       "      <td>-35.647465</td>\n",
       "      <td>-6.541768</td>\n",
       "      <td>Riachão</td>\n",
       "      <td>PB</td>\n",
       "      <td>85.291</td>\n",
       "      <td>0</td>\n",
       "    </tr>\n",
       "    <tr>\n",
       "      <th>4</th>\n",
       "      <td>PA</td>\n",
       "      <td>150307</td>\n",
       "      <td>GARRAFÃO DO NORTE</td>\n",
       "      <td>1137</td>\n",
       "      <td>25363</td>\n",
       "      <td>2017</td>\n",
       "      <td>1</td>\n",
       "      <td>68,06</td>\n",
       "      <td>68,06</td>\n",
       "      <td>1.917779</td>\n",
       "      <td>...</td>\n",
       "      <td>MEDIO</td>\n",
       "      <td>NaN</td>\n",
       "      <td>15008</td>\n",
       "      <td>Metropolitana III-PA</td>\n",
       "      <td>-47.075962</td>\n",
       "      <td>-2.168264</td>\n",
       "      <td>Garrafão do Norte</td>\n",
       "      <td>PA</td>\n",
       "      <td>1608.014</td>\n",
       "      <td>0</td>\n",
       "    </tr>\n",
       "  </tbody>\n",
       "</table>\n",
       "<p>5 rows × 22 columns</p>\n",
       "</div>"
      ],
      "text/plain": [
       "   Uf    Ibge          Municipio  Atendimentos  populacao_estimada   Ano  Mes  \\\n",
       "0  CE  230535             ICAPUÍ          2464               19685  2017    1   \n",
       "1  PE  261050            PASSIRA          4329               28889  2017    1   \n",
       "2  PE  261220          SALGUEIRO          5026               60453  2017    1   \n",
       "3  PB  251274            RIACHÃO           776                3607  2017    1   \n",
       "4  PA  150307  GARRAFÃO DO NORTE          1137               25363  2017    1   \n",
       "\n",
       "  PC_COBERTURA_SF PC_COBERTURA_AB  measure_1f_12  ...  PORTE_MUNICIPIO  \\\n",
       "0             100             100       0.817741  ...          PEQUENO   \n",
       "1             100             100       1.276060  ...            MEDIO   \n",
       "2           91,82           91,82       0.077403  ...            MEDIO   \n",
       "3             100             100       1.246145  ...          PEQUENO   \n",
       "4           68,06           68,06       1.917779  ...            MEDIO   \n",
       "\n",
       "   UBS_Count Cód Região de Saúde  Nome da Região de Saúde       long  \\\n",
       "0        8.0               23007     7ª Região Aracati-CE -37.410463   \n",
       "1       17.0               26006              Limoeiro-PE -35.546453   \n",
       "2        3.0               26011             Salgueiro-PE -39.089847   \n",
       "3        2.0               25002             2ª Região-PB -35.647465   \n",
       "4        NaN               15008     Metropolitana III-PA -47.075962   \n",
       "\n",
       "        lat             NM_MUN  SIGLA  AREA_KM2 Dengue  \n",
       "0 -4.738625             Icapuí     CE   421.440      0  \n",
       "1 -8.012348            Passira     PE   326.757      0  \n",
       "2 -8.129101          Salgueiro     PE  1678.564      1  \n",
       "3 -6.541768            Riachão     PB    85.291      0  \n",
       "4 -2.168264  Garrafão do Norte     PA  1608.014      0  \n",
       "\n",
       "[5 rows x 22 columns]"
      ]
     },
     "execution_count": 2,
     "metadata": {},
     "output_type": "execute_result"
    }
   ],
   "source": [
    "df = pd.read_parquet('/Users/julianeoliveira/Documents/Projects/AESOP/AESOP datalake/Primary Health Care/APS_dengue.parquet', engine='pyarrow')\n",
    "\n",
    "df.head()"
   ]
  },
  {
   "cell_type": "code",
   "execution_count": 4,
   "metadata": {},
   "outputs": [
    {
     "data": {
      "text/plain": [
       "array([2017, 2018, 2019, 2020, 2021, 2022])"
      ]
     },
     "execution_count": 4,
     "metadata": {},
     "output_type": "execute_result"
    }
   ],
   "source": [
    "df.Ano.unique()"
   ]
  },
  {
   "cell_type": "code",
   "execution_count": 6,
   "metadata": {},
   "outputs": [],
   "source": [
    "df_2022 = df[df['Ano'] == 2022]"
   ]
  },
  {
   "cell_type": "code",
   "execution_count": 7,
   "metadata": {},
   "outputs": [
    {
     "data": {
      "text/plain": [
       "136497502"
      ]
     },
     "execution_count": 7,
     "metadata": {},
     "output_type": "execute_result"
    }
   ],
   "source": [
    "df_2022.Atendimentos.sum()"
   ]
  },
  {
   "cell_type": "code",
   "execution_count": 10,
   "metadata": {},
   "outputs": [
    {
     "data": {
      "text/plain": [
       "Mes\n",
       "1    22015800\n",
       "2    20574605\n",
       "3    24286107\n",
       "4    20898356\n",
       "5    25482826\n",
       "6    23239808\n",
       "Name: Atendimentos, dtype: int64"
      ]
     },
     "execution_count": 10,
     "metadata": {},
     "output_type": "execute_result"
    }
   ],
   "source": [
    "df_2022.groupby(['Mes'])['Atendimentos'].sum()"
   ]
  },
  {
   "cell_type": "code",
   "execution_count": 11,
   "metadata": {},
   "outputs": [
    {
     "data": {
      "text/plain": [
       "10597.241473900029"
      ]
     },
     "execution_count": 11,
     "metadata": {},
     "output_type": "execute_result"
    }
   ],
   "source": [
    "22015800*100000/207750291"
   ]
  },
  {
   "cell_type": "code",
   "execution_count": null,
   "metadata": {},
   "outputs": [],
   "source": []
  }
 ],
 "metadata": {
  "kernelspec": {
   "display_name": "Python 3",
   "language": "python",
   "name": "python3"
  },
  "language_info": {
   "codemirror_mode": {
    "name": "ipython",
    "version": 3
   },
   "file_extension": ".py",
   "mimetype": "text/x-python",
   "name": "python",
   "nbconvert_exporter": "python",
   "pygments_lexer": "ipython3",
   "version": "3.8.5"
  }
 },
 "nbformat": 4,
 "nbformat_minor": 4
}
