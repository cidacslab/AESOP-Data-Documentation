{
 "cells": [
  {
   "cell_type": "markdown",
   "metadata": {},
   "source": [
    "# Script to create dengue dataset metadata"
   ]
  },
  {
   "cell_type": "markdown",
   "metadata": {},
   "source": [
    "# Built environment"
   ]
  },
  {
   "cell_type": "code",
   "execution_count": 1,
   "metadata": {},
   "outputs": [],
   "source": [
    "from pyspark import SparkConf, SparkContext\n",
    "from pyspark.sql import SparkSession\n",
    "from pyspark.sql.types import DateType, StringType\n",
    "from pyspark.sql.functions import year, month, col, sum, udf, substring, split, regexp_replace, when\n",
    "import glob as gb\n",
    "#from tqdm import tqdm\n",
    "import re \n",
    "from functools import reduce\n",
    "import numpy as np\n",
    "import sys\n",
    "import glob"
   ]
  },
  {
   "cell_type": "code",
   "execution_count": 2,
   "metadata": {},
   "outputs": [
    {
     "data": {
      "text/html": [
       "\n",
       "            <div>\n",
       "                <p><b>SparkSession - in-memory</b></p>\n",
       "                \n",
       "        <div>\n",
       "            <p><b>SparkContext</b></p>\n",
       "\n",
       "            <p><a href=\"http://julianes-mbp.station:4040\">Spark UI</a></p>\n",
       "\n",
       "            <dl>\n",
       "              <dt>Version</dt>\n",
       "                <dd><code>v3.1.2</code></dd>\n",
       "              <dt>Master</dt>\n",
       "                <dd><code>local[*]</code></dd>\n",
       "              <dt>AppName</dt>\n",
       "                <dd><code>SINAM_dengue_cases</code></dd>\n",
       "            </dl>\n",
       "        </div>\n",
       "        \n",
       "            </div>\n",
       "        "
      ],
      "text/plain": [
       "<pyspark.sql.session.SparkSession at 0x7fbc24a00970>"
      ]
     },
     "execution_count": 2,
     "metadata": {},
     "output_type": "execute_result"
    }
   ],
   "source": [
    "sc = SparkContext()\n",
    "sc.stop()\n",
    "\n",
    "conf = SparkConf().setAppName(\"SINAM_dengue_cases\")\n",
    "\n",
    "conf = (conf.setMaster(\"local[*]\")\n",
    "       .set(\"spark.executor.memory\", \"3GB\")\n",
    "       .set(\"spark.driver.memory\", \"20GB\"))\n",
    "\n",
    "sc = SparkContext(conf = conf)\n",
    "spark = SparkSession(sc)\n",
    "spark"
   ]
  },
  {
   "cell_type": "code",
   "execution_count": 3,
   "metadata": {},
   "outputs": [],
   "source": [
    "#define paths to files\n",
    "spark = SparkSession.builder.appName(\"Dengue\").getOrCreate()\n"
   ]
  },
  {
   "cell_type": "markdown",
   "metadata": {},
   "source": [
    "# Save columns names of each dengue dataset"
   ]
  },
  {
   "cell_type": "code",
   "execution_count": 4,
   "metadata": {
    "scrolled": true
   },
   "outputs": [
    {
     "data": {
      "text/plain": [
       "['/Volumes/My Passport/Datasus/Data_lake/Raw/Bancos_SINAN/DENGON/CSV_format/DENGN07(OF).csv',\n",
       " '/Volumes/My Passport/Datasus/Data_lake/Raw/Bancos_SINAN/DENGON/CSV_format/DENGN08(OF).csv',\n",
       " '/Volumes/My Passport/Datasus/Data_lake/Raw/Bancos_SINAN/DENGON/CSV_format/DENGN09(OF).csv',\n",
       " '/Volumes/My Passport/Datasus/Data_lake/Raw/Bancos_SINAN/DENGON/CSV_format/DENGN10(OF).csv',\n",
       " '/Volumes/My Passport/Datasus/Data_lake/Raw/Bancos_SINAN/DENGON/CSV_format/DENGN11(OF).csv',\n",
       " '/Volumes/My Passport/Datasus/Data_lake/Raw/Bancos_SINAN/DENGON/CSV_format/DENGN12(OF).csv',\n",
       " '/Volumes/My Passport/Datasus/Data_lake/Raw/Bancos_SINAN/DENGON/CSV_format/DENGN13(OF)_a.csv',\n",
       " '/Volumes/My Passport/Datasus/Data_lake/Raw/Bancos_SINAN/DENGON/CSV_format/DENGN13(OF)_b.csv',\n",
       " '/Volumes/My Passport/Datasus/Data_lake/Raw/Bancos_SINAN/DENGON/CSV_format/DENGN14(OF).csv',\n",
       " '/Volumes/My Passport/Datasus/Data_lake/Raw/Bancos_SINAN/DENGON/CSV_format/DENGN15(OF)_A.csv',\n",
       " '/Volumes/My Passport/Datasus/Data_lake/Raw/Bancos_SINAN/DENGON/CSV_format/DENGN15(OF)_B.csv',\n",
       " '/Volumes/My Passport/Datasus/Data_lake/Raw/Bancos_SINAN/DENGON/CSV_format/DENGN15(OF)_C.csv',\n",
       " '/Volumes/My Passport/Datasus/Data_lake/Raw/Bancos_SINAN/DENGON/CSV_format/DENGN16(OF).csv',\n",
       " '/Volumes/My Passport/Datasus/Data_lake/Raw/Bancos_SINAN/DENGON/CSV_format/DENGN17(OF).csv',\n",
       " '/Volumes/My Passport/Datasus/Data_lake/Raw/Bancos_SINAN/DENGON/CSV_format/DENGON18.csv',\n",
       " '/Volumes/My Passport/Datasus/Data_lake/Raw/Bancos_SINAN/DENGON/CSV_format/DENGUE_AC_DF_2019.csv',\n",
       " '/Volumes/My Passport/Datasus/Data_lake/Raw/Bancos_SINAN/DENGON/CSV_format/DENGUE_ES_MA.csv',\n",
       " '/Volumes/My Passport/Datasus/Data_lake/Raw/Bancos_SINAN/DENGON/CSV_format/DENGUE_MG_2019.csv',\n",
       " '/Volumes/My Passport/Datasus/Data_lake/Raw/Bancos_SINAN/DENGON/CSV_format/DENGUE_MS-PE_2019.csv',\n",
       " '/Volumes/My Passport/Datasus/Data_lake/Raw/Bancos_SINAN/DENGON/CSV_format/DENGUE_PI-RO_2019.csv',\n",
       " '/Volumes/My Passport/Datasus/Data_lake/Raw/Bancos_SINAN/DENGON/CSV_format/DENGUE_RR_TO_2019.csv',\n",
       " '/Volumes/My Passport/Datasus/Data_lake/Raw/Bancos_SINAN/DENGON/CSV_format/DENGUE_SP_2019.csv',\n",
       " '/Volumes/My Passport/Datasus/Data_lake/Raw/Bancos_SINAN/DENGON/CSV_format/IDENG00(OF).csv',\n",
       " '/Volumes/My Passport/Datasus/Data_lake/Raw/Bancos_SINAN/DENGON/CSV_format/IDENG01(OF).csv',\n",
       " '/Volumes/My Passport/Datasus/Data_lake/Raw/Bancos_SINAN/DENGON/CSV_format/IDENG02(OF).csv',\n",
       " '/Volumes/My Passport/Datasus/Data_lake/Raw/Bancos_SINAN/DENGON/CSV_format/IDENG03(OF).csv',\n",
       " '/Volumes/My Passport/Datasus/Data_lake/Raw/Bancos_SINAN/DENGON/CSV_format/IDENG04(OF).csv',\n",
       " '/Volumes/My Passport/Datasus/Data_lake/Raw/Bancos_SINAN/DENGON/CSV_format/IDENG05(OF).csv',\n",
       " '/Volumes/My Passport/Datasus/Data_lake/Raw/Bancos_SINAN/DENGON/CSV_format/IDENG06(OF).csv']"
      ]
     },
     "execution_count": 4,
     "metadata": {},
     "output_type": "execute_result"
    }
   ],
   "source": [
    "path = '/Volumes/My Passport/Datasus/Data_lake/Raw/Bancos_SINAN/DENGON/CSV_format/'\n",
    "filenames = glob.glob(path + \"/*.csv\")\n",
    "filenames"
   ]
  },
  {
   "cell_type": "code",
   "execution_count": null,
   "metadata": {},
   "outputs": [],
   "source": [
    "lst_df_columns = []\n",
    "for f in filenames:\n",
    "    print(f)\n",
    "    #df = pd.read_csv(f, low_memory = False, encoding=\"iso-8859-1\")  \n",
    "    df = spark.read.format(\"csv\").option(\"header\",True).load(f)\n",
    "    lst_df_columns.append([f[-15:],df.columns])"
   ]
  },
  {
   "cell_type": "code",
   "execution_count": null,
   "metadata": {},
   "outputs": [],
   "source": [
    "# save columns names\n",
    "#sc.parallelize([lst_df_columns]).saveAsTextFile(\"/Users/julianeoliveira/Desktop/github/AESOP-Data-Analysis/results/dic\")"
   ]
  },
  {
   "cell_type": "code",
   "execution_count": 4,
   "metadata": {},
   "outputs": [
    {
     "data": {
      "text/plain": [
       "['/Users/julianeoliveira/Downloads/juliane/DENGBR21.csv',\n",
       " '/Users/julianeoliveira/Downloads/juliane/DENGBR09.csv',\n",
       " '/Users/julianeoliveira/Downloads/juliane/DENGBR08.csv',\n",
       " '/Users/julianeoliveira/Downloads/juliane/DENGBR20.csv',\n",
       " '/Users/julianeoliveira/Downloads/juliane/DENGBR18.csv',\n",
       " '/Users/julianeoliveira/Downloads/juliane/DENGBR19.csv',\n",
       " '/Users/julianeoliveira/Downloads/juliane/DENGBR00.csv',\n",
       " '/Users/julianeoliveira/Downloads/juliane/DENGBR14.csv',\n",
       " '/Users/julianeoliveira/Downloads/juliane/DENGBR15.csv',\n",
       " '/Users/julianeoliveira/Downloads/juliane/DENGBR01.csv',\n",
       " '/Users/julianeoliveira/Downloads/juliane/DENGBR17.csv',\n",
       " '/Users/julianeoliveira/Downloads/juliane/DENGBR03.csv',\n",
       " '/Users/julianeoliveira/Downloads/juliane/DENGBR02.csv',\n",
       " '/Users/julianeoliveira/Downloads/juliane/DENGBR16.csv',\n",
       " '/Users/julianeoliveira/Downloads/juliane/DENGBR12.csv',\n",
       " '/Users/julianeoliveira/Downloads/juliane/DENGBR06.csv',\n",
       " '/Users/julianeoliveira/Downloads/juliane/DENGBR07.csv',\n",
       " '/Users/julianeoliveira/Downloads/juliane/DENGBR13.csv',\n",
       " '/Users/julianeoliveira/Downloads/juliane/DENGBR05.csv',\n",
       " '/Users/julianeoliveira/Downloads/juliane/DENGBR11.csv',\n",
       " '/Users/julianeoliveira/Downloads/juliane/DENGBR10.csv',\n",
       " '/Users/julianeoliveira/Downloads/juliane/DENGBR04.csv']"
      ]
     },
     "execution_count": 4,
     "metadata": {},
     "output_type": "execute_result"
    }
   ],
   "source": [
    "path = '/Users/julianeoliveira/Downloads/juliane'\n",
    "filenames = glob.glob(path + \"/*.csv\")\n",
    "filenames"
   ]
  },
  {
   "cell_type": "markdown",
   "metadata": {},
   "source": [
    "# Check columns values"
   ]
  },
  {
   "cell_type": "code",
   "execution_count": 5,
   "metadata": {},
   "outputs": [
    {
     "data": {
      "text/plain": [
       "'/Users/julianeoliveira/Downloads/juliane/DENGBR21.csv'"
      ]
     },
     "execution_count": 5,
     "metadata": {},
     "output_type": "execute_result"
    }
   ],
   "source": [
    "filenames[0]"
   ]
  },
  {
   "cell_type": "code",
   "execution_count": 6,
   "metadata": {},
   "outputs": [],
   "source": [
    "df = spark.read.format(\"csv\").option(\"header\",True).load(filenames[0])"
   ]
  },
  {
   "cell_type": "code",
   "execution_count": 9,
   "metadata": {},
   "outputs": [
    {
     "data": {
      "text/plain": [
       "['TP_NOT',\n",
       " 'ID_AGRAVO',\n",
       " 'DT_NOTIFIC',\n",
       " 'SEM_NOT',\n",
       " 'NU_ANO',\n",
       " 'SG_UF_NOT',\n",
       " 'ID_MUNICIP',\n",
       " 'ID_REGIONA',\n",
       " 'ID_UNIDADE',\n",
       " 'DT_SIN_PRI',\n",
       " 'SEM_PRI',\n",
       " 'DT_NASC',\n",
       " 'NU_IDADE_N',\n",
       " 'CS_SEXO',\n",
       " 'CS_GESTANT',\n",
       " 'CS_RACA',\n",
       " 'CS_ESCOL_N',\n",
       " 'SG_UF',\n",
       " 'ID_MN_RESI',\n",
       " 'ID_RG_RESI',\n",
       " 'ID_PAIS',\n",
       " 'DT_INVEST',\n",
       " 'ID_OCUPA_N',\n",
       " 'FEBRE',\n",
       " 'MIALGIA',\n",
       " 'CEFALEIA',\n",
       " 'EXANTEMA',\n",
       " 'VOMITO',\n",
       " 'NAUSEA',\n",
       " 'DOR_COSTAS',\n",
       " 'CONJUNTVIT',\n",
       " 'ARTRITE',\n",
       " 'ARTRALGIA',\n",
       " 'PETEQUIA_N',\n",
       " 'LEUCOPENIA',\n",
       " 'LACO',\n",
       " 'DOR_RETRO',\n",
       " 'DIABETES',\n",
       " 'HEMATOLOG',\n",
       " 'HEPATOPAT',\n",
       " 'RENAL',\n",
       " 'HIPERTENSA',\n",
       " 'ACIDO_PEPT',\n",
       " 'AUTO_IMUNE',\n",
       " 'DT_CHIK_S1',\n",
       " 'DT_CHIK_S2',\n",
       " 'DT_PRNT',\n",
       " 'RES_CHIKS1',\n",
       " 'RES_CHIKS2',\n",
       " 'RESUL_PRNT',\n",
       " 'DT_SORO',\n",
       " 'RESUL_SORO',\n",
       " 'DT_NS1',\n",
       " 'RESUL_NS1',\n",
       " 'DT_VIRAL',\n",
       " 'RESUL_VI_N',\n",
       " 'DT_PCR',\n",
       " 'RESUL_PCR_',\n",
       " 'SOROTIPO',\n",
       " 'HISTOPA_N',\n",
       " 'IMUNOH_N',\n",
       " 'HOSPITALIZ',\n",
       " 'DT_INTERNA',\n",
       " 'UF',\n",
       " 'MUNICIPIO',\n",
       " 'TPAUTOCTO',\n",
       " 'COUFINF',\n",
       " 'COPAISINF',\n",
       " 'COMUNINF',\n",
       " 'CLASSI_FIN',\n",
       " 'CRITERIO',\n",
       " 'DOENCA_TRA',\n",
       " 'CLINC_CHIK',\n",
       " 'EVOLUCAO',\n",
       " 'DT_OBITO',\n",
       " 'DT_ENCERRA',\n",
       " 'ALRM_HIPOT',\n",
       " 'ALRM_PLAQ',\n",
       " 'ALRM_VOM',\n",
       " 'ALRM_SANG',\n",
       " 'ALRM_HEMAT',\n",
       " 'ALRM_ABDOM',\n",
       " 'ALRM_LETAR',\n",
       " 'ALRM_HEPAT',\n",
       " 'ALRM_LIQ',\n",
       " 'DT_ALRM',\n",
       " 'GRAV_PULSO',\n",
       " 'GRAV_CONV',\n",
       " 'GRAV_ENCH',\n",
       " 'GRAV_INSUF',\n",
       " 'GRAV_TAQUI',\n",
       " 'GRAV_EXTRE',\n",
       " 'GRAV_HIPOT',\n",
       " 'GRAV_HEMAT',\n",
       " 'GRAV_MELEN',\n",
       " 'GRAV_METRO',\n",
       " 'GRAV_SANG',\n",
       " 'GRAV_AST',\n",
       " 'GRAV_MIOC',\n",
       " 'GRAV_CONSC',\n",
       " 'GRAV_ORGAO',\n",
       " 'DT_GRAV',\n",
       " 'MANI_HEMOR',\n",
       " 'EPISTAXE',\n",
       " 'GENGIVO',\n",
       " 'METRO',\n",
       " 'PETEQUIAS',\n",
       " 'HEMATURA',\n",
       " 'SANGRAM',\n",
       " 'LACO_N',\n",
       " 'PLASMATICO',\n",
       " 'EVIDENCIA',\n",
       " 'PLAQ_MENOR',\n",
       " 'CON_FHD',\n",
       " 'COMPLICA',\n",
       " 'TP_SISTEMA',\n",
       " 'NDUPLIC_N',\n",
       " 'CS_FLXRET',\n",
       " 'FLXRECEBI']"
      ]
     },
     "execution_count": 9,
     "metadata": {},
     "output_type": "execute_result"
    }
   ],
   "source": [
    "df.columns"
   ]
  },
  {
   "cell_type": "code",
   "execution_count": 11,
   "metadata": {},
   "outputs": [
    {
     "name": "stdout",
     "output_type": "stream",
     "text": [
      "+--------+\n",
      "|SOROTIPO|\n",
      "+--------+\n",
      "|    b' '|\n",
      "|    b' '|\n",
      "|    b' '|\n",
      "|    b' '|\n",
      "|    b' '|\n",
      "+--------+\n",
      "only showing top 5 rows\n",
      "\n"
     ]
    }
   ],
   "source": [
    "df.select(\"SOROTIPO\").show(5)"
   ]
  },
  {
   "cell_type": "code",
   "execution_count": 15,
   "metadata": {},
   "outputs": [
    {
     "name": "stdout",
     "output_type": "stream",
     "text": [
      "+----------+\n",
      "|dt_notific|\n",
      "+----------+\n",
      "|2007-02-19|\n",
      "|2007-02-02|\n",
      "|2007-01-06|\n",
      "|2007-02-24|\n",
      "|2007-02-07|\n",
      "+----------+\n",
      "only showing top 5 rows\n",
      "\n"
     ]
    }
   ],
   "source": [
    "df.select(\"dt_notific\").show(5)"
   ]
  },
  {
   "cell_type": "code",
   "execution_count": 14,
   "metadata": {},
   "outputs": [
    {
     "name": "stdout",
     "output_type": "stream",
     "text": [
      "+---------+\n",
      "|id_agravo|\n",
      "+---------+\n",
      "|     4015|\n",
      "|     4024|\n",
      "|     4020|\n",
      "|     4054|\n",
      "|     4026|\n",
      "|     4018|\n",
      "|     4013|\n",
      "|     4071|\n",
      "|     4030|\n",
      "|     4021|\n",
      "|     4037|\n",
      "|     4053|\n",
      "|     4036|\n",
      "|     4035|\n",
      "|     4019|\n",
      "|     4022|\n",
      "|     4039|\n",
      "|     4051|\n",
      "|     4055|\n",
      "|     4029|\n",
      "|     4023|\n",
      "|     4046|\n",
      "|     4008|\n",
      "|     4056|\n",
      "|     4011|\n",
      "|     4042|\n",
      "|     4038|\n",
      "|     4049|\n",
      "|     4034|\n",
      "|     4025|\n",
      "|     4048|\n",
      "|     4033|\n",
      "|     4047|\n",
      "|     4004|\n",
      "|      A90|\n",
      "|     4028|\n",
      "|     4043|\n",
      "|     4012|\n",
      "|     4045|\n",
      "|     4050|\n",
      "|     4040|\n",
      "|     4027|\n",
      "|     4010|\n",
      "|     4031|\n",
      "|     4061|\n",
      "+---------+\n",
      "\n"
     ]
    }
   ],
   "source": [
    "df.select(\"id_agravo\").distinct().show(100)"
   ]
  },
  {
   "cell_type": "code",
   "execution_count": null,
   "metadata": {},
   "outputs": [],
   "source": []
  }
 ],
 "metadata": {
  "kernelspec": {
   "display_name": "Python 3",
   "language": "python",
   "name": "python3"
  },
  "language_info": {
   "codemirror_mode": {
    "name": "ipython",
    "version": 3
   },
   "file_extension": ".py",
   "mimetype": "text/x-python",
   "name": "python",
   "nbconvert_exporter": "python",
   "pygments_lexer": "ipython3",
   "version": "3.8.5"
  }
 },
 "nbformat": 4,
 "nbformat_minor": 4
}
