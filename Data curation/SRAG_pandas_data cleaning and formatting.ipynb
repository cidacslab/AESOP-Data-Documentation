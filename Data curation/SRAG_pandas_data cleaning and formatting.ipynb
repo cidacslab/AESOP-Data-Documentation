{
 "cells": [
  {
   "cell_type": "code",
   "execution_count": 2,
   "metadata": {},
   "outputs": [
    {
     "data": {
      "application/javascript": [
       "$.getScript('https://kmahelona.github.io/ipython_notebook_goodies/ipython_notebook_toc.js')\n"
      ],
      "text/plain": [
       "<IPython.core.display.Javascript object>"
      ]
     },
     "metadata": {},
     "output_type": "display_data"
    }
   ],
   "source": [
    "%%javascript\n",
    "$.getScript('https://kmahelona.github.io/ipython_notebook_goodies/ipython_notebook_toc.js')"
   ]
  },
  {
   "cell_type": "markdown",
   "metadata": {},
   "source": [
    "# Author: Juliane F Oliveira"
   ]
  },
  {
   "cell_type": "markdown",
   "metadata": {},
   "source": [
    "<h1 id=\"tocheading\">Table of Contents</h1>\n",
    "<div id=\"toc\"></div>"
   ]
  },
  {
   "cell_type": "code",
   "execution_count": 4,
   "metadata": {},
   "outputs": [],
   "source": [
    "import pandas as pd\n",
    "import numpy as np\n",
    "import matplotlib.pyplot as plt\n",
    "from datetime import datetime"
   ]
  },
  {
   "cell_type": "markdown",
   "metadata": {},
   "source": [
    "# Read data"
   ]
  },
  {
   "cell_type": "code",
   "execution_count": 5,
   "metadata": {},
   "outputs": [],
   "source": [
    "df = pd.read_csv('/Users/julianeoliveira/Documents/Projects/AESOP/AESOP datalake/Filtered_raw/srag_2009_2022.csv', low_memory=False)"
   ]
  },
  {
   "cell_type": "code",
   "execution_count": 6,
   "metadata": {
    "scrolled": false
   },
   "outputs": [
    {
     "data": {
      "text/html": [
       "<div>\n",
       "<style scoped>\n",
       "    .dataframe tbody tr th:only-of-type {\n",
       "        vertical-align: middle;\n",
       "    }\n",
       "\n",
       "    .dataframe tbody tr th {\n",
       "        vertical-align: top;\n",
       "    }\n",
       "\n",
       "    .dataframe thead th {\n",
       "        text-align: right;\n",
       "    }\n",
       "</style>\n",
       "<table border=\"1\" class=\"dataframe\">\n",
       "  <thead>\n",
       "    <tr style=\"text-align: right;\">\n",
       "      <th></th>\n",
       "      <th>ano</th>\n",
       "      <th>sg_uf</th>\n",
       "      <th>sg_uf_not</th>\n",
       "      <th>codmunres</th>\n",
       "      <th>codmunnot</th>\n",
       "      <th>dt_sin_pri</th>\n",
       "      <th>dt_notific</th>\n",
       "      <th>sem_not</th>\n",
       "      <th>classi_fin</th>\n",
       "      <th>criterio</th>\n",
       "    </tr>\n",
       "  </thead>\n",
       "  <tbody>\n",
       "    <tr>\n",
       "      <th>0</th>\n",
       "      <td>2011</td>\n",
       "      <td>11</td>\n",
       "      <td>11</td>\n",
       "      <td>110020.0</td>\n",
       "      <td>110020</td>\n",
       "      <td>15/02/2011</td>\n",
       "      <td>21/02/2011</td>\n",
       "      <td>201108</td>\n",
       "      <td>3.0</td>\n",
       "      <td>1.0</td>\n",
       "    </tr>\n",
       "    <tr>\n",
       "      <th>1</th>\n",
       "      <td>2011</td>\n",
       "      <td>11</td>\n",
       "      <td>53</td>\n",
       "      <td>110020.0</td>\n",
       "      <td>530010</td>\n",
       "      <td>29/03/2011</td>\n",
       "      <td>07/04/2011</td>\n",
       "      <td>201114</td>\n",
       "      <td>3.0</td>\n",
       "      <td>1.0</td>\n",
       "    </tr>\n",
       "    <tr>\n",
       "      <th>2</th>\n",
       "      <td>2011</td>\n",
       "      <td>11</td>\n",
       "      <td>11</td>\n",
       "      <td>110020.0</td>\n",
       "      <td>110020</td>\n",
       "      <td>28/04/2011</td>\n",
       "      <td>04/05/2011</td>\n",
       "      <td>201118</td>\n",
       "      <td>3.0</td>\n",
       "      <td>1.0</td>\n",
       "    </tr>\n",
       "    <tr>\n",
       "      <th>3</th>\n",
       "      <td>2011</td>\n",
       "      <td>11</td>\n",
       "      <td>11</td>\n",
       "      <td>110020.0</td>\n",
       "      <td>110020</td>\n",
       "      <td>23/08/2011</td>\n",
       "      <td>27/08/2011</td>\n",
       "      <td>201134</td>\n",
       "      <td>1.0</td>\n",
       "      <td>1.0</td>\n",
       "    </tr>\n",
       "    <tr>\n",
       "      <th>4</th>\n",
       "      <td>2011</td>\n",
       "      <td>11</td>\n",
       "      <td>11</td>\n",
       "      <td>110012.0</td>\n",
       "      <td>110020</td>\n",
       "      <td>18/08/2011</td>\n",
       "      <td>31/08/2011</td>\n",
       "      <td>201135</td>\n",
       "      <td>3.0</td>\n",
       "      <td>1.0</td>\n",
       "    </tr>\n",
       "  </tbody>\n",
       "</table>\n",
       "</div>"
      ],
      "text/plain": [
       "    ano sg_uf sg_uf_not  codmunres  codmunnot  dt_sin_pri  dt_notific  \\\n",
       "0  2011    11        11   110020.0     110020  15/02/2011  21/02/2011   \n",
       "1  2011    11        53   110020.0     530010  29/03/2011  07/04/2011   \n",
       "2  2011    11        11   110020.0     110020  28/04/2011  04/05/2011   \n",
       "3  2011    11        11   110020.0     110020  23/08/2011  27/08/2011   \n",
       "4  2011    11        11   110012.0     110020  18/08/2011  31/08/2011   \n",
       "\n",
       "   sem_not  classi_fin criterio  \n",
       "0   201108         3.0      1.0  \n",
       "1   201114         3.0      1.0  \n",
       "2   201118         3.0      1.0  \n",
       "3   201134         1.0      1.0  \n",
       "4   201135         3.0      1.0  "
      ]
     },
     "execution_count": 6,
     "metadata": {},
     "output_type": "execute_result"
    }
   ],
   "source": [
    "df.head()"
   ]
  },
  {
   "cell_type": "code",
   "execution_count": 7,
   "metadata": {},
   "outputs": [
    {
     "data": {
      "text/plain": [
       "ano             int64\n",
       "sg_uf          object\n",
       "sg_uf_not      object\n",
       "codmunres     float64\n",
       "codmunnot       int64\n",
       "dt_sin_pri     object\n",
       "dt_notific     object\n",
       "sem_not         int64\n",
       "classi_fin    float64\n",
       "criterio       object\n",
       "dtype: object"
      ]
     },
     "execution_count": 7,
     "metadata": {},
     "output_type": "execute_result"
    }
   ],
   "source": [
    "df.dtypes"
   ]
  },
  {
   "cell_type": "code",
   "execution_count": 8,
   "metadata": {},
   "outputs": [
    {
     "data": {
      "text/plain": [
       "criterio      263465\n",
       "classi_fin    176498\n",
       "sg_uf            528\n",
       "codmunres        528\n",
       "dt_notific         1\n",
       "ano                0\n",
       "sg_uf_not          0\n",
       "codmunnot          0\n",
       "dt_sin_pri         0\n",
       "sem_not            0\n",
       "dtype: int64"
      ]
     },
     "execution_count": 8,
     "metadata": {},
     "output_type": "execute_result"
    }
   ],
   "source": [
    "df.isnull().sum().sort_values(ascending = False)"
   ]
  },
  {
   "cell_type": "code",
   "execution_count": 9,
   "metadata": {
    "scrolled": true
   },
   "outputs": [
    {
     "data": {
      "text/plain": [
       "ano           3827108\n",
       "sg_uf         3826580\n",
       "sg_uf_not     3827108\n",
       "codmunres     3826580\n",
       "codmunnot     3827108\n",
       "dt_sin_pri    3827108\n",
       "dt_notific    3827107\n",
       "sem_not       3827108\n",
       "classi_fin    3650610\n",
       "criterio      3563643\n",
       "dtype: int64"
      ]
     },
     "execution_count": 9,
     "metadata": {},
     "output_type": "execute_result"
    }
   ],
   "source": [
    "df.count()"
   ]
  },
  {
   "cell_type": "code",
   "execution_count": 10,
   "metadata": {},
   "outputs": [],
   "source": [
    "df['ones'] = 1"
   ]
  },
  {
   "cell_type": "markdown",
   "metadata": {},
   "source": [
    "# Clean temporal variables"
   ]
  },
  {
   "cell_type": "code",
   "execution_count": 11,
   "metadata": {
    "scrolled": false
   },
   "outputs": [],
   "source": [
    "#df['dt_sin_pri'].unique().tolist()\n",
    "\n",
    "lst = df['dt_sin_pri'].apply(len).tolist()"
   ]
  },
  {
   "cell_type": "code",
   "execution_count": 12,
   "metadata": {},
   "outputs": [
    {
     "data": {
      "text/plain": [
       "array([10, 10, 10, ..., 10, 10, 10])"
      ]
     },
     "execution_count": 12,
     "metadata": {},
     "output_type": "execute_result"
    }
   ],
   "source": [
    "np.array(lst)"
   ]
  },
  {
   "cell_type": "code",
   "execution_count": 13,
   "metadata": {},
   "outputs": [
    {
     "data": {
      "text/plain": [
       "array([10])"
      ]
     },
     "execution_count": 13,
     "metadata": {},
     "output_type": "execute_result"
    }
   ],
   "source": [
    "np.unique(np.array(lst))"
   ]
  },
  {
   "cell_type": "code",
   "execution_count": 14,
   "metadata": {},
   "outputs": [
    {
     "data": {
      "text/plain": [
       "0          15/02/2011\n",
       "1          29/03/2011\n",
       "2          28/04/2011\n",
       "3          23/08/2011\n",
       "4          18/08/2011\n",
       "              ...    \n",
       "3827103    28/12/2021\n",
       "3827104    25/01/2021\n",
       "3827105    19/12/2021\n",
       "3827106    20/12/2021\n",
       "3827107    10/08/2021\n",
       "Name: dt_sin_pri, Length: 3827108, dtype: object"
      ]
     },
     "execution_count": 14,
     "metadata": {},
     "output_type": "execute_result"
    }
   ],
   "source": [
    "df['dt_sin_pri']"
   ]
  },
  {
   "cell_type": "code",
   "execution_count": null,
   "metadata": {},
   "outputs": [],
   "source": [
    "#Aparentemente todos os valores da variável dt_sin_pri tem o mesmo comprimento"
   ]
  },
  {
   "cell_type": "code",
   "execution_count": 15,
   "metadata": {
    "scrolled": true
   },
   "outputs": [],
   "source": [
    "df[[\"dt_sin_pri\", \"dt_notific\"]] = df[[\"dt_sin_pri\", \"dt_notific\"]].apply(pd.to_datetime, infer_datetime_format=True)"
   ]
  },
  {
   "cell_type": "code",
   "execution_count": 16,
   "metadata": {},
   "outputs": [
    {
     "data": {
      "text/plain": [
       "ano                    int64\n",
       "sg_uf                 object\n",
       "sg_uf_not             object\n",
       "codmunres            float64\n",
       "codmunnot              int64\n",
       "dt_sin_pri    datetime64[ns]\n",
       "dt_notific    datetime64[ns]\n",
       "sem_not                int64\n",
       "classi_fin           float64\n",
       "criterio              object\n",
       "ones                   int64\n",
       "dtype: object"
      ]
     },
     "execution_count": 16,
     "metadata": {},
     "output_type": "execute_result"
    }
   ],
   "source": [
    "df.dtypes"
   ]
  },
  {
   "cell_type": "code",
   "execution_count": 17,
   "metadata": {},
   "outputs": [],
   "source": [
    "df['year_sin_pri'] = pd.DatetimeIndex(df['dt_sin_pri']).year\n",
    "df['month_sin_pri'] = pd.DatetimeIndex(df['dt_sin_pri']).month\n",
    "df['year_week_sin_pri'] = df['dt_sin_pri'].dt.strftime('%Y-%V')"
   ]
  },
  {
   "cell_type": "code",
   "execution_count": 18,
   "metadata": {},
   "outputs": [],
   "source": [
    "df['week_sin_pri'] = df['dt_sin_pri'].dt.strftime('%V')"
   ]
  },
  {
   "cell_type": "code",
   "execution_count": 19,
   "metadata": {},
   "outputs": [],
   "source": [
    "df['year_sin_not'] = pd.DatetimeIndex(df['dt_notific']).year\n",
    "df['month_sin_not'] = pd.DatetimeIndex(df['dt_notific']).month\n",
    "df['year_week_sin_not'] = df['dt_notific'].dt.strftime('%Y-%V')"
   ]
  },
  {
   "cell_type": "markdown",
   "metadata": {},
   "source": [
    "# Checkpoint Counts"
   ]
  },
  {
   "cell_type": "code",
   "execution_count": 20,
   "metadata": {},
   "outputs": [
    {
     "data": {
      "text/plain": [
       "ano\n",
       "2009      88083\n",
       "2010      11587\n",
       "2011       4333\n",
       "2012      21106\n",
       "2013      36531\n",
       "2014      19028\n",
       "2015      14525\n",
       "2016      54269\n",
       "2017      29496\n",
       "2018      47876\n",
       "2019      48743\n",
       "2020    1200995\n",
       "2021    1733910\n",
       "2022     516626\n",
       "Name: ones, dtype: int64"
      ]
     },
     "execution_count": 20,
     "metadata": {},
     "output_type": "execute_result"
    }
   ],
   "source": [
    "df.groupby(['ano'])['ones'].count()"
   ]
  },
  {
   "cell_type": "code",
   "execution_count": 21,
   "metadata": {},
   "outputs": [
    {
     "data": {
      "text/plain": [
       "year_sin_pri\n",
       "2009      88250\n",
       "2010      11413\n",
       "2011       4424\n",
       "2012      21181\n",
       "2013      36545\n",
       "2014      18996\n",
       "2015      14553\n",
       "2016      54380\n",
       "2017      29580\n",
       "2018      47802\n",
       "2019      48597\n",
       "2020    1187742\n",
       "2021    1741543\n",
       "2022     522102\n",
       "Name: ones, dtype: int64"
      ]
     },
     "execution_count": 21,
     "metadata": {},
     "output_type": "execute_result"
    }
   ],
   "source": [
    "df.groupby(['year_sin_pri'])['ones'].count()"
   ]
  },
  {
   "cell_type": "code",
   "execution_count": 22,
   "metadata": {
    "scrolled": true
   },
   "outputs": [
    {
     "data": {
      "text/plain": [
       "year_sin_not\n",
       "2009.0      88082\n",
       "2010.0      11542\n",
       "2011.0       4375\n",
       "2012.0      21109\n",
       "2013.0      36531\n",
       "2014.0      19028\n",
       "2015.0      14525\n",
       "2016.0      54269\n",
       "2017.0      29496\n",
       "2018.0      47879\n",
       "2019.0      48493\n",
       "2020.0    1142843\n",
       "2021.0    1762962\n",
       "2022.0     545973\n",
       "Name: ones, dtype: int64"
      ]
     },
     "execution_count": 22,
     "metadata": {},
     "output_type": "execute_result"
    }
   ],
   "source": [
    "df.groupby(['year_sin_not'])['ones'].count()"
   ]
  },
  {
   "cell_type": "code",
   "execution_count": null,
   "metadata": {},
   "outputs": [],
   "source": [
    "# Para o estudo, vou usar a variável data dos primeiros sintomas"
   ]
  },
  {
   "cell_type": "markdown",
   "metadata": {},
   "source": [
    "# Clean UF variables"
   ]
  },
  {
   "cell_type": "code",
   "execution_count": 23,
   "metadata": {},
   "outputs": [
    {
     "data": {
      "text/plain": [
       "array(['11', '12', '13', '14', '15', '16', '17', '21', '22', '23', '24',\n",
       "       '25', '26', '27', '29', '31', '32', '33', '35', '41', '42', '43',\n",
       "       '50', '51', '52', '53', '28', 'MG', 'SP', 'PE', 'MS', 'RJ', 'GO',\n",
       "       'AL', 'PR', 'SC', 'PI', 'RS', 'BA', 'TO', 'AP', 'CE', 'RO', 'AC',\n",
       "       'MT', 'PA', 'AM', 'DF', 'SE', 'ES', 'PB', 'MA', 'RN', nan, 'RR'],\n",
       "      dtype=object)"
      ]
     },
     "execution_count": 23,
     "metadata": {},
     "output_type": "execute_result"
    }
   ],
   "source": [
    "df['sg_uf'].unique()"
   ]
  },
  {
   "cell_type": "code",
   "execution_count": 24,
   "metadata": {},
   "outputs": [
    {
     "data": {
      "text/plain": [
       "array(['11', '53', '12', '52', '13', '35', '15', '31', '16', '42', '17',\n",
       "       '21', '22', '23', '24', '33', '25', '26', '27', '29', '32', '41',\n",
       "       '43', '50', '51', '28', '14', 'MG', 'SP', 'PE', 'MS', 'RJ', 'AL',\n",
       "       'PR', 'SC', 'PI', 'RS', 'BA', 'TO', 'AP', 'CE', 'AC', 'GO', 'MT',\n",
       "       'PA', 'AM', 'DF', 'SE', 'ES', 'PB', 'RO', 'MA', 'RN', 'RR'],\n",
       "      dtype=object)"
      ]
     },
     "execution_count": 24,
     "metadata": {},
     "output_type": "execute_result"
    }
   ],
   "source": [
    "df['sg_uf_not'].unique()"
   ]
  },
  {
   "cell_type": "code",
   "execution_count": 23,
   "metadata": {},
   "outputs": [],
   "source": [
    "for s in ['sg_uf','sg_uf_not']:\n",
    "    df[s] = df[s].replace(['AC'],12)\n",
    "    df[s] = df[s].replace(['AL'],27)\n",
    "    df[s] = df[s].replace(['AP'],16)\n",
    "    df[s] = df[s].replace(['AM'],13)\n",
    "    df[s] = df[s].replace(['BA'],29)\n",
    "    df[s] = df[s].replace(['CE'],23)\n",
    "    df[s] = df[s].replace(['DF'],53)\n",
    "    df[s] = df[s].replace(['ES'],32)\n",
    "    df[s] = df[s].replace(['GO'],52)\n",
    "    df[s] = df[s].replace(['MA'],21)\n",
    "    df[s] = df[s].replace(['MT'],51)\n",
    "    df[s] = df[s].replace(['MS'],50)\n",
    "    df[s] = df[s].replace(['MG'],31)\n",
    "    df[s] = df[s].replace(['PA'],15)\n",
    "    df[s] = df[s].replace(['PB'],25)\n",
    "    df[s] = df[s].replace(['PR'],41)\n",
    "    df[s] = df[s].replace(['PE'],26)\n",
    "    df[s] = df[s].replace(['PI'],22)\n",
    "    df[s] = df[s].replace(['AM'],13)\n",
    "    df[s] = df[s].replace(['RN'],24)\n",
    "    df[s] = df[s].replace(['RS'],43)\n",
    "    df[s] = df[s].replace(['RJ'],33)\n",
    "    df[s] = df[s].replace(['RO'],11)\n",
    "    df[s] = df[s].replace(['RR'],14)\n",
    "    df[s] = df[s].replace(['AM'],13)\n",
    "    df[s] = df[s].replace(['SC'],42)\n",
    "    df[s] = df[s].replace(['SP'],35)\n",
    "    df[s] = df[s].replace(['SE'],28)\n",
    "    df[s] = df[s].replace(['TO'],17)"
   ]
  },
  {
   "cell_type": "code",
   "execution_count": 24,
   "metadata": {},
   "outputs": [],
   "source": [
    "df['sg_uf'] = df['sg_uf'].fillna(0)\n",
    "df['sg_uf'] = df['sg_uf'].astype(int)"
   ]
  },
  {
   "cell_type": "code",
   "execution_count": 19,
   "metadata": {
    "scrolled": true
   },
   "outputs": [
    {
     "data": {
      "text/plain": [
       "array([11, 12, 13, 14, 15, 16, 17, 21, 22, 23, 24, 25, 26, 27, 29, 31, 32,\n",
       "       33, 35, 41, 42, 43, 50, 51, 52, 53, 28,  0])"
      ]
     },
     "execution_count": 19,
     "metadata": {},
     "output_type": "execute_result"
    }
   ],
   "source": [
    "df['sg_uf'].unique()"
   ]
  },
  {
   "cell_type": "code",
   "execution_count": 25,
   "metadata": {},
   "outputs": [],
   "source": [
    "df['sg_uf_not'] = df['sg_uf_not'].fillna(0)\n",
    "df['sg_uf_not'] = df['sg_uf_not'].astype(int)"
   ]
  },
  {
   "cell_type": "code",
   "execution_count": 29,
   "metadata": {
    "scrolled": false
   },
   "outputs": [
    {
     "data": {
      "text/plain": [
       "array([11, 53, 12, 52, 13, 35, 15, 31, 16, 42, 17, 21, 22, 23, 24, 33, 25,\n",
       "       26, 27, 29, 32, 41, 43, 50, 51, 28, 14])"
      ]
     },
     "execution_count": 29,
     "metadata": {},
     "output_type": "execute_result"
    }
   ],
   "source": [
    "df['sg_uf_not'].unique()"
   ]
  },
  {
   "cell_type": "markdown",
   "metadata": {},
   "source": [
    "# Checkpointt counts"
   ]
  },
  {
   "cell_type": "code",
   "execution_count": 12,
   "metadata": {},
   "outputs": [],
   "source": [
    "# Número de casos de SRAG reportados por semana de primeiros sintomas"
   ]
  },
  {
   "cell_type": "code",
   "execution_count": 26,
   "metadata": {
    "scrolled": true
   },
   "outputs": [],
   "source": [
    "dtf = df.groupby(['year_sin_pri','week_sin_pri'])['ones'].sum().reset_index()\n",
    "dtf;"
   ]
  },
  {
   "cell_type": "code",
   "execution_count": 27,
   "metadata": {},
   "outputs": [],
   "source": [
    "dtf1 = dtf[(dtf['year_sin_pri'] == 2020) | (dtf['year_sin_pri'] == 2019)]"
   ]
  },
  {
   "cell_type": "code",
   "execution_count": 28,
   "metadata": {},
   "outputs": [
    {
     "data": {
      "text/html": [
       "<div>\n",
       "<style scoped>\n",
       "    .dataframe tbody tr th:only-of-type {\n",
       "        vertical-align: middle;\n",
       "    }\n",
       "\n",
       "    .dataframe tbody tr th {\n",
       "        vertical-align: top;\n",
       "    }\n",
       "\n",
       "    .dataframe thead th {\n",
       "        text-align: right;\n",
       "    }\n",
       "</style>\n",
       "<table border=\"1\" class=\"dataframe\">\n",
       "  <thead>\n",
       "    <tr style=\"text-align: right;\">\n",
       "      <th></th>\n",
       "      <th>year_week_sin_pri</th>\n",
       "      <th>ones</th>\n",
       "    </tr>\n",
       "  </thead>\n",
       "  <tbody>\n",
       "    <tr>\n",
       "      <th>0</th>\n",
       "      <td>2009-17</td>\n",
       "      <td>14</td>\n",
       "    </tr>\n",
       "    <tr>\n",
       "      <th>1</th>\n",
       "      <td>2009-18</td>\n",
       "      <td>15</td>\n",
       "    </tr>\n",
       "    <tr>\n",
       "      <th>2</th>\n",
       "      <td>2009-19</td>\n",
       "      <td>31</td>\n",
       "    </tr>\n",
       "    <tr>\n",
       "      <th>3</th>\n",
       "      <td>2009-20</td>\n",
       "      <td>19</td>\n",
       "    </tr>\n",
       "    <tr>\n",
       "      <th>4</th>\n",
       "      <td>2009-21</td>\n",
       "      <td>19</td>\n",
       "    </tr>\n",
       "    <tr>\n",
       "      <th>...</th>\n",
       "      <td>...</td>\n",
       "      <td>...</td>\n",
       "    </tr>\n",
       "    <tr>\n",
       "      <th>711</th>\n",
       "      <td>2022-46</td>\n",
       "      <td>7883</td>\n",
       "    </tr>\n",
       "    <tr>\n",
       "      <th>712</th>\n",
       "      <td>2022-47</td>\n",
       "      <td>6916</td>\n",
       "    </tr>\n",
       "    <tr>\n",
       "      <th>713</th>\n",
       "      <td>2022-48</td>\n",
       "      <td>5358</td>\n",
       "    </tr>\n",
       "    <tr>\n",
       "      <th>714</th>\n",
       "      <td>2022-49</td>\n",
       "      <td>1374</td>\n",
       "    </tr>\n",
       "    <tr>\n",
       "      <th>715</th>\n",
       "      <td>2022-52</td>\n",
       "      <td>9580</td>\n",
       "    </tr>\n",
       "  </tbody>\n",
       "</table>\n",
       "<p>716 rows × 2 columns</p>\n",
       "</div>"
      ],
      "text/plain": [
       "    year_week_sin_pri  ones\n",
       "0             2009-17    14\n",
       "1             2009-18    15\n",
       "2             2009-19    31\n",
       "3             2009-20    19\n",
       "4             2009-21    19\n",
       "..                ...   ...\n",
       "711           2022-46  7883\n",
       "712           2022-47  6916\n",
       "713           2022-48  5358\n",
       "714           2022-49  1374\n",
       "715           2022-52  9580\n",
       "\n",
       "[716 rows x 2 columns]"
      ]
     },
     "execution_count": 28,
     "metadata": {},
     "output_type": "execute_result"
    }
   ],
   "source": [
    "dtf2 = df.groupby(['year_week_sin_pri'])['ones'].sum().reset_index()\n",
    "dtf2\n"
   ]
  },
  {
   "cell_type": "code",
   "execution_count": 32,
   "metadata": {},
   "outputs": [
    {
     "data": {
      "image/png": "[encoded data removed]",
      "text/plain": [
       "<Figure size 1080x216 with 1 Axes>"
      ]
     },
     "metadata": {
      "needs_background": "light"
     },
     "output_type": "display_data"
    }
   ],
   "source": [
    "time = dtf2['year_week_sin_pri']\n",
    "\n",
    "cases = dtf2['ones']\n",
    "\n",
    "fig = plt.figure(figsize =(15, 3))\n",
    "\n",
    "plt.bar(time, cases)\n",
    "\n",
    "plt.legend(labels=['Brazil'])\n",
    "\n",
    "plt.tight_layout()\n",
    "\n",
    "plt.grid(axis = 'y',linestyle = '--')"
   ]
  },
  {
   "cell_type": "code",
   "execution_count": 31,
   "metadata": {},
   "outputs": [
    {
     "data": {
      "image/png": "[encoded data removed]",
      "text/plain": [
       "<Figure size 1080x216 with 1 Axes>"
      ]
     },
     "metadata": {
      "needs_background": "light"
     },
     "output_type": "display_data"
    }
   ],
   "source": [
    "time = dtf1['week_sin_pri']\n",
    "\n",
    "cases = dtf1['ones']\n",
    "\n",
    "fig = plt.figure(figsize =(15, 3))\n",
    "\n",
    "plt.bar(time, cases)\n",
    "\n",
    "plt.legend(labels=['Brazil'])\n",
    "plt.grid(linestyle = '--')\n",
    "\n",
    "plt.tight_layout()\n"
   ]
  },
  {
   "cell_type": "code",
   "execution_count": 33,
   "metadata": {},
   "outputs": [],
   "source": [
    "data0 = df.groupby(['sg_uf','dt_sin_pri'])['ones'].sum().reset_index()"
   ]
  },
  {
   "cell_type": "code",
   "execution_count": 34,
   "metadata": {
    "scrolled": true
   },
   "outputs": [
    {
     "data": {
      "text/html": [
       "<div>\n",
       "<style scoped>\n",
       "    .dataframe tbody tr th:only-of-type {\n",
       "        vertical-align: middle;\n",
       "    }\n",
       "\n",
       "    .dataframe tbody tr th {\n",
       "        vertical-align: top;\n",
       "    }\n",
       "\n",
       "    .dataframe thead th {\n",
       "        text-align: right;\n",
       "    }\n",
       "</style>\n",
       "<table border=\"1\" class=\"dataframe\">\n",
       "  <thead>\n",
       "    <tr style=\"text-align: right;\">\n",
       "      <th></th>\n",
       "      <th>sg_uf</th>\n",
       "      <th>dt_sin_pri</th>\n",
       "      <th>ones</th>\n",
       "    </tr>\n",
       "  </thead>\n",
       "  <tbody>\n",
       "    <tr>\n",
       "      <th>49167</th>\n",
       "      <td>35</td>\n",
       "      <td>2020-02-29</td>\n",
       "      <td>50</td>\n",
       "    </tr>\n",
       "    <tr>\n",
       "      <th>49168</th>\n",
       "      <td>35</td>\n",
       "      <td>2020-03-01</td>\n",
       "      <td>108</td>\n",
       "    </tr>\n",
       "    <tr>\n",
       "      <th>49169</th>\n",
       "      <td>35</td>\n",
       "      <td>2020-03-02</td>\n",
       "      <td>86</td>\n",
       "    </tr>\n",
       "    <tr>\n",
       "      <th>49170</th>\n",
       "      <td>35</td>\n",
       "      <td>2020-03-03</td>\n",
       "      <td>102</td>\n",
       "    </tr>\n",
       "    <tr>\n",
       "      <th>49171</th>\n",
       "      <td>35</td>\n",
       "      <td>2020-03-04</td>\n",
       "      <td>75</td>\n",
       "    </tr>\n",
       "    <tr>\n",
       "      <th>49172</th>\n",
       "      <td>35</td>\n",
       "      <td>2020-03-05</td>\n",
       "      <td>88</td>\n",
       "    </tr>\n",
       "    <tr>\n",
       "      <th>49173</th>\n",
       "      <td>35</td>\n",
       "      <td>2020-03-06</td>\n",
       "      <td>114</td>\n",
       "    </tr>\n",
       "    <tr>\n",
       "      <th>49174</th>\n",
       "      <td>35</td>\n",
       "      <td>2020-03-07</td>\n",
       "      <td>117</td>\n",
       "    </tr>\n",
       "    <tr>\n",
       "      <th>49175</th>\n",
       "      <td>35</td>\n",
       "      <td>2020-03-08</td>\n",
       "      <td>158</td>\n",
       "    </tr>\n",
       "    <tr>\n",
       "      <th>49176</th>\n",
       "      <td>35</td>\n",
       "      <td>2020-03-09</td>\n",
       "      <td>215</td>\n",
       "    </tr>\n",
       "    <tr>\n",
       "      <th>49177</th>\n",
       "      <td>35</td>\n",
       "      <td>2020-03-10</td>\n",
       "      <td>291</td>\n",
       "    </tr>\n",
       "    <tr>\n",
       "      <th>49178</th>\n",
       "      <td>35</td>\n",
       "      <td>2020-03-11</td>\n",
       "      <td>269</td>\n",
       "    </tr>\n",
       "    <tr>\n",
       "      <th>49179</th>\n",
       "      <td>35</td>\n",
       "      <td>2020-03-12</td>\n",
       "      <td>377</td>\n",
       "    </tr>\n",
       "    <tr>\n",
       "      <th>49180</th>\n",
       "      <td>35</td>\n",
       "      <td>2020-03-13</td>\n",
       "      <td>444</td>\n",
       "    </tr>\n",
       "    <tr>\n",
       "      <th>49181</th>\n",
       "      <td>35</td>\n",
       "      <td>2020-03-14</td>\n",
       "      <td>513</td>\n",
       "    </tr>\n",
       "    <tr>\n",
       "      <th>49182</th>\n",
       "      <td>35</td>\n",
       "      <td>2020-03-15</td>\n",
       "      <td>649</td>\n",
       "    </tr>\n",
       "    <tr>\n",
       "      <th>49183</th>\n",
       "      <td>35</td>\n",
       "      <td>2020-03-16</td>\n",
       "      <td>773</td>\n",
       "    </tr>\n",
       "    <tr>\n",
       "      <th>49184</th>\n",
       "      <td>35</td>\n",
       "      <td>2020-03-17</td>\n",
       "      <td>728</td>\n",
       "    </tr>\n",
       "    <tr>\n",
       "      <th>49185</th>\n",
       "      <td>35</td>\n",
       "      <td>2020-03-18</td>\n",
       "      <td>844</td>\n",
       "    </tr>\n",
       "    <tr>\n",
       "      <th>49186</th>\n",
       "      <td>35</td>\n",
       "      <td>2020-03-19</td>\n",
       "      <td>862</td>\n",
       "    </tr>\n",
       "    <tr>\n",
       "      <th>49187</th>\n",
       "      <td>35</td>\n",
       "      <td>2020-03-20</td>\n",
       "      <td>1210</td>\n",
       "    </tr>\n",
       "    <tr>\n",
       "      <th>49188</th>\n",
       "      <td>35</td>\n",
       "      <td>2020-03-21</td>\n",
       "      <td>941</td>\n",
       "    </tr>\n",
       "    <tr>\n",
       "      <th>49189</th>\n",
       "      <td>35</td>\n",
       "      <td>2020-03-22</td>\n",
       "      <td>955</td>\n",
       "    </tr>\n",
       "    <tr>\n",
       "      <th>49190</th>\n",
       "      <td>35</td>\n",
       "      <td>2020-03-23</td>\n",
       "      <td>1187</td>\n",
       "    </tr>\n",
       "    <tr>\n",
       "      <th>49191</th>\n",
       "      <td>35</td>\n",
       "      <td>2020-03-24</td>\n",
       "      <td>1014</td>\n",
       "    </tr>\n",
       "    <tr>\n",
       "      <th>49192</th>\n",
       "      <td>35</td>\n",
       "      <td>2020-03-25</td>\n",
       "      <td>979</td>\n",
       "    </tr>\n",
       "    <tr>\n",
       "      <th>49193</th>\n",
       "      <td>35</td>\n",
       "      <td>2020-03-26</td>\n",
       "      <td>1020</td>\n",
       "    </tr>\n",
       "    <tr>\n",
       "      <th>49194</th>\n",
       "      <td>35</td>\n",
       "      <td>2020-03-27</td>\n",
       "      <td>981</td>\n",
       "    </tr>\n",
       "  </tbody>\n",
       "</table>\n",
       "</div>"
      ],
      "text/plain": [
       "       sg_uf dt_sin_pri  ones\n",
       "49167     35 2020-02-29    50\n",
       "49168     35 2020-03-01   108\n",
       "49169     35 2020-03-02    86\n",
       "49170     35 2020-03-03   102\n",
       "49171     35 2020-03-04    75\n",
       "49172     35 2020-03-05    88\n",
       "49173     35 2020-03-06   114\n",
       "49174     35 2020-03-07   117\n",
       "49175     35 2020-03-08   158\n",
       "49176     35 2020-03-09   215\n",
       "49177     35 2020-03-10   291\n",
       "49178     35 2020-03-11   269\n",
       "49179     35 2020-03-12   377\n",
       "49180     35 2020-03-13   444\n",
       "49181     35 2020-03-14   513\n",
       "49182     35 2020-03-15   649\n",
       "49183     35 2020-03-16   773\n",
       "49184     35 2020-03-17   728\n",
       "49185     35 2020-03-18   844\n",
       "49186     35 2020-03-19   862\n",
       "49187     35 2020-03-20  1210\n",
       "49188     35 2020-03-21   941\n",
       "49189     35 2020-03-22   955\n",
       "49190     35 2020-03-23  1187\n",
       "49191     35 2020-03-24  1014\n",
       "49192     35 2020-03-25   979\n",
       "49193     35 2020-03-26  1020\n",
       "49194     35 2020-03-27   981"
      ]
     },
     "execution_count": 34,
     "metadata": {},
     "output_type": "execute_result"
    }
   ],
   "source": [
    "data0[(data0['sg_uf'] == 35)&(data0['dt_sin_pri']> '2020-02-28') & (data0['dt_sin_pri'] < '2020-03-28')]"
   ]
  },
  {
   "cell_type": "code",
   "execution_count": 35,
   "metadata": {},
   "outputs": [
    {
     "data": {
      "image/png": "[encoded data removed]",
      "text/plain": [
       "<Figure size 720x216 with 1 Axes>"
      ]
     },
     "metadata": {
      "needs_background": "light"
     },
     "output_type": "display_data"
    }
   ],
   "source": [
    "uf = 35\n",
    "\n",
    "time = data0[data0['sg_uf'] == uf]['dt_sin_pri']\n",
    "\n",
    "cases = data0[data0['sg_uf'] == uf]['ones']\n",
    "\n",
    "fig = plt.figure(figsize =(10, 3))\n",
    "\n",
    "plt.plot(time, cases)\n",
    "\n",
    "plt.legend(labels=['São Paulo'])\n",
    "\n",
    "plt.tight_layout()"
   ]
  },
  {
   "cell_type": "code",
   "execution_count": 36,
   "metadata": {},
   "outputs": [],
   "source": [
    "data1 = df.groupby(['sg_uf','year_sin_pri','month_sin_pri'])['ones'].sum().reset_index()"
   ]
  },
  {
   "cell_type": "code",
   "execution_count": 37,
   "metadata": {},
   "outputs": [],
   "source": [
    "s = 35\n",
    "data_s = data1[data1['sg_uf'] == s]"
   ]
  },
  {
   "cell_type": "code",
   "execution_count": 38,
   "metadata": {},
   "outputs": [],
   "source": [
    "table = pd.pivot_table(data_s, values='ones', index=['sg_uf', 'year_sin_pri'],\n",
    "                     columns=['month_sin_pri'], aggfunc=np.sum)"
   ]
  },
  {
   "cell_type": "code",
   "execution_count": 39,
   "metadata": {
    "scrolled": false
   },
   "outputs": [
    {
     "data": {
      "text/html": [
       "<div>\n",
       "<style scoped>\n",
       "    .dataframe tbody tr th:only-of-type {\n",
       "        vertical-align: middle;\n",
       "    }\n",
       "\n",
       "    .dataframe tbody tr th {\n",
       "        vertical-align: top;\n",
       "    }\n",
       "\n",
       "    .dataframe thead th {\n",
       "        text-align: right;\n",
       "    }\n",
       "</style>\n",
       "<table border=\"1\" class=\"dataframe\">\n",
       "  <thead>\n",
       "    <tr style=\"text-align: right;\">\n",
       "      <th></th>\n",
       "      <th>month_sin_pri</th>\n",
       "      <th>1</th>\n",
       "      <th>2</th>\n",
       "      <th>3</th>\n",
       "      <th>4</th>\n",
       "      <th>5</th>\n",
       "      <th>6</th>\n",
       "      <th>7</th>\n",
       "      <th>8</th>\n",
       "      <th>9</th>\n",
       "      <th>10</th>\n",
       "      <th>11</th>\n",
       "      <th>12</th>\n",
       "    </tr>\n",
       "    <tr>\n",
       "      <th>sg_uf</th>\n",
       "      <th>year_sin_pri</th>\n",
       "      <th></th>\n",
       "      <th></th>\n",
       "      <th></th>\n",
       "      <th></th>\n",
       "      <th></th>\n",
       "      <th></th>\n",
       "      <th></th>\n",
       "      <th></th>\n",
       "      <th></th>\n",
       "      <th></th>\n",
       "      <th></th>\n",
       "      <th></th>\n",
       "    </tr>\n",
       "  </thead>\n",
       "  <tbody>\n",
       "    <tr>\n",
       "      <th rowspan=\"14\" valign=\"top\">35</th>\n",
       "      <th>2009</th>\n",
       "      <td>NaN</td>\n",
       "      <td>NaN</td>\n",
       "      <td>NaN</td>\n",
       "      <td>8.0</td>\n",
       "      <td>29.0</td>\n",
       "      <td>348.0</td>\n",
       "      <td>3239.0</td>\n",
       "      <td>8906.0</td>\n",
       "      <td>4310.0</td>\n",
       "      <td>1804.0</td>\n",
       "      <td>748.0</td>\n",
       "      <td>389.0</td>\n",
       "    </tr>\n",
       "    <tr>\n",
       "      <th>2010</th>\n",
       "      <td>230.0</td>\n",
       "      <td>205.0</td>\n",
       "      <td>670.0</td>\n",
       "      <td>672.0</td>\n",
       "      <td>554.0</td>\n",
       "      <td>465.0</td>\n",
       "      <td>328.0</td>\n",
       "      <td>209.0</td>\n",
       "      <td>148.0</td>\n",
       "      <td>116.0</td>\n",
       "      <td>77.0</td>\n",
       "      <td>69.0</td>\n",
       "    </tr>\n",
       "    <tr>\n",
       "      <th>2011</th>\n",
       "      <td>52.0</td>\n",
       "      <td>43.0</td>\n",
       "      <td>53.0</td>\n",
       "      <td>73.0</td>\n",
       "      <td>67.0</td>\n",
       "      <td>101.0</td>\n",
       "      <td>88.0</td>\n",
       "      <td>66.0</td>\n",
       "      <td>45.0</td>\n",
       "      <td>68.0</td>\n",
       "      <td>60.0</td>\n",
       "      <td>52.0</td>\n",
       "    </tr>\n",
       "    <tr>\n",
       "      <th>2012</th>\n",
       "      <td>53.0</td>\n",
       "      <td>68.0</td>\n",
       "      <td>99.0</td>\n",
       "      <td>120.0</td>\n",
       "      <td>319.0</td>\n",
       "      <td>756.0</td>\n",
       "      <td>1453.0</td>\n",
       "      <td>833.0</td>\n",
       "      <td>346.0</td>\n",
       "      <td>184.0</td>\n",
       "      <td>111.0</td>\n",
       "      <td>91.0</td>\n",
       "    </tr>\n",
       "    <tr>\n",
       "      <th>2013</th>\n",
       "      <td>125.0</td>\n",
       "      <td>106.0</td>\n",
       "      <td>259.0</td>\n",
       "      <td>1372.0</td>\n",
       "      <td>3256.0</td>\n",
       "      <td>3815.0</td>\n",
       "      <td>2317.0</td>\n",
       "      <td>1374.0</td>\n",
       "      <td>693.0</td>\n",
       "      <td>515.0</td>\n",
       "      <td>326.0</td>\n",
       "      <td>228.0</td>\n",
       "    </tr>\n",
       "    <tr>\n",
       "      <th>2014</th>\n",
       "      <td>207.0</td>\n",
       "      <td>213.0</td>\n",
       "      <td>415.0</td>\n",
       "      <td>830.0</td>\n",
       "      <td>1085.0</td>\n",
       "      <td>828.0</td>\n",
       "      <td>406.0</td>\n",
       "      <td>415.0</td>\n",
       "      <td>335.0</td>\n",
       "      <td>311.0</td>\n",
       "      <td>177.0</td>\n",
       "      <td>123.0</td>\n",
       "    </tr>\n",
       "    <tr>\n",
       "      <th>2015</th>\n",
       "      <td>110.0</td>\n",
       "      <td>182.0</td>\n",
       "      <td>370.0</td>\n",
       "      <td>519.0</td>\n",
       "      <td>811.0</td>\n",
       "      <td>571.0</td>\n",
       "      <td>380.0</td>\n",
       "      <td>294.0</td>\n",
       "      <td>186.0</td>\n",
       "      <td>173.0</td>\n",
       "      <td>153.0</td>\n",
       "      <td>149.0</td>\n",
       "    </tr>\n",
       "    <tr>\n",
       "      <th>2016</th>\n",
       "      <td>189.0</td>\n",
       "      <td>582.0</td>\n",
       "      <td>4763.0</td>\n",
       "      <td>7204.0</td>\n",
       "      <td>3130.0</td>\n",
       "      <td>1858.0</td>\n",
       "      <td>1060.0</td>\n",
       "      <td>671.0</td>\n",
       "      <td>469.0</td>\n",
       "      <td>396.0</td>\n",
       "      <td>331.0</td>\n",
       "      <td>286.0</td>\n",
       "    </tr>\n",
       "    <tr>\n",
       "      <th>2017</th>\n",
       "      <td>245.0</td>\n",
       "      <td>385.0</td>\n",
       "      <td>821.0</td>\n",
       "      <td>1191.0</td>\n",
       "      <td>1443.0</td>\n",
       "      <td>1078.0</td>\n",
       "      <td>813.0</td>\n",
       "      <td>580.0</td>\n",
       "      <td>499.0</td>\n",
       "      <td>504.0</td>\n",
       "      <td>384.0</td>\n",
       "      <td>359.0</td>\n",
       "    </tr>\n",
       "    <tr>\n",
       "      <th>2018</th>\n",
       "      <td>262.0</td>\n",
       "      <td>341.0</td>\n",
       "      <td>602.0</td>\n",
       "      <td>1861.0</td>\n",
       "      <td>2940.0</td>\n",
       "      <td>3141.0</td>\n",
       "      <td>1982.0</td>\n",
       "      <td>1145.0</td>\n",
       "      <td>742.0</td>\n",
       "      <td>715.0</td>\n",
       "      <td>642.0</td>\n",
       "      <td>519.0</td>\n",
       "    </tr>\n",
       "    <tr>\n",
       "      <th>2019</th>\n",
       "      <td>247.0</td>\n",
       "      <td>361.0</td>\n",
       "      <td>995.0</td>\n",
       "      <td>1736.0</td>\n",
       "      <td>2230.0</td>\n",
       "      <td>2305.0</td>\n",
       "      <td>1297.0</td>\n",
       "      <td>925.0</td>\n",
       "      <td>639.0</td>\n",
       "      <td>629.0</td>\n",
       "      <td>467.0</td>\n",
       "      <td>439.0</td>\n",
       "    </tr>\n",
       "    <tr>\n",
       "      <th>2020</th>\n",
       "      <td>469.0</td>\n",
       "      <td>864.0</td>\n",
       "      <td>18672.0</td>\n",
       "      <td>34127.0</td>\n",
       "      <td>47156.0</td>\n",
       "      <td>45275.0</td>\n",
       "      <td>47216.0</td>\n",
       "      <td>37897.0</td>\n",
       "      <td>28440.0</td>\n",
       "      <td>24401.0</td>\n",
       "      <td>31569.0</td>\n",
       "      <td>37976.0</td>\n",
       "    </tr>\n",
       "    <tr>\n",
       "      <th>2021</th>\n",
       "      <td>43504.0</td>\n",
       "      <td>48759.0</td>\n",
       "      <td>91351.0</td>\n",
       "      <td>60569.0</td>\n",
       "      <td>73184.0</td>\n",
       "      <td>57515.0</td>\n",
       "      <td>34234.0</td>\n",
       "      <td>22794.0</td>\n",
       "      <td>17069.0</td>\n",
       "      <td>13685.0</td>\n",
       "      <td>11721.0</td>\n",
       "      <td>19592.0</td>\n",
       "    </tr>\n",
       "    <tr>\n",
       "      <th>2022</th>\n",
       "      <td>40312.0</td>\n",
       "      <td>16196.0</td>\n",
       "      <td>9573.0</td>\n",
       "      <td>8941.0</td>\n",
       "      <td>13615.0</td>\n",
       "      <td>18022.0</td>\n",
       "      <td>11820.0</td>\n",
       "      <td>7880.0</td>\n",
       "      <td>6555.0</td>\n",
       "      <td>7061.0</td>\n",
       "      <td>10237.0</td>\n",
       "      <td>1232.0</td>\n",
       "    </tr>\n",
       "  </tbody>\n",
       "</table>\n",
       "</div>"
      ],
      "text/plain": [
       "month_sin_pri            1        2        3        4        5        6   \\\n",
       "sg_uf year_sin_pri                                                         \n",
       "35    2009              NaN      NaN      NaN      8.0     29.0    348.0   \n",
       "      2010            230.0    205.0    670.0    672.0    554.0    465.0   \n",
       "      2011             52.0     43.0     53.0     73.0     67.0    101.0   \n",
       "      2012             53.0     68.0     99.0    120.0    319.0    756.0   \n",
       "      2013            125.0    106.0    259.0   1372.0   3256.0   3815.0   \n",
       "      2014            207.0    213.0    415.0    830.0   1085.0    828.0   \n",
       "      2015            110.0    182.0    370.0    519.0    811.0    571.0   \n",
       "      2016            189.0    582.0   4763.0   7204.0   3130.0   1858.0   \n",
       "      2017            245.0    385.0    821.0   1191.0   1443.0   1078.0   \n",
       "      2018            262.0    341.0    602.0   1861.0   2940.0   3141.0   \n",
       "      2019            247.0    361.0    995.0   1736.0   2230.0   2305.0   \n",
       "      2020            469.0    864.0  18672.0  34127.0  47156.0  45275.0   \n",
       "      2021          43504.0  48759.0  91351.0  60569.0  73184.0  57515.0   \n",
       "      2022          40312.0  16196.0   9573.0   8941.0  13615.0  18022.0   \n",
       "\n",
       "month_sin_pri            7        8        9        10       11       12  \n",
       "sg_uf year_sin_pri                                                        \n",
       "35    2009           3239.0   8906.0   4310.0   1804.0    748.0    389.0  \n",
       "      2010            328.0    209.0    148.0    116.0     77.0     69.0  \n",
       "      2011             88.0     66.0     45.0     68.0     60.0     52.0  \n",
       "      2012           1453.0    833.0    346.0    184.0    111.0     91.0  \n",
       "      2013           2317.0   1374.0    693.0    515.0    326.0    228.0  \n",
       "      2014            406.0    415.0    335.0    311.0    177.0    123.0  \n",
       "      2015            380.0    294.0    186.0    173.0    153.0    149.0  \n",
       "      2016           1060.0    671.0    469.0    396.0    331.0    286.0  \n",
       "      2017            813.0    580.0    499.0    504.0    384.0    359.0  \n",
       "      2018           1982.0   1145.0    742.0    715.0    642.0    519.0  \n",
       "      2019           1297.0    925.0    639.0    629.0    467.0    439.0  \n",
       "      2020          47216.0  37897.0  28440.0  24401.0  31569.0  37976.0  \n",
       "      2021          34234.0  22794.0  17069.0  13685.0  11721.0  19592.0  \n",
       "      2022          11820.0   7880.0   6555.0   7061.0  10237.0   1232.0  "
      ]
     },
     "execution_count": 39,
     "metadata": {},
     "output_type": "execute_result"
    }
   ],
   "source": [
    "table"
   ]
  },
  {
   "cell_type": "code",
   "execution_count": 40,
   "metadata": {},
   "outputs": [
    {
     "data": {
      "text/html": [
       "<div>\n",
       "<style scoped>\n",
       "    .dataframe tbody tr th:only-of-type {\n",
       "        vertical-align: middle;\n",
       "    }\n",
       "\n",
       "    .dataframe tbody tr th {\n",
       "        vertical-align: top;\n",
       "    }\n",
       "\n",
       "    .dataframe thead th {\n",
       "        text-align: right;\n",
       "    }\n",
       "</style>\n",
       "<table border=\"1\" class=\"dataframe\">\n",
       "  <thead>\n",
       "    <tr style=\"text-align: right;\">\n",
       "      <th></th>\n",
       "      <th>sg_uf</th>\n",
       "      <th>year_sin_pri</th>\n",
       "      <th>month_sin_pri</th>\n",
       "      <th>ones</th>\n",
       "    </tr>\n",
       "  </thead>\n",
       "  <tbody>\n",
       "    <tr>\n",
       "      <th>0</th>\n",
       "      <td>0</td>\n",
       "      <td>2019</td>\n",
       "      <td>2</td>\n",
       "      <td>1</td>\n",
       "    </tr>\n",
       "    <tr>\n",
       "      <th>1</th>\n",
       "      <td>0</td>\n",
       "      <td>2019</td>\n",
       "      <td>3</td>\n",
       "      <td>3</td>\n",
       "    </tr>\n",
       "    <tr>\n",
       "      <th>2</th>\n",
       "      <td>0</td>\n",
       "      <td>2019</td>\n",
       "      <td>4</td>\n",
       "      <td>1</td>\n",
       "    </tr>\n",
       "    <tr>\n",
       "      <th>3</th>\n",
       "      <td>0</td>\n",
       "      <td>2019</td>\n",
       "      <td>5</td>\n",
       "      <td>4</td>\n",
       "    </tr>\n",
       "    <tr>\n",
       "      <th>4</th>\n",
       "      <td>0</td>\n",
       "      <td>2019</td>\n",
       "      <td>6</td>\n",
       "      <td>3</td>\n",
       "    </tr>\n",
       "  </tbody>\n",
       "</table>\n",
       "</div>"
      ],
      "text/plain": [
       "   sg_uf  year_sin_pri  month_sin_pri  ones\n",
       "0      0          2019              2     1\n",
       "1      0          2019              3     3\n",
       "2      0          2019              4     1\n",
       "3      0          2019              5     4\n",
       "4      0          2019              6     3"
      ]
     },
     "execution_count": 40,
     "metadata": {},
     "output_type": "execute_result"
    }
   ],
   "source": [
    "data3 = df.groupby(['sg_uf','year_sin_pri','month_sin_pri'])['ones'].sum().reset_index()\n",
    "data3.head()"
   ]
  },
  {
   "cell_type": "code",
   "execution_count": 41,
   "metadata": {},
   "outputs": [
    {
     "data": {
      "image/png": "[encoded data removed]",
      "text/plain": [
       "<Figure size 1080x216 with 1 Axes>"
      ]
     },
     "metadata": {
      "needs_background": "light"
     },
     "output_type": "display_data"
    }
   ],
   "source": [
    "uf = 35\n",
    "\n",
    "year = 2020\n",
    "\n",
    "time = data3[(data3['sg_uf'] == uf) & (data3['year_sin_pri'] == year)]['month_sin_pri']\n",
    "\n",
    "cases = data3[(data3['sg_uf'] == uf) & (data3['year_sin_pri'] == year)]['ones']\n",
    "\n",
    "fig = plt.figure(figsize =(15, 3))\n",
    "\n",
    "plt.bar(time, cases)\n",
    "\n",
    "plt.legend(labels=['São Paulo'])\n",
    "\n",
    "plt.xticks(rotation=90)\n",
    "\n",
    "plt.grid(linestyle= '--')\n",
    "\n",
    "plt.tight_layout()"
   ]
  },
  {
   "cell_type": "code",
   "execution_count": 42,
   "metadata": {},
   "outputs": [
    {
     "data": {
      "image/png": "[encoded data removed]",
      "text/plain": [
       "<Figure size 1080x216 with 1 Axes>"
      ]
     },
     "metadata": {
      "needs_background": "light"
     },
     "output_type": "display_data"
    }
   ],
   "source": [
    "uf = 35\n",
    "\n",
    "year = 2019\n",
    "\n",
    "time = data3[(data3['sg_uf'] == uf) & (data3['year_sin_pri'] == year)]['month_sin_pri']\n",
    "\n",
    "cases = data3[(data3['sg_uf'] == uf) & (data3['year_sin_pri'] == year)]['ones']\n",
    "\n",
    "fig = plt.figure(figsize =(15, 3))\n",
    "\n",
    "plt.bar(time, cases)\n",
    "\n",
    "plt.legend(labels=['São Paulo'])\n",
    "\n",
    "plt.xticks(rotation=90)\n",
    "\n",
    "plt.grid(linestyle= '--')\n",
    "\n",
    "plt.tight_layout()"
   ]
  },
  {
   "cell_type": "code",
   "execution_count": 26,
   "metadata": {},
   "outputs": [],
   "source": [
    "# UF variable clean"
   ]
  },
  {
   "cell_type": "code",
   "execution_count": 31,
   "metadata": {
    "scrolled": true
   },
   "outputs": [
    {
     "data": {
      "text/plain": [
       "sg_uf\n",
       "0         528\n",
       "11      26829\n",
       "12      11259\n",
       "13      63546\n",
       "14       6405\n",
       "15      89116\n",
       "16       8237\n",
       "17      24397\n",
       "21      42891\n",
       "22      36546\n",
       "23     153809\n",
       "24      35800\n",
       "25      53901\n",
       "26     148182\n",
       "27      39605\n",
       "28      34263\n",
       "29     135815\n",
       "31     420050\n",
       "32      34451\n",
       "33     319424\n",
       "35    1108240\n",
       "41     341851\n",
       "42     147686\n",
       "43     219660\n",
       "50      68737\n",
       "51      60670\n",
       "52     121391\n",
       "53      73819\n",
       "Name: ones, dtype: int64"
      ]
     },
     "execution_count": 31,
     "metadata": {},
     "output_type": "execute_result"
    }
   ],
   "source": [
    "df.groupby(['sg_uf'])['ones'].count()"
   ]
  },
  {
   "cell_type": "code",
   "execution_count": 32,
   "metadata": {},
   "outputs": [
    {
     "data": {
      "text/plain": [
       "sg_uf_not\n",
       "11      26591\n",
       "12      11476\n",
       "13      62186\n",
       "14       6285\n",
       "15      87753\n",
       "16       8408\n",
       "17      24617\n",
       "21      41179\n",
       "22      37985\n",
       "23     154030\n",
       "24      35709\n",
       "25      53800\n",
       "26     148663\n",
       "27      39322\n",
       "28      34690\n",
       "29     135123\n",
       "31     418642\n",
       "32      34294\n",
       "33     319004\n",
       "35    1113319\n",
       "41     342547\n",
       "42     147792\n",
       "43     219219\n",
       "50      68198\n",
       "51      59803\n",
       "52     114112\n",
       "53      82361\n",
       "Name: ones, dtype: int64"
      ]
     },
     "execution_count": 32,
     "metadata": {},
     "output_type": "execute_result"
    }
   ],
   "source": [
    "df.groupby(['sg_uf_not'])['ones'].count()"
   ]
  },
  {
   "cell_type": "markdown",
   "metadata": {},
   "source": [
    "# Clean municipality variables"
   ]
  },
  {
   "cell_type": "code",
   "execution_count": 33,
   "metadata": {},
   "outputs": [
    {
     "data": {
      "text/html": [
       "<div>\n",
       "<style scoped>\n",
       "    .dataframe tbody tr th:only-of-type {\n",
       "        vertical-align: middle;\n",
       "    }\n",
       "\n",
       "    .dataframe tbody tr th {\n",
       "        vertical-align: top;\n",
       "    }\n",
       "\n",
       "    .dataframe thead th {\n",
       "        text-align: right;\n",
       "    }\n",
       "</style>\n",
       "<table border=\"1\" class=\"dataframe\">\n",
       "  <thead>\n",
       "    <tr style=\"text-align: right;\">\n",
       "      <th></th>\n",
       "      <th>ano</th>\n",
       "      <th>sg_uf</th>\n",
       "      <th>sg_uf_not</th>\n",
       "      <th>codmunres</th>\n",
       "      <th>codmunnot</th>\n",
       "      <th>dt_sin_pri</th>\n",
       "      <th>dt_notific</th>\n",
       "      <th>sem_not</th>\n",
       "      <th>classi_fin</th>\n",
       "      <th>criterio</th>\n",
       "      <th>ones</th>\n",
       "      <th>year_sin_pri</th>\n",
       "      <th>month_sin_pri</th>\n",
       "      <th>year_week_sin_pri</th>\n",
       "      <th>year_sin_not</th>\n",
       "      <th>month_sin_not</th>\n",
       "      <th>year_week_sin_not</th>\n",
       "    </tr>\n",
       "  </thead>\n",
       "  <tbody>\n",
       "    <tr>\n",
       "      <th>0</th>\n",
       "      <td>2011</td>\n",
       "      <td>11</td>\n",
       "      <td>11</td>\n",
       "      <td>110020.0</td>\n",
       "      <td>110020</td>\n",
       "      <td>2011-02-15</td>\n",
       "      <td>2011-02-21</td>\n",
       "      <td>201108</td>\n",
       "      <td>3.0</td>\n",
       "      <td>1.0</td>\n",
       "      <td>1</td>\n",
       "      <td>2011</td>\n",
       "      <td>2</td>\n",
       "      <td>2011-07</td>\n",
       "      <td>2011.0</td>\n",
       "      <td>2.0</td>\n",
       "      <td>2011-08</td>\n",
       "    </tr>\n",
       "    <tr>\n",
       "      <th>1</th>\n",
       "      <td>2011</td>\n",
       "      <td>11</td>\n",
       "      <td>53</td>\n",
       "      <td>110020.0</td>\n",
       "      <td>530010</td>\n",
       "      <td>2011-03-29</td>\n",
       "      <td>2011-04-07</td>\n",
       "      <td>201114</td>\n",
       "      <td>3.0</td>\n",
       "      <td>1.0</td>\n",
       "      <td>1</td>\n",
       "      <td>2011</td>\n",
       "      <td>3</td>\n",
       "      <td>2011-13</td>\n",
       "      <td>2011.0</td>\n",
       "      <td>4.0</td>\n",
       "      <td>2011-14</td>\n",
       "    </tr>\n",
       "    <tr>\n",
       "      <th>2</th>\n",
       "      <td>2011</td>\n",
       "      <td>11</td>\n",
       "      <td>11</td>\n",
       "      <td>110020.0</td>\n",
       "      <td>110020</td>\n",
       "      <td>2011-04-28</td>\n",
       "      <td>2011-05-04</td>\n",
       "      <td>201118</td>\n",
       "      <td>3.0</td>\n",
       "      <td>1.0</td>\n",
       "      <td>1</td>\n",
       "      <td>2011</td>\n",
       "      <td>4</td>\n",
       "      <td>2011-17</td>\n",
       "      <td>2011.0</td>\n",
       "      <td>5.0</td>\n",
       "      <td>2011-18</td>\n",
       "    </tr>\n",
       "    <tr>\n",
       "      <th>3</th>\n",
       "      <td>2011</td>\n",
       "      <td>11</td>\n",
       "      <td>11</td>\n",
       "      <td>110020.0</td>\n",
       "      <td>110020</td>\n",
       "      <td>2011-08-23</td>\n",
       "      <td>2011-08-27</td>\n",
       "      <td>201134</td>\n",
       "      <td>1.0</td>\n",
       "      <td>1.0</td>\n",
       "      <td>1</td>\n",
       "      <td>2011</td>\n",
       "      <td>8</td>\n",
       "      <td>2011-34</td>\n",
       "      <td>2011.0</td>\n",
       "      <td>8.0</td>\n",
       "      <td>2011-34</td>\n",
       "    </tr>\n",
       "    <tr>\n",
       "      <th>4</th>\n",
       "      <td>2011</td>\n",
       "      <td>11</td>\n",
       "      <td>11</td>\n",
       "      <td>110012.0</td>\n",
       "      <td>110020</td>\n",
       "      <td>2011-08-18</td>\n",
       "      <td>2011-08-31</td>\n",
       "      <td>201135</td>\n",
       "      <td>3.0</td>\n",
       "      <td>1.0</td>\n",
       "      <td>1</td>\n",
       "      <td>2011</td>\n",
       "      <td>8</td>\n",
       "      <td>2011-33</td>\n",
       "      <td>2011.0</td>\n",
       "      <td>8.0</td>\n",
       "      <td>2011-35</td>\n",
       "    </tr>\n",
       "  </tbody>\n",
       "</table>\n",
       "</div>"
      ],
      "text/plain": [
       "    ano  sg_uf  sg_uf_not  codmunres  codmunnot dt_sin_pri dt_notific  \\\n",
       "0  2011     11         11   110020.0     110020 2011-02-15 2011-02-21   \n",
       "1  2011     11         53   110020.0     530010 2011-03-29 2011-04-07   \n",
       "2  2011     11         11   110020.0     110020 2011-04-28 2011-05-04   \n",
       "3  2011     11         11   110020.0     110020 2011-08-23 2011-08-27   \n",
       "4  2011     11         11   110012.0     110020 2011-08-18 2011-08-31   \n",
       "\n",
       "   sem_not  classi_fin criterio  ones  year_sin_pri  month_sin_pri  \\\n",
       "0   201108         3.0      1.0     1          2011              2   \n",
       "1   201114         3.0      1.0     1          2011              3   \n",
       "2   201118         3.0      1.0     1          2011              4   \n",
       "3   201134         1.0      1.0     1          2011              8   \n",
       "4   201135         3.0      1.0     1          2011              8   \n",
       "\n",
       "  year_week_sin_pri  year_sin_not  month_sin_not year_week_sin_not  \n",
       "0           2011-07        2011.0            2.0           2011-08  \n",
       "1           2011-13        2011.0            4.0           2011-14  \n",
       "2           2011-17        2011.0            5.0           2011-18  \n",
       "3           2011-34        2011.0            8.0           2011-34  \n",
       "4           2011-33        2011.0            8.0           2011-35  "
      ]
     },
     "execution_count": 33,
     "metadata": {},
     "output_type": "execute_result"
    }
   ],
   "source": [
    "df.head()"
   ]
  },
  {
   "cell_type": "code",
   "execution_count": 43,
   "metadata": {},
   "outputs": [],
   "source": [
    "df['codmunres'] = df['codmunres'].fillna(0)\n",
    "df['codmunres'] = df['codmunres'].astype(int)"
   ]
  },
  {
   "cell_type": "code",
   "execution_count": 44,
   "metadata": {},
   "outputs": [],
   "source": [
    "df['codmunnot'] = df['codmunnot'].fillna(0)\n",
    "df['codmunnot'] = df['codmunnot'].astype(int)"
   ]
  },
  {
   "cell_type": "code",
   "execution_count": 45,
   "metadata": {},
   "outputs": [],
   "source": [
    "lst2 = df['codmunres'].astype(str).apply(len).tolist()"
   ]
  },
  {
   "cell_type": "code",
   "execution_count": 46,
   "metadata": {},
   "outputs": [
    {
     "data": {
      "text/plain": [
       "array([1, 6])"
      ]
     },
     "execution_count": 46,
     "metadata": {},
     "output_type": "execute_result"
    }
   ],
   "source": [
    "np.unique(np.array(lst2))"
   ]
  },
  {
   "cell_type": "code",
   "execution_count": 47,
   "metadata": {},
   "outputs": [],
   "source": [
    "lst3 = df['codmunnot'].astype(str).apply(len).tolist()"
   ]
  },
  {
   "cell_type": "code",
   "execution_count": 48,
   "metadata": {},
   "outputs": [
    {
     "data": {
      "text/plain": [
       "array([6])"
      ]
     },
     "execution_count": 48,
     "metadata": {},
     "output_type": "execute_result"
    }
   ],
   "source": [
    "np.unique(np.array(lst3))"
   ]
  },
  {
   "cell_type": "code",
   "execution_count": null,
   "metadata": {},
   "outputs": [],
   "source": [
    "# Municipality variable clean"
   ]
  },
  {
   "cell_type": "markdown",
   "metadata": {},
   "source": [
    "# Clean classification variable"
   ]
  },
  {
   "cell_type": "markdown",
   "metadata": {},
   "source": [
    "### Observe that this variable has 176498*100/3827108 = 4.61% of null values\n",
    "\n",
    "### The cathegories are:\n",
    "\n",
    "1-SRAG por influenza\n",
    "\n",
    "2-SRAG por outro vírus respiratório\n",
    "\n",
    "3-SRAG por outro agente etiológico\n",
    "\n",
    "4-SRAG não especificado\n",
    "\n",
    "5-SRAG por covid-19\n",
    "\n",
    "9-Ignorado"
   ]
  },
  {
   "cell_type": "code",
   "execution_count": 49,
   "metadata": {},
   "outputs": [
    {
     "data": {
      "text/plain": [
       "array([ 3.,  1.,  2., nan,  4.,  9.,  5.])"
      ]
     },
     "execution_count": 49,
     "metadata": {},
     "output_type": "execute_result"
    }
   ],
   "source": [
    "df['classi_fin'].unique()"
   ]
  },
  {
   "cell_type": "code",
   "execution_count": 50,
   "metadata": {},
   "outputs": [],
   "source": [
    "df['classi_fin'] = df['classi_fin'].fillna(0)\n",
    "df['classi_fin'] = df['classi_fin'].astype(int)"
   ]
  },
  {
   "cell_type": "markdown",
   "metadata": {},
   "source": [
    "# Filter variables for aggregation at municipal level"
   ]
  },
  {
   "cell_type": "code",
   "execution_count": 42,
   "metadata": {},
   "outputs": [
    {
     "data": {
      "text/plain": [
       "Index(['ano', 'sg_uf', 'sg_uf_not', 'codmunres', 'codmunnot', 'dt_sin_pri',\n",
       "       'dt_notific', 'sem_not', 'classi_fin', 'criterio', 'ones',\n",
       "       'year_sin_pri', 'month_sin_pri', 'year_week_sin_pri', 'year_sin_not',\n",
       "       'month_sin_not', 'year_week_sin_not'],\n",
       "      dtype='object')"
      ]
     },
     "execution_count": 42,
     "metadata": {},
     "output_type": "execute_result"
    }
   ],
   "source": [
    "df.columns"
   ]
  },
  {
   "cell_type": "code",
   "execution_count": 51,
   "metadata": {},
   "outputs": [],
   "source": [
    "df_agre = df.groupby(['sg_uf','codmunres','dt_sin_pri','year_sin_pri','month_sin_pri','year_week_sin_pri','classi_fin'])['ones'].sum().reset_index()"
   ]
  },
  {
   "cell_type": "code",
   "execution_count": 52,
   "metadata": {},
   "outputs": [
    {
     "data": {
      "text/html": [
       "<div>\n",
       "<style scoped>\n",
       "    .dataframe tbody tr th:only-of-type {\n",
       "        vertical-align: middle;\n",
       "    }\n",
       "\n",
       "    .dataframe tbody tr th {\n",
       "        vertical-align: top;\n",
       "    }\n",
       "\n",
       "    .dataframe thead th {\n",
       "        text-align: right;\n",
       "    }\n",
       "</style>\n",
       "<table border=\"1\" class=\"dataframe\">\n",
       "  <thead>\n",
       "    <tr style=\"text-align: right;\">\n",
       "      <th></th>\n",
       "      <th>sg_uf</th>\n",
       "      <th>codmunres</th>\n",
       "      <th>dt_sin_pri</th>\n",
       "      <th>year_sin_pri</th>\n",
       "      <th>month_sin_pri</th>\n",
       "      <th>year_week_sin_pri</th>\n",
       "      <th>classi_fin</th>\n",
       "      <th>ones</th>\n",
       "    </tr>\n",
       "  </thead>\n",
       "  <tbody>\n",
       "    <tr>\n",
       "      <th>0</th>\n",
       "      <td>0</td>\n",
       "      <td>0</td>\n",
       "      <td>2019-02-18</td>\n",
       "      <td>2019</td>\n",
       "      <td>2</td>\n",
       "      <td>2019-08</td>\n",
       "      <td>4</td>\n",
       "      <td>1</td>\n",
       "    </tr>\n",
       "    <tr>\n",
       "      <th>1</th>\n",
       "      <td>0</td>\n",
       "      <td>0</td>\n",
       "      <td>2019-03-11</td>\n",
       "      <td>2019</td>\n",
       "      <td>3</td>\n",
       "      <td>2019-11</td>\n",
       "      <td>4</td>\n",
       "      <td>1</td>\n",
       "    </tr>\n",
       "    <tr>\n",
       "      <th>2</th>\n",
       "      <td>0</td>\n",
       "      <td>0</td>\n",
       "      <td>2019-03-12</td>\n",
       "      <td>2019</td>\n",
       "      <td>3</td>\n",
       "      <td>2019-11</td>\n",
       "      <td>1</td>\n",
       "      <td>1</td>\n",
       "    </tr>\n",
       "    <tr>\n",
       "      <th>3</th>\n",
       "      <td>0</td>\n",
       "      <td>0</td>\n",
       "      <td>2019-03-28</td>\n",
       "      <td>2019</td>\n",
       "      <td>3</td>\n",
       "      <td>2019-13</td>\n",
       "      <td>1</td>\n",
       "      <td>1</td>\n",
       "    </tr>\n",
       "    <tr>\n",
       "      <th>4</th>\n",
       "      <td>0</td>\n",
       "      <td>0</td>\n",
       "      <td>2019-04-20</td>\n",
       "      <td>2019</td>\n",
       "      <td>4</td>\n",
       "      <td>2019-16</td>\n",
       "      <td>2</td>\n",
       "      <td>1</td>\n",
       "    </tr>\n",
       "  </tbody>\n",
       "</table>\n",
       "</div>"
      ],
      "text/plain": [
       "   sg_uf  codmunres dt_sin_pri  year_sin_pri  month_sin_pri year_week_sin_pri  \\\n",
       "0      0          0 2019-02-18          2019              2           2019-08   \n",
       "1      0          0 2019-03-11          2019              3           2019-11   \n",
       "2      0          0 2019-03-12          2019              3           2019-11   \n",
       "3      0          0 2019-03-28          2019              3           2019-13   \n",
       "4      0          0 2019-04-20          2019              4           2019-16   \n",
       "\n",
       "   classi_fin  ones  \n",
       "0           4     1  \n",
       "1           4     1  \n",
       "2           1     1  \n",
       "3           1     1  \n",
       "4           2     1  "
      ]
     },
     "execution_count": 52,
     "metadata": {},
     "output_type": "execute_result"
    }
   ],
   "source": [
    "df_agre.head()"
   ]
  },
  {
   "cell_type": "code",
   "execution_count": 45,
   "metadata": {},
   "outputs": [
    {
     "data": {
      "text/plain": [
       "classi_fin  year_sin_pri\n",
       "0           2019              1\n",
       "            2020              2\n",
       "            2021              5\n",
       "            2022             11\n",
       "1           2019              8\n",
       "            2020              8\n",
       "            2021              3\n",
       "            2022              2\n",
       "2           2019              6\n",
       "            2020              5\n",
       "            2021              4\n",
       "            2022             17\n",
       "3           2020              1\n",
       "            2021              1\n",
       "            2022              1\n",
       "4           2019             22\n",
       "            2020             42\n",
       "            2021             36\n",
       "            2022             43\n",
       "5           2020             55\n",
       "            2021            211\n",
       "            2022             44\n",
       "Name: ones, dtype: int64"
      ]
     },
     "execution_count": 45,
     "metadata": {},
     "output_type": "execute_result"
    }
   ],
   "source": [
    "df_agre[df_agre['sg_uf']== 0].groupby(['classi_fin','year_sin_pri'])['ones'].sum()"
   ]
  },
  {
   "cell_type": "code",
   "execution_count": 46,
   "metadata": {},
   "outputs": [],
   "source": [
    "# Vamos excluir 'sg_uf'= 0"
   ]
  },
  {
   "cell_type": "code",
   "execution_count": 47,
   "metadata": {},
   "outputs": [],
   "source": [
    "df_agre = df_agre[df_agre['sg_uf']!= 0]"
   ]
  },
  {
   "cell_type": "code",
   "execution_count": 53,
   "metadata": {},
   "outputs": [],
   "source": [
    "df_agre.loc[620078, 'sg_uf'] = 11"
   ]
  },
  {
   "cell_type": "code",
   "execution_count": 50,
   "metadata": {},
   "outputs": [
    {
     "data": {
      "text/html": [
       "<div>\n",
       "<style scoped>\n",
       "    .dataframe tbody tr th:only-of-type {\n",
       "        vertical-align: middle;\n",
       "    }\n",
       "\n",
       "    .dataframe tbody tr th {\n",
       "        vertical-align: top;\n",
       "    }\n",
       "\n",
       "    .dataframe thead th {\n",
       "        text-align: right;\n",
       "    }\n",
       "</style>\n",
       "<table border=\"1\" class=\"dataframe\">\n",
       "  <thead>\n",
       "    <tr style=\"text-align: right;\">\n",
       "      <th></th>\n",
       "      <th>sg_uf</th>\n",
       "      <th>codmunres</th>\n",
       "      <th>dt_sin_pri</th>\n",
       "      <th>year_sin_pri</th>\n",
       "      <th>month_sin_pri</th>\n",
       "      <th>year_week_sin_pri</th>\n",
       "      <th>classi_fin</th>\n",
       "      <th>ones</th>\n",
       "    </tr>\n",
       "  </thead>\n",
       "  <tbody>\n",
       "    <tr>\n",
       "      <th>0</th>\n",
       "      <td>0</td>\n",
       "      <td>0</td>\n",
       "      <td>2019-01-09</td>\n",
       "      <td>2019</td>\n",
       "      <td>1</td>\n",
       "      <td>2019-01</td>\n",
       "      <td>4</td>\n",
       "      <td>1</td>\n",
       "    </tr>\n",
       "    <tr>\n",
       "      <th>1</th>\n",
       "      <td>0</td>\n",
       "      <td>0</td>\n",
       "      <td>2019-02-08</td>\n",
       "      <td>2019</td>\n",
       "      <td>2</td>\n",
       "      <td>2019-05</td>\n",
       "      <td>4</td>\n",
       "      <td>1</td>\n",
       "    </tr>\n",
       "    <tr>\n",
       "      <th>2</th>\n",
       "      <td>0</td>\n",
       "      <td>0</td>\n",
       "      <td>2019-02-18</td>\n",
       "      <td>2019</td>\n",
       "      <td>2</td>\n",
       "      <td>2019-07</td>\n",
       "      <td>4</td>\n",
       "      <td>1</td>\n",
       "    </tr>\n",
       "    <tr>\n",
       "      <th>3</th>\n",
       "      <td>0</td>\n",
       "      <td>0</td>\n",
       "      <td>2019-03-10</td>\n",
       "      <td>2019</td>\n",
       "      <td>3</td>\n",
       "      <td>2019-10</td>\n",
       "      <td>4</td>\n",
       "      <td>1</td>\n",
       "    </tr>\n",
       "    <tr>\n",
       "      <th>4</th>\n",
       "      <td>0</td>\n",
       "      <td>0</td>\n",
       "      <td>2019-03-28</td>\n",
       "      <td>2019</td>\n",
       "      <td>3</td>\n",
       "      <td>2019-12</td>\n",
       "      <td>1</td>\n",
       "      <td>1</td>\n",
       "    </tr>\n",
       "  </tbody>\n",
       "</table>\n",
       "</div>"
      ],
      "text/plain": [
       "   sg_uf  codmunres dt_sin_pri  year_sin_pri  month_sin_pri year_week_sin_pri  \\\n",
       "0      0          0 2019-01-09          2019              1           2019-01   \n",
       "1      0          0 2019-02-08          2019              2           2019-05   \n",
       "2      0          0 2019-02-18          2019              2           2019-07   \n",
       "3      0          0 2019-03-10          2019              3           2019-10   \n",
       "4      0          0 2019-03-28          2019              3           2019-12   \n",
       "\n",
       "   classi_fin  ones  \n",
       "0           4     1  \n",
       "1           4     1  \n",
       "2           4     1  \n",
       "3           4     1  \n",
       "4           1     1  "
      ]
     },
     "execution_count": 50,
     "metadata": {},
     "output_type": "execute_result"
    }
   ],
   "source": [
    "df_agre.head()"
   ]
  },
  {
   "cell_type": "code",
   "execution_count": 52,
   "metadata": {},
   "outputs": [
    {
     "data": {
      "text/html": [
       "<div>\n",
       "<style scoped>\n",
       "    .dataframe tbody tr th:only-of-type {\n",
       "        vertical-align: middle;\n",
       "    }\n",
       "\n",
       "    .dataframe tbody tr th {\n",
       "        vertical-align: top;\n",
       "    }\n",
       "\n",
       "    .dataframe thead th {\n",
       "        text-align: right;\n",
       "    }\n",
       "</style>\n",
       "<table border=\"1\" class=\"dataframe\">\n",
       "  <thead>\n",
       "    <tr style=\"text-align: right;\">\n",
       "      <th></th>\n",
       "      <th>sg_uf</th>\n",
       "      <th>codmunres</th>\n",
       "      <th>dt_sin_pri</th>\n",
       "      <th>year_sin_pri</th>\n",
       "      <th>month_sin_pri</th>\n",
       "      <th>year_week_sin_pri</th>\n",
       "      <th>classi_fin</th>\n",
       "      <th>ones</th>\n",
       "    </tr>\n",
       "  </thead>\n",
       "  <tbody>\n",
       "    <tr>\n",
       "      <th>1508415</th>\n",
       "      <td>53</td>\n",
       "      <td>999999</td>\n",
       "      <td>2021-03-25</td>\n",
       "      <td>2021</td>\n",
       "      <td>3</td>\n",
       "      <td>2021-12</td>\n",
       "      <td>4</td>\n",
       "      <td>1</td>\n",
       "    </tr>\n",
       "    <tr>\n",
       "      <th>1508416</th>\n",
       "      <td>53</td>\n",
       "      <td>999999</td>\n",
       "      <td>2021-10-21</td>\n",
       "      <td>2021</td>\n",
       "      <td>10</td>\n",
       "      <td>2021-42</td>\n",
       "      <td>5</td>\n",
       "      <td>1</td>\n",
       "    </tr>\n",
       "  </tbody>\n",
       "</table>\n",
       "</div>"
      ],
      "text/plain": [
       "         sg_uf  codmunres dt_sin_pri  year_sin_pri  month_sin_pri  \\\n",
       "1508415     53     999999 2021-03-25          2021              3   \n",
       "1508416     53     999999 2021-10-21          2021             10   \n",
       "\n",
       "        year_week_sin_pri  classi_fin  ones  \n",
       "1508415           2021-12           4     1  \n",
       "1508416           2021-42           5     1  "
      ]
     },
     "execution_count": 52,
     "metadata": {},
     "output_type": "execute_result"
    }
   ],
   "source": [
    "df_agre[df_agre['codmunres'] == 999999]"
   ]
  },
  {
   "cell_type": "code",
   "execution_count": 51,
   "metadata": {
    "scrolled": true
   },
   "outputs": [
    {
     "data": {
      "text/html": [
       "<div>\n",
       "<style scoped>\n",
       "    .dataframe tbody tr th:only-of-type {\n",
       "        vertical-align: middle;\n",
       "    }\n",
       "\n",
       "    .dataframe tbody tr th {\n",
       "        vertical-align: top;\n",
       "    }\n",
       "\n",
       "    .dataframe thead th {\n",
       "        text-align: right;\n",
       "    }\n",
       "</style>\n",
       "<table border=\"1\" class=\"dataframe\">\n",
       "  <thead>\n",
       "    <tr style=\"text-align: right;\">\n",
       "      <th></th>\n",
       "      <th>sg_uf</th>\n",
       "      <th>codmunres</th>\n",
       "      <th>dt_sin_pri</th>\n",
       "      <th>year_sin_pri</th>\n",
       "      <th>month_sin_pri</th>\n",
       "      <th>year_week_sin_pri</th>\n",
       "      <th>classi_fin</th>\n",
       "      <th>ones</th>\n",
       "    </tr>\n",
       "  </thead>\n",
       "  <tbody>\n",
       "    <tr>\n",
       "      <th>448</th>\n",
       "      <td>11</td>\n",
       "      <td>110001</td>\n",
       "      <td>2016-05-13</td>\n",
       "      <td>2016</td>\n",
       "      <td>5</td>\n",
       "      <td>2016-19</td>\n",
       "      <td>1</td>\n",
       "      <td>1</td>\n",
       "    </tr>\n",
       "    <tr>\n",
       "      <th>688663</th>\n",
       "      <td>35</td>\n",
       "      <td>110001</td>\n",
       "      <td>2009-09-12</td>\n",
       "      <td>2009</td>\n",
       "      <td>9</td>\n",
       "      <td>2009-36</td>\n",
       "      <td>1</td>\n",
       "      <td>1</td>\n",
       "    </tr>\n",
       "  </tbody>\n",
       "</table>\n",
       "</div>"
      ],
      "text/plain": [
       "        sg_uf  codmunres dt_sin_pri  year_sin_pri  month_sin_pri  \\\n",
       "448        11     110001 2016-05-13          2016              5   \n",
       "688663     35     110001 2009-09-12          2009              9   \n",
       "\n",
       "       year_week_sin_pri  classi_fin  ones  \n",
       "448              2016-19           1     1  \n",
       "688663           2009-36           1     1  "
      ]
     },
     "execution_count": 51,
     "metadata": {},
     "output_type": "execute_result"
    }
   ],
   "source": [
    "df_agre[(df_agre['codmunres'] == 110001) & (df_agre['classi_fin'] == 1)]"
   ]
  },
  {
   "cell_type": "markdown",
   "metadata": {},
   "source": [
    "# Merge data with appropriate geographical identifications"
   ]
  },
  {
   "cell_type": "code",
   "execution_count": 54,
   "metadata": {},
   "outputs": [],
   "source": [
    "codigo_muni = pd.read_excel('/Users/julianeoliveira/Documents/Projects/AESOP/AESOP datalake/DTB_BRASIL_MUNICIPIO.xls')"
   ]
  },
  {
   "cell_type": "code",
   "execution_count": 55,
   "metadata": {},
   "outputs": [
    {
     "data": {
      "text/html": [
       "<div>\n",
       "<style scoped>\n",
       "    .dataframe tbody tr th:only-of-type {\n",
       "        vertical-align: middle;\n",
       "    }\n",
       "\n",
       "    .dataframe tbody tr th {\n",
       "        vertical-align: top;\n",
       "    }\n",
       "\n",
       "    .dataframe thead th {\n",
       "        text-align: right;\n",
       "    }\n",
       "</style>\n",
       "<table border=\"1\" class=\"dataframe\">\n",
       "  <thead>\n",
       "    <tr style=\"text-align: right;\">\n",
       "      <th></th>\n",
       "      <th>UF</th>\n",
       "      <th>Nome_UF</th>\n",
       "      <th>Mesorregião Geográfica</th>\n",
       "      <th>Nome_Mesorregião</th>\n",
       "      <th>Microrregião Geográfica</th>\n",
       "      <th>Nome_Microrregião</th>\n",
       "      <th>Município</th>\n",
       "      <th>Código Município Completo</th>\n",
       "      <th>Nome_Município</th>\n",
       "    </tr>\n",
       "  </thead>\n",
       "  <tbody>\n",
       "    <tr>\n",
       "      <th>0</th>\n",
       "      <td>11</td>\n",
       "      <td>Rondônia</td>\n",
       "      <td>2</td>\n",
       "      <td>Leste Rondoniense</td>\n",
       "      <td>6</td>\n",
       "      <td>Cacoal</td>\n",
       "      <td>15</td>\n",
       "      <td>1100015</td>\n",
       "      <td>Alta Floresta D'Oeste</td>\n",
       "    </tr>\n",
       "    <tr>\n",
       "      <th>1</th>\n",
       "      <td>11</td>\n",
       "      <td>Rondônia</td>\n",
       "      <td>2</td>\n",
       "      <td>Leste Rondoniense</td>\n",
       "      <td>6</td>\n",
       "      <td>Cacoal</td>\n",
       "      <td>379</td>\n",
       "      <td>1100379</td>\n",
       "      <td>Alto Alegre dos Parecis</td>\n",
       "    </tr>\n",
       "    <tr>\n",
       "      <th>2</th>\n",
       "      <td>11</td>\n",
       "      <td>Rondônia</td>\n",
       "      <td>2</td>\n",
       "      <td>Leste Rondoniense</td>\n",
       "      <td>3</td>\n",
       "      <td>Ariquemes</td>\n",
       "      <td>403</td>\n",
       "      <td>1100403</td>\n",
       "      <td>Alto Paraíso</td>\n",
       "    </tr>\n",
       "    <tr>\n",
       "      <th>3</th>\n",
       "      <td>11</td>\n",
       "      <td>Rondônia</td>\n",
       "      <td>2</td>\n",
       "      <td>Leste Rondoniense</td>\n",
       "      <td>5</td>\n",
       "      <td>Alvorada D'Oeste</td>\n",
       "      <td>346</td>\n",
       "      <td>1100346</td>\n",
       "      <td>Alvorada D'Oeste</td>\n",
       "    </tr>\n",
       "    <tr>\n",
       "      <th>4</th>\n",
       "      <td>11</td>\n",
       "      <td>Rondônia</td>\n",
       "      <td>2</td>\n",
       "      <td>Leste Rondoniense</td>\n",
       "      <td>3</td>\n",
       "      <td>Ariquemes</td>\n",
       "      <td>23</td>\n",
       "      <td>1100023</td>\n",
       "      <td>Ariquemes</td>\n",
       "    </tr>\n",
       "  </tbody>\n",
       "</table>\n",
       "</div>"
      ],
      "text/plain": [
       "   UF   Nome_UF  Mesorregião Geográfica   Nome_Mesorregião  \\\n",
       "0  11  Rondônia                       2  Leste Rondoniense   \n",
       "1  11  Rondônia                       2  Leste Rondoniense   \n",
       "2  11  Rondônia                       2  Leste Rondoniense   \n",
       "3  11  Rondônia                       2  Leste Rondoniense   \n",
       "4  11  Rondônia                       2  Leste Rondoniense   \n",
       "\n",
       "   Microrregião Geográfica Nome_Microrregião  Município  \\\n",
       "0                        6            Cacoal         15   \n",
       "1                        6            Cacoal        379   \n",
       "2                        3         Ariquemes        403   \n",
       "3                        5  Alvorada D'Oeste        346   \n",
       "4                        3         Ariquemes         23   \n",
       "\n",
       "   Código Município Completo           Nome_Município  \n",
       "0                    1100015    Alta Floresta D'Oeste  \n",
       "1                    1100379  Alto Alegre dos Parecis  \n",
       "2                    1100403             Alto Paraíso  \n",
       "3                    1100346         Alvorada D'Oeste  \n",
       "4                    1100023                Ariquemes  "
      ]
     },
     "execution_count": 55,
     "metadata": {},
     "output_type": "execute_result"
    }
   ],
   "source": [
    "codigo_muni.head()"
   ]
  },
  {
   "cell_type": "code",
   "execution_count": 56,
   "metadata": {},
   "outputs": [],
   "source": [
    "codigo_muni.rename(columns={'Código Município Completo':'codmuni_full'}, \n",
    "                 inplace=True);"
   ]
  },
  {
   "cell_type": "code",
   "execution_count": 57,
   "metadata": {
    "scrolled": true
   },
   "outputs": [
    {
     "data": {
      "text/plain": [
       "5570"
      ]
     },
     "execution_count": 57,
     "metadata": {},
     "output_type": "execute_result"
    }
   ],
   "source": [
    "codigo_muni['codmuni_full'].nunique()"
   ]
  },
  {
   "cell_type": "code",
   "execution_count": 58,
   "metadata": {},
   "outputs": [],
   "source": [
    "codigo_muni['codmunres'] = codigo_muni.codmuni_full.floordiv(10)"
   ]
  },
  {
   "cell_type": "code",
   "execution_count": 59,
   "metadata": {},
   "outputs": [],
   "source": [
    "data_teste = df_agre.merge(right = codigo_muni, on = [\"codmunres\"])"
   ]
  },
  {
   "cell_type": "code",
   "execution_count": 60,
   "metadata": {},
   "outputs": [
    {
     "data": {
      "text/plain": [
       "5632"
      ]
     },
     "execution_count": 60,
     "metadata": {},
     "output_type": "execute_result"
    }
   ],
   "source": [
    "df_agre['codmunres'].nunique()"
   ]
  },
  {
   "cell_type": "code",
   "execution_count": 61,
   "metadata": {
    "scrolled": true
   },
   "outputs": [
    {
     "data": {
      "text/plain": [
       "5570"
      ]
     },
     "execution_count": 61,
     "metadata": {},
     "output_type": "execute_result"
    }
   ],
   "source": [
    "data_teste['codmunres'].nunique()"
   ]
  },
  {
   "cell_type": "code",
   "execution_count": 62,
   "metadata": {},
   "outputs": [
    {
     "name": "stdout",
     "output_type": "stream",
     "text": [
      "3758047\n",
      "3827108\n"
     ]
    }
   ],
   "source": [
    "print(data_teste['ones'].sum())\n",
    "print(df_agre['ones'].sum())"
   ]
  },
  {
   "cell_type": "code",
   "execution_count": null,
   "metadata": {},
   "outputs": [],
   "source": [
    "(3826580 - 3758047)*100/3826580"
   ]
  },
  {
   "cell_type": "code",
   "execution_count": null,
   "metadata": {},
   "outputs": [],
   "source": [
    "3826580 - 3758047"
   ]
  },
  {
   "cell_type": "code",
   "execution_count": 63,
   "metadata": {},
   "outputs": [
    {
     "data": {
      "text/plain": [
       "<AxesSubplot:xlabel='sg_uf'>"
      ]
     },
     "execution_count": 63,
     "metadata": {},
     "output_type": "execute_result"
    },
    {
     "data": {
      "image/png": "[encoded data removed]",
      "text/plain": [
       "<Figure size 432x288 with 1 Axes>"
      ]
     },
     "metadata": {
      "needs_background": "light"
     },
     "output_type": "display_data"
    }
   ],
   "source": [
    "ax = df_agre.groupby(['sg_uf'])['ones'].sum().reset_index().plot('sg_uf','ones',label = 'df_agre')\n",
    "data_teste.groupby(['sg_uf'])['ones'].sum().reset_index().plot('sg_uf','ones', ax=ax,label='data_teste')"
   ]
  },
  {
   "cell_type": "markdown",
   "metadata": {},
   "source": [
    "# Save data"
   ]
  },
  {
   "cell_type": "code",
   "execution_count": 64,
   "metadata": {},
   "outputs": [],
   "source": [
    "data_teste.to_csv('/Users/julianeoliveira/Documents/Projects/AESOP/AESOP datalake/Clean_ETL/srag_aggregated_2009_2022.csv')"
   ]
  },
  {
   "cell_type": "code",
   "execution_count": null,
   "metadata": {},
   "outputs": [],
   "source": [
    "data_teste"
   ]
  },
  {
   "cell_type": "code",
   "execution_count": null,
   "metadata": {},
   "outputs": [],
   "source": []
  }
 ],
 "metadata": {
  "kernelspec": {
   "display_name": "Python 3",
   "language": "python",
   "name": "python3"
  },
  "language_info": {
   "codemirror_mode": {
    "name": "ipython",
    "version": 3
   },
   "file_extension": ".py",
   "mimetype": "text/x-python",
   "name": "python",
   "nbconvert_exporter": "python",
   "pygments_lexer": "ipython3",
   "version": "3.8.5"
  }
 },
 "nbformat": 4,
 "nbformat_minor": 4
}
