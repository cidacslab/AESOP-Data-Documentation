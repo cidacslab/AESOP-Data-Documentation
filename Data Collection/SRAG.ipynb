{
 "cells": [
  {
   "cell_type": "code",
   "execution_count": 3,
   "metadata": {},
   "outputs": [],
   "source": [
    "import os\n",
    "import pathlib\n",
    "from datetime import datetime\n",
    "import requests\n",
    "from bs4 import BeautifulSoup\n",
    "from tqdm import tqdm\n",
    "import pandas as pd"
   ]
  },
  {
   "cell_type": "code",
   "execution_count": 5,
   "metadata": {},
   "outputs": [
    {
     "name": "stderr",
     "output_type": "stream",
     "text": [
      "https://d26692udehoye.cloudfront.net/SRAG/2009-2012/INFLUD09.csv: 20.7MiB [00:01, 15.5MiB/s]\n",
      "https://d26692udehoye.cloudfront.net/SRAG/2009-2012/INFLUD10.csv: 2.71MiB [00:00, 8.48MiB/s]\n",
      "https://d26692udehoye.cloudfront.net/SRAG/2009-2012/INFLUD11.csv: 1.09MiB [00:00, 5.01MiB/s]\n",
      "https://d26692udehoye.cloudfront.net/SRAG/2009-2012/INFLUD12.csv: 5.53MiB [00:00, 17.1MiB/s]\n",
      "https://d26692udehoye.cloudfront.net/SRAG/2013-2018/INFLUD13.csv: 10.6MiB [00:00, 11.4MiB/s]\n",
      "https://d26692udehoye.cloudfront.net/SRAG/2013-2018/INFLUD14.csv: 5.56MiB [00:00, 14.6MiB/s]\n",
      "https://d26692udehoye.cloudfront.net/SRAG/2013-2018/INFLUD15.csv: 4.25MiB [00:00, 12.1MiB/s]\n",
      "https://d26692udehoye.cloudfront.net/SRAG/2013-2018/INFLUD16.csv: 15.9MiB [00:01, 8.98MiB/s]\n",
      "https://d26692udehoye.cloudfront.net/SRAG/2013-2018/INFLUD17.csv: 8.76MiB [00:00, 20.6MiB/s]\n",
      "https://d26692udehoye.cloudfront.net/SRAG/2013-2018/INFLUD18.csv: 14.0MiB [00:01, 12.0MiB/s]\n",
      "https://d26692udehoye.cloudfront.net/SRAG/2019/INFLUD19.csv: 21.0MiB [00:01, 15.8MiB/s]\n",
      "https://s3.sa-east-1.amazonaws.com/ckan.saude.gov.br/SRAG/2020/INFLUD20-09-01-2023.csv: 623MiB [01:19, 8.20MiB/s] \n",
      "https://s3.sa-east-1.amazonaws.com/ckan.saude.gov.br/SRAG/2021/INFLUD21-09-01-2023.csv: 976MiB [02:14, 7.62MiB/s] \n",
      "https://s3.sa-east-1.amazonaws.com/ckan.saude.gov.br/SRAG/2022/INFLUD22-09-01-2023.csv: 346MiB [00:43, 8.33MiB/s] \n"
     ]
    }
   ],
   "source": [
    "# set folders\n",
    "raw = 'raw_data_srag_version-' + datetime.now().strftime('%Y-%m-%d')\n",
    "output_srag = 'data-sindrome_respiratoria_aguda_grave_incluindo_covid/'\n",
    "\n",
    "pathlib.Path(output_srag).mkdir(parents=True, exist_ok=True)\n",
    "\n",
    "url = 'https://opendatasus.saude.gov.br/dataset/'\n",
    "endpoints = [\n",
    "    'srag-2009-2012',\n",
    "    'srag-2013-2018',\n",
    "    'srag-2019',\n",
    "    'srag-2020',\n",
    "    'srag-2021-e-2022',\n",
    "]\n",
    "\n",
    "for endpoint in endpoints:\n",
    "    r = requests.get(os.path.join(url, endpoint))\n",
    "\n",
    "    soup = BeautifulSoup(r.text, 'html.parser')\n",
    "\n",
    "    tag_a = soup.findAll('a', class_='heading')\n",
    "\n",
    "    links = []\n",
    "    for tag in tag_a:\n",
    "        string = tag.text.lstrip('\\n').rstrip('\\n').lstrip(' ').rstrip(' ')[0:4]\n",
    "        if string == 'SRAG':\n",
    "            links.append('/'.join(tag['href'].split('/')[2:]))\n",
    "\n",
    "\n",
    "    for link in links:\n",
    "        r = requests.get(os.path.join(url, link))\n",
    "\n",
    "        soup = BeautifulSoup(r.text, 'html.parser')\n",
    "\n",
    "        tag_a = soup.findAll('a', class_='resource-url-analytics')\n",
    "\n",
    "        for tag in tag_a:\n",
    "            if tag['href'].endswith('.csv') and tag['href'] == tag.text:\n",
    "                file_csv = requests.get(tag['href'], stream=True)\n",
    "                name = ''.join(tag.text.split('/')[-1:])\n",
    "\n",
    "                with open(os.path.join(output_srag, name), 'wb') as f, tqdm(\n",
    "                    desc=tag.text,\n",
    "                    # total=int(file_csv.headers['Content-Length']),\n",
    "                    unit='iB',\n",
    "                    unit_scale=True,\n",
    "                    unit_divisor=1024\n",
    "                ) as bar:\n",
    "                    for content in file_csv.iter_content(chunk_size=1024):\n",
    "                        size = f.write(content)\n",
    "                        bar.update(size)"
   ]
  },
  {
   "cell_type": "code",
   "execution_count": null,
   "metadata": {},
   "outputs": [],
   "source": []
  }
 ],
 "metadata": {
  "kernelspec": {
   "display_name": "Python 3",
   "language": "python",
   "name": "python3"
  },
  "language_info": {
   "codemirror_mode": {
    "name": "ipython",
    "version": 3
   },
   "file_extension": ".py",
   "mimetype": "text/x-python",
   "name": "python",
   "nbconvert_exporter": "python",
   "pygments_lexer": "ipython3",
   "version": "3.8.5"
  }
 },
 "nbformat": 4,
 "nbformat_minor": 4
}
